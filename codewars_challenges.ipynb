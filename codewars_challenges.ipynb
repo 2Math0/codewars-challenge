{
 "cells": [
  {
   "cell_type": "code",
   "execution_count": 61,
   "metadata": {},
   "outputs": [
    {
     "data": {
      "text/html": [
       "<style>\n",
       "        .code-block{\n",
       "            background-color:#171719;\n",
       "            color:#fff;\n",
       "            padding:12px;\n",
       "            border:solid;\n",
       "            border-radius:10px;\n",
       "        }\n",
       "        .code-string{\n",
       "            color:#b5bd68;\n",
       "        }\n",
       "        .code-comment{\n",
       "            color:#909091;\n",
       "            font-style:italic;\n",
       "        }\n",
       "        .rules{\n",
       "            border: 2px solid #dadada;\n",
       "            border-radius:8px;\n",
       "            background-color:#262729;\n",
       "            padding:2px;\n",
       "            margin:10px;\n",
       "            color:white;\n",
       "        }\n",
       "    </style>"
      ],
      "text/plain": [
       "<IPython.core.display.HTML object>"
      ]
     },
     "execution_count": 61,
     "metadata": {},
     "output_type": "execute_result"
    }
   ],
   "source": [
    "from IPython.core.display import HTML\n",
    "HTML(\"\"\"<style>\n",
    "        .code-block{\n",
    "            background-color:#171719;\n",
    "            color:#fff;\n",
    "            padding:12px;\n",
    "            border:solid;\n",
    "            border-radius:10px;\n",
    "        }\n",
    "        .code-string{\n",
    "            color:#b5bd68;\n",
    "        }\n",
    "        .code-comment{\n",
    "            color:#909091;\n",
    "            font-style:italic;\n",
    "        }\n",
    "        .rules{\n",
    "            border: 2px solid #dadada;\n",
    "            border-radius:8px;\n",
    "            background-color:#262729;\n",
    "            padding:2px;\n",
    "            margin:10px;\n",
    "            color:white;\n",
    "        }\n",
    "    </style>\"\"\")"
   ]
  },
  {
   "cell_type": "markdown",
   "metadata": {},
   "source": [
    "remove the repeated consequence strings in the list"
   ]
  },
  {
   "cell_type": "code",
   "execution_count": 54,
   "metadata": {},
   "outputs": [
    {
     "name": "stdout",
     "output_type": "stream",
     "text": [
      "['a', 'b', 'a', 'c', 'd']\n"
     ]
    }
   ],
   "source": [
    "rpeated_letters=['a','a','a','a','b','b','b','c','c','c']\n",
    "mixed_repeated_letters=['a','a','a','b','b','b','a','a','a','c','d']\n",
    "\n",
    "def filtering(strings):\n",
    "    x = 0\n",
    "    while x < len(strings)-1:\n",
    "        if strings[x] == strings[x+1]:\n",
    "            del strings[x]\n",
    "        else:\n",
    "            x += 1\n",
    "        \n",
    "    return strings\n",
    "        \n",
    "print(filtering(mixed_repeated_letters))"
   ]
  },
  {
   "cell_type": "markdown",
   "metadata": {},
   "source": [
    "count x and o in list return true if they are equivalent .. case insensetive"
   ]
  },
  {
   "cell_type": "code",
   "execution_count": 2,
   "metadata": {},
   "outputs": [
    {
     "name": "stdout",
     "output_type": "stream",
     "text": [
      "False\n"
     ]
    }
   ],
   "source": [
    "strxo='xxxooo' #true\n",
    "strXo='xxXozd' #false\n",
    "\n",
    "def xoCounter(xs):\n",
    "    list_xo = list(xs)\n",
    "    list_xo = [letter.lower() for letter in list_xo]\n",
    "    x = 0\n",
    "    o = 0\n",
    "    for item in list_xo:\n",
    "        if item == 'x':\n",
    "            x += 1\n",
    "        elif item == 'o':\n",
    "            o += 1\n",
    "        else:\n",
    "            pass\n",
    "    \n",
    "    if x == o:\n",
    "        return True\n",
    "    else:\n",
    "        return False\n",
    "print(xoCounter(strXo))"
   ]
  },
  {
   "cell_type": "markdown",
   "metadata": {},
   "source": [
    "define the sum of numbers that are divisible by 3 and 5"
   ]
  },
  {
   "cell_type": "code",
   "execution_count": 6,
   "metadata": {},
   "outputs": [
    {
     "name": "stdout",
     "output_type": "stream",
     "text": [
      "23\n"
     ]
    }
   ],
   "source": [
    "random_num = 10\n",
    "def multipleNum(num):\n",
    "    nnum = [item for item in range(0,num)]\n",
    "    list_multiple = [item for item in nnum if item % 3 == 0 or item % 5 == 0]\n",
    "    sum_multiple = sum(list_multiple)\n",
    "    return sum_multiple\n",
    "print(multipleNum(random_num))"
   ]
  },
  {
   "cell_type": "markdown",
   "metadata": {},
   "source": [
    "colors are labeld from 'a' to 'm', out of these are errors find number of errors out of all given colors"
   ]
  },
  {
   "cell_type": "code",
   "execution_count": 14,
   "metadata": {},
   "outputs": [
    {
     "name": "stdout",
     "output_type": "stream",
     "text": [
      "3/56\n"
     ]
    }
   ],
   "source": [
    "color_alphabet = list(map(chr, range(97, 110)))\n",
    "color_character = \"aaaaaaaaaaaaaaaabbbbbbbbbbbbbbbbbbmmmmmmmmmmmmmmmmmmmxyz\"\n",
    "def colorPrintErrors(s):\n",
    "    list_s = [item for item in s]\n",
    "    errors = [item for item in list_s if item not in color_alphabet]\n",
    "    return f'{len(errors)}/{len(list_s)}'\n",
    "print(colorPrintErrors(color_character))"
   ]
  },
  {
   "cell_type": "markdown",
   "metadata": {},
   "source": [
    "get list of names as input and return the likes as follows; dump if else"
   ]
  },
  {
   "cell_type": "code",
   "execution_count": 1,
   "metadata": {},
   "outputs": [],
   "source": [
    "def likes(names):\n",
    "    \n",
    "    if not names:\n",
    "        return 'no one likes this'\n",
    "    else:\n",
    "        if len(names) > 3:\n",
    "            return f'{names[0]}, {names[1]} and {len(names)-2} others like this'\n",
    "        elif len(names) > 2:\n",
    "            return f'{names[0]}, {names[1]} and {names[2]} like this'\n",
    "        elif len(names) == 2:\n",
    "            return f'{names[0]} and {names[1]} like this'\n",
    "        elif len(names) == 1:\n",
    "            return f'{names[0]} likes this'"
   ]
  },
  {
   "cell_type": "markdown",
   "metadata": {},
   "source": [
    "Given two arrays (lists) measure if one of them items are the square of other one items"
   ]
  },
  {
   "cell_type": "code",
   "execution_count": 87,
   "metadata": {},
   "outputs": [
    {
     "name": "stdout",
     "output_type": "stream",
     "text": [
      "True\n"
     ]
    }
   ],
   "source": [
    "comp1 = [121, 144, 19, 161, 19, 144, 19, 11] \n",
    "comp2 = [121, 14641, 20736, 361, 25921, 361, 20736, 361]\n",
    "def comp(array1, array2):\n",
    "    if array1 is None or array2 is None:\n",
    "        return False\n",
    "    elif array1 is None and array2 is None:\n",
    "        return True\n",
    "    elif len(array1) == len(array2):\n",
    "        for item1 in array1:\n",
    "            for item2 in array2:\n",
    "                index2 = array2.index(item2)\n",
    "                if item1 == item2**0.5 or item1 == item2**2:\n",
    "                    del array2[index2]\n",
    "                    break\n",
    "        if array2 is None or len(array2) == 0 :\n",
    "            return True\n",
    "        else:\n",
    "            return False\n",
    "    else:\n",
    "        return False\n",
    "print(comp(comp1,comp2))"
   ]
  },
  {
   "cell_type": "markdown",
   "metadata": {},
   "source": [
    "define the input if it is square root or not "
   ]
  },
  {
   "cell_type": "code",
   "execution_count": 8,
   "metadata": {},
   "outputs": [
    {
     "name": "stdout",
     "output_type": "stream",
     "text": [
      "True\n"
     ]
    }
   ],
   "source": [
    "def is_square(n):\n",
    "    root = n**0.5\n",
    "    if n > 0 and root % int(root) == 0:\n",
    "        return True\n",
    "    elif n == 0:\n",
    "        return True\n",
    "    else:\n",
    "        return False\n",
    "print(is_square(0))\n",
    "\n",
    "#Best Solution\n",
    "\n",
    "# def is_square(n):    \n",
    "#    return n >= 0 and (n**0.5) % 1 == 0"
   ]
  },
  {
   "cell_type": "markdown",
   "metadata": {},
   "source": [
    "give the digital clock for mentioned seconds"
   ]
  },
  {
   "cell_type": "code",
   "execution_count": 12,
   "metadata": {},
   "outputs": [
    {
     "name": "stdout",
     "output_type": "stream",
     "text": [
      "1:0:0\n"
     ]
    }
   ],
   "source": [
    "seconds = 3600\n",
    "def make_readable(seconds):\n",
    "    return f\"{int(seconds/(60*60))%60}:{int(seconds/60)%60}:{seconds%60}\" if seconds <= 359999 else False\n",
    "\n",
    "print(make_readable(seconds))"
   ]
  },
  {
   "cell_type": "markdown",
   "metadata": {},
   "source": [
    "replace underscores and dashes into camelCasing string"
   ]
  },
  {
   "cell_type": "code",
   "execution_count": 2,
   "metadata": {},
   "outputs": [
    {
     "name": "stdout",
     "output_type": "stream",
     "text": [
      "HiIamThomas\n"
     ]
    }
   ],
   "source": [
    "camelCaseString = 'Hi_Iam_thomas'\n",
    "def to_camel_case(text):\n",
    "    n = 0\n",
    "    string0 = ''\n",
    "    camel_list = [i for i in text]\n",
    "    for item in camel_list:\n",
    "        if item == '_' or item == '-':\n",
    "            del camel_list[n]\n",
    "            camel_list[n] = camel_list[n].upper()\n",
    "            n += 1\n",
    "        else:\n",
    "            n += 1\n",
    "    return string0.join(camel_list)\n",
    "print(to_camel_case(camelCaseString))"
   ]
  },
  {
   "cell_type": "markdown",
   "metadata": {},
   "source": [
    "Find how many letters that are repeated -case insensitive-"
   ]
  },
  {
   "cell_type": "code",
   "execution_count": 1,
   "metadata": {},
   "outputs": [
    {
     "name": "stdout",
     "output_type": "stream",
     "text": [
      "5\n"
     ]
    }
   ],
   "source": [
    "dublicate_str='abaDDBedknkn'\n",
    "def duplicate_count(text):\n",
    "    n = 0\n",
    "    index = 0\n",
    "    txt_list= [i for i in text.lower()]\n",
    "    shouldRestart = True \n",
    "    while shouldRestart:\n",
    "        l = len(txt_list)\n",
    "        shouldRestart = False if l == 0 or l == 1 else True\n",
    "        txt_list[:] = [x for x in txt_list if x != txt_list[index]]\n",
    "        if len(txt_list) != l-1 and l != 0:\n",
    "            n += 1\n",
    "            index=0\n",
    "        else:\n",
    "            index += 1 if len(txt_list) > index+1 else 0\n",
    "    return n\n",
    "\n",
    "print(duplicate_count(dublicate_str))\n"
   ]
  },
  {
   "cell_type": "markdown",
   "metadata": {},
   "source": [
    "sum the digits of the given number and order the numbers list by their summition -if equal then order as string 1 before 2-"
   ]
  },
  {
   "cell_type": "code",
   "execution_count": 32,
   "metadata": {},
   "outputs": [
    {
     "name": "stdout",
     "output_type": "stream",
     "text": [
      "['2000', '1100', '103', '123', '6', '4444', '99']\n"
     ]
    }
   ],
   "source": [
    "weight_sum = \"103 123 6 4444 99 2000 1100\"\n",
    "\n",
    "def order_weight(strng):\n",
    "    dic = {}\n",
    "    weightList = strng.split(' ')\n",
    "    for no in weightList :\n",
    "        value = 0\n",
    "        for digit in no:\n",
    "            value = value + int(digit)\n",
    "        dic.update({no : value})\n",
    "    sorted_dict = dict(sorted(dic.items(), key=lambda item: item[1]))\n",
    "    return list(sorted_dict.keys())\n",
    "\n",
    "#Unsolved \n",
    "\"\"\" two Issues:\n",
    "1.the code remove multible numbers\n",
    "2.cannot order equals as string\n",
    "\"\"\"\n",
    "\n",
    "print(order_weight(weight_sum))    "
   ]
  },
  {
   "cell_type": "markdown",
   "metadata": {},
   "source": [
    "You will be given an array of numbers. You have to sort the odd numbers in ascending order while leaving the even numbers at their original positions."
   ]
  },
  {
   "cell_type": "code",
   "execution_count": 15,
   "metadata": {},
   "outputs": [
    {
     "name": "stdout",
     "output_type": "stream",
     "text": [
      "[1, 1, 5, 11, 2, 11, 111, 0]\n"
     ]
    }
   ],
   "source": [
    "mixed_num = [1, 5, 11, 11, 2, 1, 111, 0]\n",
    "def sort_array(source_array):\n",
    "    odd_list = []\n",
    "    for number in source_array:\n",
    "        if (number%2!=0):\n",
    "            odd_list.append(number)\n",
    "            odd_list.sort()\n",
    "    output = [i for i in source_array]\n",
    "    for number in source_array:\n",
    "#         print(number)\n",
    "        if number%2!=0 :\n",
    "            index = [i for i, j in enumerate(source_array) if j==number]\n",
    "#             print(f'{index} postions')\n",
    "#             print(f'{odd_list} odd')\n",
    "            if (len(index) >= 1):\n",
    "                source_array[index[0]] = 'a'\n",
    "                output[index[0]] = odd_list[0]\n",
    "                del odd_list[0]\n",
    "#                 print(f'{output} result')\n",
    "    return output\n",
    "print(sort_array(mixed_num))"
   ]
  },
  {
   "cell_type": "markdown",
   "metadata": {},
   "source": [
    "Complete the solution so that it splits the string into pairs of two characters. If the string contains an odd number of characters then it should replace the missing second character of the final pair with an underscore ('_')."
   ]
  },
  {
   "cell_type": "code",
   "execution_count": 14,
   "metadata": {},
   "outputs": [
    {
     "name": "stdout",
     "output_type": "stream",
     "text": [
      "['as', 'df', 'ad', 'sf']\n"
     ]
    }
   ],
   "source": [
    "character_double = 'asdfadsf'\n",
    "def solution(s):\n",
    "    arr = []\n",
    "    n = 0\n",
    "    if len(s) % 2 == 0:\n",
    "        while n <= len(s) -1 :\n",
    "            arr.append(s[n:n+2])\n",
    "            n += 3\n",
    "#             print(n)\n",
    "    elif (len(s) == 0):\n",
    "        return arr\n",
    "    else:\n",
    "        while n <= len(s) -1 :\n",
    "            arr.append(s[n:n+2])\n",
    "            n += 2\n",
    "        arr[-1] = s[-1] + '_'\n",
    "    return arr\n",
    "\n",
    "print(solution(character_double))"
   ]
  },
  {
   "cell_type": "markdown",
   "metadata": {},
   "source": [
    "### The marketing team is spending way too much time typing in hashtags.\n",
    "_Let's help them with our own Hashtag Generator!_\n",
    "\n",
    "### Here's the deal:\n",
    "\n",
    "   * It must start with a __hashtag__ (#).\n",
    "   * All words must have their first letter __capitalized__.\n",
    "   * If the final result is longer than 140 chars it must return __false__.\n",
    "   * If the input or the result is an empty string it must return __false__.\n"
   ]
  },
  {
   "cell_type": "code",
   "execution_count": 35,
   "metadata": {},
   "outputs": [
    {
     "name": "stdout",
     "output_type": "stream",
     "text": [
      "#CodewarsIsNice\n",
      "False\n"
     ]
    }
   ],
   "source": [
    "marketingTypings = 'codewars is nice'\n",
    "\n",
    "def generate_hashtag(s):\n",
    "    if len(s) == 0 or len(s) > 140:\n",
    "        return False\n",
    "    else:\n",
    "        arr = list(s.split(' '))\n",
    "        n = 0\n",
    "        while n < len(arr):\n",
    "            arr[n] = arr[n].capitalize()\n",
    "            n += 1\n",
    "        hashed = ['#']\n",
    "        hashed.append(''.join(arr))\n",
    "    return ''.join(hashed)\n",
    "print(generate_hashtag(marketingTypings)) \n",
    "print(generate_hashtag('l' * 141))"
   ]
  },
  {
   "cell_type": "markdown",
   "metadata": {},
   "source": [
    "### Write an algorithm that takes an array and moves all of the zeros to the end, preserving the order of the other elements.\n",
    "\n",
    "move_zeros([1, 0, 1, 2, 0, 1, 3]) _# returns [1, 1, 2, 1, 3, 0, 0]_\n"
   ]
  },
  {
   "cell_type": "code",
   "execution_count": 13,
   "metadata": {},
   "outputs": [
    {
     "name": "stdout",
     "output_type": "stream",
     "text": [
      "[1, 2, 3, 2, 7, 0, 0]\n"
     ]
    }
   ],
   "source": [
    "listWzZeros = [1,2,3,0,2,0,7]\n",
    "def move_zeros(array):\n",
    "    p = 0\n",
    "    holder = 0\n",
    "    while p < len(array):\n",
    "        if array[p] == 0:\n",
    "            del array[p]\n",
    "            holder+=1\n",
    "        else:\n",
    "            p +=1\n",
    "    while holder > 0:\n",
    "        array.append(0)\n",
    "        holder-=1\n",
    "    return array\n",
    "print(move_zeros(listWzZeros))"
   ]
  },
  {
   "cell_type": "markdown",
   "metadata": {},
   "source": [
    "### Write a function that accepts a square matrix (N x N 2D array) and returns the determinant of the matrix.\n",
    "For the 3x3 case, <span class='rules'>[ [a, b, c], [d, e, f], [g, h, i] ]</span> or\n",
    "<pre>\n",
    "<div class='code-block'>|a b c|\n",
    "|d e f|\n",
    "|g h i|</pre>\n",
    "</div>\n",
    "the determinant is: <span class='rules'> a * det(a_minor) - b * det(b_minor) + c * det(c_minor) </span>where det(a_minor) refers to taking the determinant of the 2x2 matrix created by crossing out the row and column in which the element a occurs:\n",
    "<pre>\n",
    "<div class='code-block'>|- - -|\n",
    "|- e f|\n",
    "|- h i|</div></pre>\n",
    "\n",
    "Note the alternation of signs.\n",
    "\n",
    "The determinant of larger matrices are calculated analogously, _e.g. if M is a __4x4__ matrix with first row_ <span class='rules'>[a, b, c, d],</span> then:\n",
    "\n",
    "<span class='rules'>det(M) = a * det(a_minor) - b * det(b_minor) + c * det(c_minor) - d * det(d_minor)</span>"
   ]
  },
  {
   "cell_type": "code",
   "execution_count": 5,
   "metadata": {
    "scrolled": false
   },
   "outputs": [
    {
     "name": "stdout",
     "output_type": "stream",
     "text": [
      "5\n"
     ]
    }
   ],
   "source": [
    "import numpy as np\n",
    "matrixArr = [ [5,2,2],\n",
    "             [0,7,1],\n",
    "             [0, 4, 1]]\n",
    "m0 = [[5]]\n",
    "m1 = [ [1, 3], [2,5]]\n",
    "m2 = [ [2,5,3], [1,-2,-1], [1, 3, 4]]\n",
    "\n",
    "def determinant(m):\n",
    "    np_array = np.array(m)\n",
    "    det = np.linalg.det(np_array)\n",
    "    return round(det)\n",
    "\"\"\"\n",
    "I break my challenge, \n",
    "I had to import library and a pip one in this challenge\n",
    "numpy is fast and great, stupid me!\n",
    "\"\"\"\n",
    "print(determinant(m0))"
   ]
  }
 ],
 "metadata": {
  "kernelspec": {
   "display_name": "Python 3",
   "language": "python",
   "name": "python3"
  },
  "language_info": {
   "codemirror_mode": {
    "name": "ipython",
    "version": 3
   },
   "file_extension": ".py",
   "mimetype": "text/x-python",
   "name": "python",
   "nbconvert_exporter": "python",
   "pygments_lexer": "ipython3",
   "version": "3.8.8"
  }
 },
 "nbformat": 4,
 "nbformat_minor": 4
}
