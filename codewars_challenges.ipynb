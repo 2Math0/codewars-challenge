{
 "cells": [
  {
   "cell_type": "code",
   "execution_count": 40,
   "metadata": {},
   "outputs": [
    {
     "data": {
      "text/html": [
       "<style>\n",
       "        .code-block{\n",
       "            background-color:#171719;\n",
       "            color:#fff;\n",
       "            padding:12px;\n",
       "            border:solid 0px #00ffffff;\n",
       "            border-radius:.375rem;\n",
       "            font-family: monospace;\n",
       "            margin-left:0px;\n",
       "        }\n",
       "        .code-string{\n",
       "            color:#b5bd68;\n",
       "        }\n",
       "        .code-int{\n",
       "            color:#de935f;\n",
       "        }\n",
       "        .code-comment{\n",
       "            color:#909091;\n",
       "            font-style:italic;\n",
       "        }\n",
       "        .rules{\n",
       "            border: 2px solid #dadada;\n",
       "            border-radius:8px;\n",
       "            background-color:#262729;\n",
       "            padding-top:2px;\n",
       "            padding-bottom:2px;\n",
       "            padding-right:8px;\n",
       "            padding-left:8px;\n",
       "            margin:6px;\n",
       "            color:white;\n",
       "            font-family: monospace;\n",
       "        }\n",
       "        .code-parent{\n",
       "            color:#b294bb;\n",
       "        }\n",
       "        .code-self{\n",
       "            color:#89b6c5;\n",
       "        }\n",
       "    </style>"
      ],
      "text/plain": [
       "<IPython.core.display.HTML object>"
      ]
     },
     "execution_count": 40,
     "metadata": {},
     "output_type": "execute_result"
    }
   ],
   "source": [
    "from IPython.core.display import HTML\n",
    "HTML(\"\"\"<style>\n",
    "        .code-block{\n",
    "            background-color:#171719;\n",
    "            color:#fff;\n",
    "            padding:12px;\n",
    "            border:solid 0px #00ffffff;\n",
    "            border-radius:.375rem;\n",
    "            font-family: monospace;\n",
    "            margin-left:0px;\n",
    "        }\n",
    "        .code-string{\n",
    "            color:#b5bd68;\n",
    "        }\n",
    "        .code-int{\n",
    "            color:#de935f;\n",
    "        }\n",
    "        .code-comment{\n",
    "            color:#909091;\n",
    "            font-style:italic;\n",
    "        }\n",
    "        .rules{\n",
    "            border: 2px solid #dadada;\n",
    "            border-radius:8px;\n",
    "            background-color:#262729;\n",
    "            padding-top:2px;\n",
    "            padding-bottom:2px;\n",
    "            padding-right:8px;\n",
    "            padding-left:8px;\n",
    "            margin:6px;\n",
    "            color:white;\n",
    "            font-family: monospace;\n",
    "        }\n",
    "        .code-parent{\n",
    "            color:#b294bb;\n",
    "        }\n",
    "        .code-self{\n",
    "            color:#89b6c5;\n",
    "        }\n",
    "    </style>\"\"\")"
   ]
  },
  {
   "cell_type": "markdown",
   "metadata": {},
   "source": [
    "remove the repeated consequence strings in the list"
   ]
  },
  {
   "cell_type": "code",
   "execution_count": 41,
   "metadata": {},
   "outputs": [
    {
     "name": "stdout",
     "output_type": "stream",
     "text": [
      "['a', 'b', 'a', 'c', 'd']\n"
     ]
    }
   ],
   "source": [
    "rpeated_letters=['a','a','a','a','b','b','b','c','c','c']\n",
    "mixed_repeated_letters=['a','a','a','b','b','b','a','a','a','c','d']\n",
    "\n",
    "def filtering(strings):\n",
    "    x = 0\n",
    "    while x < len(strings)-1:\n",
    "        if strings[x] == strings[x+1]:\n",
    "            del strings[x]\n",
    "        else:\n",
    "            x += 1\n",
    "        \n",
    "    return strings\n",
    "        \n",
    "print(filtering(mixed_repeated_letters))"
   ]
  },
  {
   "cell_type": "markdown",
   "metadata": {},
   "source": [
    "count x and o in list return true if they are equivalent .. case insensetive"
   ]
  },
  {
   "cell_type": "code",
   "execution_count": 42,
   "metadata": {},
   "outputs": [
    {
     "name": "stdout",
     "output_type": "stream",
     "text": [
      "False\n"
     ]
    }
   ],
   "source": [
    "strxo='xxxooo' #true\n",
    "strXo='xxXozd' #false\n",
    "\n",
    "def xoCounter(xs):\n",
    "    list_xo = list(xs)\n",
    "    list_xo = [letter.lower() for letter in list_xo]\n",
    "    x = 0\n",
    "    o = 0\n",
    "    for item in list_xo:\n",
    "        if item == 'x':\n",
    "            x += 1\n",
    "        elif item == 'o':\n",
    "            o += 1\n",
    "        else:\n",
    "            pass\n",
    "    \n",
    "    if x == o:\n",
    "        return True\n",
    "    else:\n",
    "        return False\n",
    "print(xoCounter(strXo))"
   ]
  },
  {
   "cell_type": "markdown",
   "metadata": {},
   "source": [
    "define the sum of numbers that are divisible by 3 and 5"
   ]
  },
  {
   "cell_type": "code",
   "execution_count": 43,
   "metadata": {},
   "outputs": [
    {
     "name": "stdout",
     "output_type": "stream",
     "text": [
      "23\n"
     ]
    }
   ],
   "source": [
    "random_num = 10\n",
    "def multipleNum(num):\n",
    "    nnum = [item for item in range(0,num)]\n",
    "    list_multiple = [item for item in nnum if item % 3 == 0 or item % 5 == 0]\n",
    "    sum_multiple = sum(list_multiple)\n",
    "    return sum_multiple\n",
    "print(multipleNum(random_num))"
   ]
  },
  {
   "cell_type": "markdown",
   "metadata": {},
   "source": [
    "colors are labeld from 'a' to 'm', out of these are errors find number of errors out of all given colors"
   ]
  },
  {
   "cell_type": "code",
   "execution_count": 44,
   "metadata": {},
   "outputs": [
    {
     "name": "stdout",
     "output_type": "stream",
     "text": [
      "3/56\n"
     ]
    }
   ],
   "source": [
    "color_alphabet = list(map(chr, range(97, 110)))\n",
    "color_character = \"aaaaaaaaaaaaaaaabbbbbbbbbbbbbbbbbbmmmmmmmmmmmmmmmmmmmxyz\"\n",
    "def colorPrintErrors(s):\n",
    "    list_s = [item for item in s]\n",
    "    errors = [item for item in list_s if item not in color_alphabet]\n",
    "    return f'{len(errors)}/{len(list_s)}'\n",
    "print(colorPrintErrors(color_character))"
   ]
  },
  {
   "cell_type": "markdown",
   "metadata": {},
   "source": [
    "get list of names as input and return the likes as follows; dump if else"
   ]
  },
  {
   "cell_type": "code",
   "execution_count": 45,
   "metadata": {},
   "outputs": [],
   "source": [
    "def likes(names):\n",
    "    \n",
    "    if not names:\n",
    "        return 'no one likes this'\n",
    "    else:\n",
    "        if len(names) > 3:\n",
    "            return f'{names[0]}, {names[1]} and {len(names)-2} others like this'\n",
    "        elif len(names) > 2:\n",
    "            return f'{names[0]}, {names[1]} and {names[2]} like this'\n",
    "        elif len(names) == 2:\n",
    "            return f'{names[0]} and {names[1]} like this'\n",
    "        elif len(names) == 1:\n",
    "            return f'{names[0]} likes this'"
   ]
  },
  {
   "cell_type": "markdown",
   "metadata": {},
   "source": [
    "Given two arrays (lists) measure if one of them items are the square of other one items"
   ]
  },
  {
   "cell_type": "code",
   "execution_count": 46,
   "metadata": {},
   "outputs": [
    {
     "name": "stdout",
     "output_type": "stream",
     "text": [
      "True\n"
     ]
    }
   ],
   "source": [
    "comp1 = [121, 144, 19, 161, 19, 144, 19, 11] \n",
    "comp2 = [121, 14641, 20736, 361, 25921, 361, 20736, 361]\n",
    "def comp(array1, array2):\n",
    "    if array1 is None or array2 is None:\n",
    "        return False\n",
    "    elif array1 is None and array2 is None:\n",
    "        return True\n",
    "    elif len(array1) == len(array2):\n",
    "        for item1 in array1:\n",
    "            for item2 in array2:\n",
    "                index2 = array2.index(item2)\n",
    "                if item1 == item2**0.5 or item1 == item2**2:\n",
    "                    del array2[index2]\n",
    "                    break\n",
    "        if array2 is None or len(array2) == 0 :\n",
    "            return True\n",
    "        else:\n",
    "            return False\n",
    "    else:\n",
    "        return False\n",
    "print(comp(comp1,comp2))"
   ]
  },
  {
   "cell_type": "markdown",
   "metadata": {},
   "source": [
    "define the input if it is square root or not "
   ]
  },
  {
   "cell_type": "code",
   "execution_count": 47,
   "metadata": {},
   "outputs": [
    {
     "name": "stdout",
     "output_type": "stream",
     "text": [
      "True\n"
     ]
    }
   ],
   "source": [
    "def is_square(n):\n",
    "    root = n**0.5\n",
    "    if n > 0 and root % int(root) == 0:\n",
    "        return True\n",
    "    elif n == 0:\n",
    "        return True\n",
    "    else:\n",
    "        return False\n",
    "print(is_square(0))\n",
    "\n",
    "#Best Solution\n",
    "\n",
    "# def is_square(n):    \n",
    "#    return n >= 0 and (n**0.5) % 1 == 0"
   ]
  },
  {
   "cell_type": "markdown",
   "metadata": {},
   "source": [
    "give the digital clock for mentioned seconds"
   ]
  },
  {
   "cell_type": "code",
   "execution_count": 48,
   "metadata": {},
   "outputs": [
    {
     "name": "stdout",
     "output_type": "stream",
     "text": [
      "1:0:0\n"
     ]
    }
   ],
   "source": [
    "seconds = 3600\n",
    "def make_readable(seconds):\n",
    "    return f\"{int(seconds/(60*60))%60}:{int(seconds/60)%60}:{seconds%60}\" if seconds <= 359999 else False\n",
    "\n",
    "print(make_readable(seconds))"
   ]
  },
  {
   "cell_type": "markdown",
   "metadata": {},
   "source": [
    "replace underscores and dashes into camelCasing string"
   ]
  },
  {
   "cell_type": "code",
   "execution_count": 49,
   "metadata": {},
   "outputs": [
    {
     "name": "stdout",
     "output_type": "stream",
     "text": [
      "HiIamThomas\n"
     ]
    }
   ],
   "source": [
    "camelCaseString = 'Hi_Iam_thomas'\n",
    "def to_camel_case(text):\n",
    "    n = 0\n",
    "    string0 = ''\n",
    "    camel_list = [i for i in text]\n",
    "    for item in camel_list:\n",
    "        if item == '_' or item == '-':\n",
    "            del camel_list[n]\n",
    "            camel_list[n] = camel_list[n].upper()\n",
    "            n += 1\n",
    "        else:\n",
    "            n += 1\n",
    "    return string0.join(camel_list)\n",
    "print(to_camel_case(camelCaseString))"
   ]
  },
  {
   "cell_type": "markdown",
   "metadata": {},
   "source": [
    "Find how many letters that are repeated -case insensitive-"
   ]
  },
  {
   "cell_type": "code",
   "execution_count": 50,
   "metadata": {},
   "outputs": [
    {
     "name": "stdout",
     "output_type": "stream",
     "text": [
      "5\n"
     ]
    }
   ],
   "source": [
    "dublicate_str='abaDDBedknkn'\n",
    "def duplicate_count(text):\n",
    "    n = 0\n",
    "    index = 0\n",
    "    txt_list= [i for i in text.lower()]\n",
    "    shouldRestart = True \n",
    "    while shouldRestart:\n",
    "        l = len(txt_list)\n",
    "        shouldRestart = False if l == 0 or l == 1 else True\n",
    "        txt_list[:] = [x for x in txt_list if x != txt_list[index]]\n",
    "        if len(txt_list) != l-1 and l != 0:\n",
    "            n += 1\n",
    "            index=0\n",
    "        else:\n",
    "            index += 1 if len(txt_list) > index+1 else 0\n",
    "    return n\n",
    "\n",
    "print(duplicate_count(dublicate_str))\n"
   ]
  },
  {
   "cell_type": "markdown",
   "metadata": {},
   "source": [
    "sum the digits of the given number and order the numbers list by their summition -if equal then order as string 1 before 2-"
   ]
  },
  {
   "cell_type": "code",
   "execution_count": 51,
   "metadata": {},
   "outputs": [
    {
     "name": "stdout",
     "output_type": "stream",
     "text": [
      "['2000', '1100', '103', '123', '6', '4444', '99']\n"
     ]
    }
   ],
   "source": [
    "weight_sum = \"103 123 6 4444 99 2000 1100\"\n",
    "\n",
    "def order_weight(strng):\n",
    "    dic = {}\n",
    "    weightList = strng.split(' ')\n",
    "    for no in weightList :\n",
    "        value = 0\n",
    "        for digit in no:\n",
    "            value = value + int(digit)\n",
    "        dic.update({no : value})\n",
    "    sorted_dict = dict(sorted(dic.items(), key=lambda item: item[1]))\n",
    "    return list(sorted_dict.keys())\n",
    "\n",
    "#Unsolved \n",
    "\"\"\" two Issues:\n",
    "1.the code remove multible numbers\n",
    "2.cannot order equals as string\n",
    "\"\"\"\n",
    "\n",
    "print(order_weight(weight_sum))    "
   ]
  },
  {
   "cell_type": "markdown",
   "metadata": {},
   "source": [
    "You will be given an array of numbers. You have to sort the odd numbers in ascending order while leaving the even numbers at their original positions."
   ]
  },
  {
   "cell_type": "code",
   "execution_count": 52,
   "metadata": {},
   "outputs": [
    {
     "name": "stdout",
     "output_type": "stream",
     "text": [
      "[1, 1, 5, 11, 2, 11, 111, 0]\n"
     ]
    }
   ],
   "source": [
    "mixed_num = [1, 5, 11, 11, 2, 1, 111, 0]\n",
    "def sort_array(source_array):\n",
    "    odd_list = []\n",
    "    for number in source_array:\n",
    "        if (number%2!=0):\n",
    "            odd_list.append(number)\n",
    "            odd_list.sort()\n",
    "    output = [i for i in source_array]\n",
    "    for number in source_array:\n",
    "#         print(number)\n",
    "        if number%2!=0 :\n",
    "            index = [i for i, j in enumerate(source_array) if j==number]\n",
    "#             print(f'{index} postions')\n",
    "#             print(f'{odd_list} odd')\n",
    "            if (len(index) >= 1):\n",
    "                source_array[index[0]] = 'a'\n",
    "                output[index[0]] = odd_list[0]\n",
    "                del odd_list[0]\n",
    "#                 print(f'{output} result')\n",
    "    return output\n",
    "print(sort_array(mixed_num))"
   ]
  },
  {
   "cell_type": "markdown",
   "metadata": {},
   "source": [
    "Complete the solution so that it splits the string into pairs of two characters. If the string contains an odd number of characters then it should replace the missing second character of the final pair with an underscore ('_')."
   ]
  },
  {
   "cell_type": "code",
   "execution_count": 53,
   "metadata": {},
   "outputs": [
    {
     "name": "stdout",
     "output_type": "stream",
     "text": [
      "['as', 'fa', 'sf']\n"
     ]
    }
   ],
   "source": [
    "character_double = 'asdfadsf'\n",
    "def solution(s):\n",
    "    arr = []\n",
    "    n = 0\n",
    "    if len(s) % 2 == 0:\n",
    "        while n <= len(s) -1 :\n",
    "            arr.append(s[n:n+2])\n",
    "            n += 3\n",
    "#             print(n)\n",
    "    elif (len(s) == 0):\n",
    "        return arr\n",
    "    else:\n",
    "        while n <= len(s) -1 :\n",
    "            arr.append(s[n:n+2])\n",
    "            n += 2\n",
    "        arr[-1] = s[-1] + '_'\n",
    "    return arr\n",
    "\n",
    "print(solution(character_double))"
   ]
  },
  {
   "cell_type": "markdown",
   "metadata": {},
   "source": [
    "### The marketing team is spending way too much time typing in hashtags.\n",
    "_Let's help them with our own Hashtag Generator!_\n",
    "\n",
    "### Here's the deal:\n",
    "\n",
    "   * It must start with a __hashtag__ (#).\n",
    "   * All words must have their first letter __capitalized__.\n",
    "   * If the final result is longer than 140 chars it must return __false__.\n",
    "   * If the input or the result is an empty string it must return __false__.\n"
   ]
  },
  {
   "cell_type": "code",
   "execution_count": 54,
   "metadata": {},
   "outputs": [
    {
     "name": "stdout",
     "output_type": "stream",
     "text": [
      "#CodewarsIsNice\n",
      "False\n"
     ]
    }
   ],
   "source": [
    "marketingTypings = 'codewars is nice'\n",
    "\n",
    "def generate_hashtag(s):\n",
    "    if len(s) == 0 or len(s) > 140:\n",
    "        return False\n",
    "    else:\n",
    "        arr = list(s.split(' '))\n",
    "        n = 0\n",
    "        while n < len(arr):\n",
    "            arr[n] = arr[n].capitalize()\n",
    "            n += 1\n",
    "        hashed = ['#']\n",
    "        hashed.append(''.join(arr))\n",
    "    return ''.join(hashed)\n",
    "print(generate_hashtag(marketingTypings)) \n",
    "print(generate_hashtag('l' * 141))"
   ]
  },
  {
   "cell_type": "markdown",
   "metadata": {},
   "source": [
    "### Write an algorithm that takes an array and moves all of the zeros to the end, preserving the order of the other elements.\n",
    "\n",
    "move_zeros([1, 0, 1, 2, 0, 1, 3]) _# returns [1, 1, 2, 1, 3, 0, 0]_\n"
   ]
  },
  {
   "cell_type": "code",
   "execution_count": 55,
   "metadata": {},
   "outputs": [
    {
     "name": "stdout",
     "output_type": "stream",
     "text": [
      "[1, 2, 3, 2, 7, 0, 0]\n"
     ]
    }
   ],
   "source": [
    "listWzZeros = [1,2,3,0,2,0,7]\n",
    "def move_zeros(array):\n",
    "    p = 0\n",
    "    holder = 0\n",
    "    while p < len(array):\n",
    "        if array[p] == 0:\n",
    "            del array[p]\n",
    "            holder+=1\n",
    "        else:\n",
    "            p +=1\n",
    "    while holder > 0:\n",
    "        array.append(0)\n",
    "        holder-=1\n",
    "    return array\n",
    "print(move_zeros(listWzZeros))"
   ]
  },
  {
   "cell_type": "markdown",
   "metadata": {},
   "source": [
    "### Write a function that accepts a square matrix (N x N 2D array) and returns the determinant of the matrix.\n",
    "For the 3x3 case, <span class='rules'>[ [a, b, c], [d, e, f], [g, h, i] ]</span> or\n",
    "<pre>\n",
    "<div class='code-block'>|a b c|\n",
    "|d e f|\n",
    "|g h i|</pre>\n",
    "</div>\n",
    "the determinant is: <span class='rules'> a * det(a_minor) - b * det(b_minor) + c * det(c_minor) </span>where det(a_minor) refers to taking the determinant of the 2x2 matrix created by crossing out the row and column in which the element a occurs:\n",
    "<pre>\n",
    "<div class='code-block'>|- - -|\n",
    "|- e f|\n",
    "|- h i|</div></pre>\n",
    "\n",
    "Note the alternation of signs.\n",
    "\n",
    "The determinant of larger matrices are calculated analogously, _e.g. if M is a __4x4__ matrix with first row_ <span class='rules'>[a, b, c, d],</span> then:\n",
    "\n",
    "<span class='rules'>det(M) = a * det(a_minor) - b * det(b_minor) + c * det(c_minor) - d * det(d_minor)</span>"
   ]
  },
  {
   "cell_type": "code",
   "execution_count": 56,
   "metadata": {
    "scrolled": false
   },
   "outputs": [
    {
     "name": "stdout",
     "output_type": "stream",
     "text": [
      "5\n"
     ]
    }
   ],
   "source": [
    "import numpy as np\n",
    "matrixArr = [ [5,2,2],\n",
    "             [0,7,1],\n",
    "             [0, 4, 1]]\n",
    "m0 = [[5]]\n",
    "m1 = [ [1, 3], [2,5]]\n",
    "m2 = [ [2,5,3], [1,-2,-1], [1, 3, 4]]\n",
    "\n",
    "def determinant(m):\n",
    "    np_array = np.array(m)\n",
    "    det = np.linalg.det(np_array)\n",
    "    return round(det)\n",
    "\"\"\"\n",
    "I break my challenge, \n",
    "I had to import library and a pip one in this challenge\n",
    "numpy is fast and great, stupid me!\n",
    "\"\"\"\n",
    "print(determinant(m0))"
   ]
  },
  {
   "cell_type": "markdown",
   "metadata": {},
   "source": [
    "### Complete the solution so that it strips all text that follows any of a set of comment markers passed in. Any whitespace at the end of the line should also be stripped out.\n",
    "\n",
    "<b>Example:</b>\n",
    "\n",
    "#### Given an input string of:\n",
    "<pre>\n",
    "<div class='code-block'>apples, pears # and bananas\n",
    "grapes\n",
    "bananas !apples</div></pre>\n",
    "\n",
    "#### The output expected would be:\n",
    "<pre>\n",
    "<div class='code-block'>apples, pears\n",
    "grapes\n",
    "bananas</div></pre>\n",
    "\n",
    "#### The code would be called like so:\n",
    "<pre>\n",
    "<div class='code-block'>result = solution(<span class='code-string'>\"apples, pears # and bananas\\ngrapes\\nbananas !apples\", [\"#\", \"!\"]</span>)\n",
    "<span class='code-comment'># result should == \"apples, pears\\ngrapes\\nbananas\"</span></div></pre>"
   ]
  },
  {
   "cell_type": "code",
   "execution_count": 57,
   "metadata": {},
   "outputs": [
    {
     "name": "stdout",
     "output_type": "stream",
     "text": [
      "apples, pears\n",
      "grapes\n",
      "bananas\n"
     ]
    }
   ],
   "source": [
    "splitable = \"apples, pears # and bananas\\ngrapes\\nbananas !apples\"\n",
    "markers = [\"#\", \"!\"]\n",
    "def solution(string,markers):\n",
    "    splited = []\n",
    "    s_list = [i for i in string]\n",
    "    n = 0\n",
    "    while n < len(s_list):\n",
    "        if s_list[n] in markers:\n",
    "            if s_list[n-1] == ' ':\n",
    "                del splited[-1]\n",
    "            for i in range(n,len(s_list)):\n",
    "                if s_list[i] == '\\n':\n",
    "                    splited.append(s_list[i])\n",
    "                    n = i\n",
    "                    break\n",
    "                elif i == len(s_list) -1:\n",
    "                    n = i\n",
    "            n += 1\n",
    "        else:\n",
    "            splited.append(s_list[n])\n",
    "            n += 1\n",
    "    return ''.join(splited)\n",
    "\n",
    "print(solution(splitable,markers))"
   ]
  },
  {
   "attachments": {
    "snail.png": {
     "image/png": "[encoded data removed]"
    }
   },
   "cell_type": "markdown",
   "metadata": {},
   "source": [
    "## Snail Sort\n",
    "\n",
    "Given an <span class='rules'> n x n </span>array, return the array elements arranged from outermost elements to the middle element, traveling clockwise.\n",
    "\n",
    "<pre><div class='code-block'>array = [[1,2,3],\n",
    "         [4,5,6],\n",
    "         [7,8,9]]\n",
    "snail(array) #=> [1,2,3,6,9,8,7,4,5]</div></pre>\n",
    "\n",
    "For better understanding, please follow the numbers of the next array consecutively:\n",
    "\n",
    "<pre><div class='code-block'>array = [[1,2,3],\n",
    "         [8,9,4],\n",
    "         [7,6,5]]\n",
    "snail(array) #=> [1,2,3,4,5,6,7,8,9]</div></pre>\n",
    "\n",
    "This image will illustrate things more clearly:\n",
    "\n",
    "![snail.png](attachment:snail.png)\n",
    "\n",
    "NOTE: The idea is not sort the elements from the lowest value to the highest; the idea is to traverse the 2-d array in a clockwise snailshell pattern.\n",
    "\n",
    "NOTE 2: The 0x0 (empty matrix) is represented as en empty array inside an array <span class='rules'>[ [ ] ]</span>."
   ]
  },
  {
   "cell_type": "code",
   "execution_count": 58,
   "metadata": {},
   "outputs": [
    {
     "name": "stdout",
     "output_type": "stream",
     "text": [
      "[1, 2, 3, 4, 5, 6, 7, 8, 9]\n"
     ]
    }
   ],
   "source": [
    "snailing_list = [[1,2,3],\n",
    "         [8,9,4],\n",
    "         [7,6,5]]\n",
    "def snail(s):\n",
    "    snail =[]\n",
    "    row_start = 0\n",
    "    row_end = len(s) -1\n",
    "    col_start = 0\n",
    "    col_end = len(s[0]) -1\n",
    "    if len(s) == 0:\n",
    "        return snail\n",
    "    else:\n",
    "        while row_start <= row_end and col_start <= col_end:\n",
    "            for i in range(col_start, col_end+1):\n",
    "                snail.append(s[row_start][i])\n",
    "            row_start += 1\n",
    "            for i in range(row_start, row_end+1):\n",
    "                snail.append(s[i][col_end])\n",
    "            col_end -= 1\n",
    "            if row_start <= row_end:\n",
    "                for i in range(col_end, col_start-1,-1):\n",
    "                    snail.append(s[row_end][i])\n",
    "            row_end -= 1\n",
    "            if col_start <= col_end:\n",
    "                for i in range(row_end, row_start-1,-1):\n",
    "                    snail.append(s[i][col_start])\n",
    "            col_start += 1\n",
    "    return snail\n",
    "print(snail(snailing_list))"
   ]
  },
  {
   "cell_type": "markdown",
   "metadata": {},
   "source": [
    "## ROT13\n",
    "\n",
    "ROT13 is a simple letter substitution cipher that replaces a letter with the letter 13 letters after it in the alphabet. ROT13 is an example of the Caesar cipher.\n",
    "\n",
    "Create a function that takes a string and returns the string ciphered with Rot13. If there are numbers or special characters included in the string, they should be returned as they are. Only letters from the latin/english alphabet should be shifted, like in the original Rot13 \"implementation\".\n",
    "\n",
    "Please note that using <span class='rules'> encode </span> is considered cheating.\n",
    "\n",
    "### Find the index of letter in alphabet and replace it with its subistitution that exceeds it with 13 position in alphabet.\n"
   ]
  },
  {
   "cell_type": "code",
   "execution_count": 59,
   "metadata": {},
   "outputs": [
    {
     "name": "stdout",
     "output_type": "stream",
     "text": [
      "Grfg\n"
     ]
    }
   ],
   "source": [
    "import string\n",
    "rot_decrypt = 'Test'\n",
    "\n",
    "def rot13(message):\n",
    "    encrypt = []\n",
    "    key_small = list(string.ascii_lowercase)\n",
    "    key_capital = list(string.ascii_uppercase)\n",
    "    n = 0\n",
    "    while n < len(message):\n",
    "        if message[n] in key_small:\n",
    "            index = key_small.index(message[n])\n",
    "            try:\n",
    "                encrypt.append(key_small[index+13])\n",
    "            except:\n",
    "                encrypt.append(key_small[index-13])\n",
    "        elif message[n] in key_capital:\n",
    "            index = key_capital.index(message[n])\n",
    "            try:\n",
    "                encrypt.append(key_capital[index+13])\n",
    "            except:\n",
    "                encrypt.append(key_capital[index-13])\n",
    "        else:\n",
    "            encrypt.append(message[n])\n",
    "        n += 1\n",
    "    return ''.join(encrypt)\n",
    "\n",
    "print(rot13(rot_decrypt))"
   ]
  },
  {
   "cell_type": "markdown",
   "metadata": {},
   "source": [
    "## Last digit of a huge number\n",
    "\n",
    "For a given list <span class='rules'> [x1, x2, x3, ..., xn] </span> compute the last (decimal) digit of <span class='rules'> x1 ^ (x2 ^ (x3 ^ (... ^ xn))). </span>\n",
    "\n",
    "E. g.,\n",
    "\n",
    "<div class='code-block'>last_digit([<span class='code-int'>3</span>, <span class='code-int'>4</span>, <span class='code-int'>2</span>]) == <span class='code-int'>1</span></div>\n",
    "\n",
    "because <span class='rules'> 3 ^ (4 ^ 2) = 3 ^ 16 = 43046721. </span>\n",
    "\n",
    "Beware: powers grow incredibly fast. For example,<span class='rules'>9 ^ (9 ^ 9)</span>has more than 369 millions of digits.<span class='rules'>lastDigit</span>has to deal with such numbers efficiently.\n",
    "\n",
    "Corner cases: we assume that<span class='rules'>0 ^ 0 = 1</span>and that<span class='rules'>lastDigit</span>of an empty list equals to 1.\n",
    "\n",
    "This kata generalizes <a href='https://www.codewars.com/kata/last-digit-of-a-large-number/haskell'>Last digit of a large number</a>; you may find useful to solve it beforehand.\n"
   ]
  },
  {
   "cell_type": "code",
   "execution_count": 60,
   "metadata": {
    "scrolled": true
   },
   "outputs": [
    {
     "name": "stdout",
     "output_type": "stream",
     "text": [
      "2\n"
     ]
    }
   ],
   "source": [
    "last_num = [322532, 484694, 367610, 444593]\n",
    "def last_digit(lst):\n",
    "    try:\n",
    "        huge_num = lst[-1]\n",
    "        n = -2\n",
    "        while n >= -len(lst):\n",
    "            huge_num = pow(lst[n], huge_num, pow(10,100))\n",
    "            n -= 1\n",
    "    except:\n",
    "        return 1\n",
    "    return huge_num % 10\n",
    "\"\"\"\n",
    "best answer follow a theory\n",
    "\n",
    "def last_digit(lst):\n",
    "    i = 1\n",
    "    for j in reversed(lst):\n",
    "        i = j ** (i if i < 4 else i % 4 + 4) \n",
    "    return i % 10\n",
    "    \n",
    "Last digit of every number (from 0 to 9) rised to a power is cyclic in a cycle of period 1, 2 or 4.\n",
    "For example last digit of 29^2 is the same as 9^2 or 12986765134876318298769 ^ 2 , and it's 1;\n",
    "Then, last digit of pow(a, b) is the same as pow(a, b%4). Except say pow(a, 12): we don't want to reduce 12 to 0 (12 % 4 = 0) because pow(a, 0) = 1, so we need to add 4.\n",
    "For example: last digit of 3^5 is the same as 3^9, 3^13 or 3^114356789 (3), so for 3^114356789 we can calculate 3^((114356789 % 4) + 4) = 3^5\n",
    "Going this way we can reduce exponents % 4 and get last digit.\n",
    "This can be improved if we reduce the base (mod 4) too. Say we have a^b^c, since b^c is gonna be reduced (mod 4) we cant previously reduce b(mod 4) and get more reasonable numbers. This works for every iteration except for the last one, because we don't want our result to be mod 4 (we want mod 10).\n",
    "This not pretents to be a prove.\n",
    "\n",
    "\"\"\"\n",
    "\n",
    "print(last_digit(last_num))"
   ]
  },
  {
   "cell_type": "markdown",
   "metadata": {},
   "source": [
    "## Next bigger number with the same digits\n",
    "\n",
    "Create a function that takes a positive integer and returns the next bigger number that can be formed by rearranging its digits. For example:\n",
    "\n",
    "<pre><div class='code-block'>12 ==> 21\n",
    "513 ==> 531\n",
    "2017 ==> 2071</div></pre>\n",
    "\n",
    "<pre><div class='code-block'>nextBigger(num: <span class='code-int'>12</span>)<span class='code-comment'>   // returns 21</span>\n",
    "nextBigger(num: <span class='code-int'>513</span>)  <span class='code-comment'>// returns 531</span>\n",
    "nextBigger(num: <span class='code-int'>2017</span>) <span class='code-comment'>// returns 2071</span></div></pre>\n",
    "\n",
    "If the digits can't be rearranged to form a bigger number, return <span class='rules'>-1</span> (or <span class='rules'>nil</span> in Swift):\n",
    "\n",
    "<pre><div class='code-block'>9 ==> -1\n",
    "111 ==> -1\n",
    "531 ==> -1</div></pre>\n",
    "\n",
    "\n",
    "<pre><div class='code-block'>nextBigger(num: <span class='code-int'>9</span>)   <span class='code-comment'>// returns nil</span>\n",
    "nextBigger(num: <span class='code-int'>111</span>) <span class='code-comment'>// returns nil</span>\n",
    "nextBigger(num: <span class='code-int'>531</span>) <span class='code-comment'>// returns nil</span></div></pre>\n",
    "\n"
   ]
  },
  {
   "cell_type": "code",
   "execution_count": 61,
   "metadata": {},
   "outputs": [
    {
     "name": "stdout",
     "output_type": "stream",
     "text": [
      "3144\n"
     ]
    }
   ],
   "source": [
    "nx_bigger = 1443\n",
    "\n",
    "def next_bigger(x):\n",
    "    ls = list(str(x))\n",
    "    num = -2\n",
    "    pos = num + 1\n",
    "    diff = {}\n",
    "    if len(set(ls)) == 1:\n",
    "        return -1\n",
    "    # a number we hold and compare it with items\n",
    "    while num >= -len(ls):\n",
    "        pos = -1\n",
    "        # positions of items where comparison takes place\n",
    "        while pos > num:\n",
    "            if ls[num] < ls[pos]:\n",
    "                # as it might be more than one item bigger than our number \n",
    "                # we make the difference a key to postion and number list value\n",
    "                diff.update({int(ls[pos])-int(ls[num]):[pos,num]})\n",
    "            pos -= 1\n",
    "        if len(diff) >= 1:\n",
    "            #sort items to get the smallest difference\n",
    "            diff = sorted(diff.items())\n",
    "#             print(diff) #test\n",
    "#             print(diff[0][1][0]) #test\n",
    "            catcher = ls.pop(diff[0][1][0])\n",
    "#             print(catcher) #test\n",
    "#             print(diff[0][1][1]) #test\n",
    "            ls[diff[0][1][1]+1:diff[0][1][1]+1]= catcher\n",
    "            ls[diff[0][1][1]+1:] = sorted(ls[diff[0][1][1]+1:])\n",
    "            return int(''.join(ls))\n",
    "        num -= 1\n",
    "    return -1\n",
    "'''\n",
    "main idea is if the digit we hold -which is not the last- is samller than one of last digits,\n",
    "then the nearst bigger last digit should take his position\n",
    "and then sort the last digits from smallest to biggest\n",
    "'''\n",
    "print(next_bigger(nx_bigger))"
   ]
  },
  {
   "cell_type": "markdown",
   "metadata": {},
   "source": [
    "## Sort binary tree by levels\n",
    "\n",
    "You are given a binary tree:\n",
    "\n",
    "<pre><div class='code-block'><span class='code-parent'>class</span> <span class='code-int'>Node</span>:\n",
    "    <span class='code-parent'>def</span> <span class='code-int'>__init__</span>(<span class='code-self'>self</span>, L, R, n):\n",
    "        <span class='code-self'>self.left</span> = L\n",
    "        <span class='code-self'>self.right</span> = R\n",
    "        <span class='code-self'>self.value</span> = n</div></pre>\n",
    "\n",
    "Your task is to return the list with elements from tree sorted by levels, which means the root element goes first, then root children (from left to right) are second and third, and so on.\n",
    "\n",
    "Return empty list if root is <span class='rules'>None.</span>\n",
    "\n",
    "#### Example 1 - following tree:\n",
    "\n",
    "<pre><div class='code-block'>                 2\n",
    "            8        9\n",
    "          1  3     4   5</div></pre>\n",
    "\n",
    "#### Should return following list:\n",
    "\n",
    "<pre><div class='code-block'>[2,8,9,1,3,4,5]</div></pre>\n",
    "\n",
    "#### Example 2 - following tree:\n",
    "\n",
    "<pre><div class='code-block'>                 1\n",
    "            8        4\n",
    "              3        5\n",
    "                         7</div></pre>\n",
    "\n",
    "#### Should return following list:\n",
    "\n",
    "<pre><div class='code-block'>[1,8,4,3,5,7]</div></pre>\n",
    "\n"
   ]
  },
  {
   "cell_type": "code",
   "execution_count": 62,
   "metadata": {},
   "outputs": [],
   "source": [
    "def tree_by_levels(node):\n",
    "    nodes = [node]\n",
    "    binary_sort = []\n",
    "    while nodes:\n",
    "        v = nodes.pop(0)\n",
    "        if v is not None:\n",
    "            binary_sort.append(v.value)\n",
    "            binary_sort += [v.left,v.right]\n",
    "    return binary_sort if not node is None else []"
   ]
  },
  {
   "cell_type": "markdown",
   "metadata": {},
   "source": [
    "## Next smaller number with the same digits\n",
    "Write a function that takes a positive integer and returns the next smaller positive integer containing the same digits.\n",
    "\n",
    "For example:\n",
    "\n",
    "<pre><div class='code-block'>next_smaller(<span class='code-int'>21</span>) == <span class='code-int'>12</span>\n",
    "next_smaller(<span class='code-int'>531</span>) == <span class='code-int'>513</span>\n",
    "next_smaller(<span class='code-int'>2071</span>) == <span class='code-int'>2017</span></div></pre>\n",
    "\n",
    "Return -1 (for <span class='rules'>Haskell</span>: return <span class='rules'>Nothing</span>, for <span class='rules'>Rust</span>: return <span class='rules'>None</span>), when there is no smaller number that contains the same digits. Also return -1 when the next smaller number with the same digits would require the leading digit to be zero.\n",
    "\n",
    "<pre><div class='code-block'>next_smaller(<span class='code-int'>9</span>) == <span class='code-int'>-1</span>\n",
    "next_smaller(<span class='code-int'>135</span>) == <span class='code-int'>-1</span>\n",
    "next_smaller(<span class='code-int'>1027</span>) == <span class='code-int'>-1</span>  <span class='code-comment'># 0721 is out since we don't write numbers with leading zeros</span></div></pre>\n",
    "\n",
    "* some tests will include very large numbers.\n",
    "* test data only employs positive integers.\n"
   ]
  },
  {
   "cell_type": "code",
   "execution_count": 63,
   "metadata": {},
   "outputs": [
    {
     "name": "stdout",
     "output_type": "stream",
     "text": [
      "890\n"
     ]
    }
   ],
   "source": [
    "nx_smallest = 908\n",
    "\n",
    "def next_smaller(x):\n",
    "    ls = list(str(x))\n",
    "    num = -2\n",
    "    pos = num + 1\n",
    "    diff = {}\n",
    "    if len(set(ls)) == 1:\n",
    "        return -1\n",
    "    elif len(set(ls)) == 2 & 0 in ls :\n",
    "        return -1\n",
    "    # a number we hold and compare it with items\n",
    "    while num >= -len(ls):\n",
    "        pos = -1\n",
    "        # positions of items where comparison takes place\n",
    "        while pos > num:\n",
    "            if ls[num] > ls[pos]:\n",
    "                # as it might be more than one item bigger than our number \n",
    "                # we make the difference a key to postion and number list value\n",
    "                diff.update({int(ls[pos])-int(ls[num]):[pos,num]})\n",
    "            pos -= 1\n",
    "        if len(diff) >= 1:\n",
    "            #sort items to get the smallest difference\n",
    "            diff = sorted(diff.items(),reverse=True)\n",
    "#             print(diff) #test\n",
    "#             print(diff[0][1][0]) #test\n",
    "            catcher = ls.pop(diff[0][1][0])\n",
    "#             print(catcher) #test\n",
    "#             print(diff[0][1][1]) #test\n",
    "            ls[diff[0][1][1]+1:diff[0][1][1]+1]= catcher\n",
    "            ls[diff[0][1][1]+1:] = sorted(ls[diff[0][1][1]+1:],reverse=True)\n",
    "            nx_smallest = int(''.join(ls))\n",
    "            # cather for zeros and stat of number\n",
    "            if nx_smallest < x and len(list(str(nx_smallest))) == len(list(str(x))):\n",
    "                return nx_smallest\n",
    "            else:\n",
    "                return -1\n",
    "        num -= 1\n",
    "    return -1\n",
    "\n",
    "print(next_smaller(nx_smallest))"
   ]
  },
  {
   "cell_type": "markdown",
   "metadata": {},
   "source": [
    "## Valid Paretheses\n",
    "Write a function that takes a string of parentheses, and determines if the order of the parentheses is valid. The function should return <span class='rules'>true</span> if the string is valid, and <span class='rules'>false</span> if it's invalid.\n",
    "Examples\n",
    "\n",
    "<pre><div class='code-block'>\"()\"              =>  true\n",
    "\")(()))\"          =>  false\n",
    "\"(\"               =>  false\n",
    "\"(())((()())())\"  =>  true</div></pre>\n",
    "\n",
    "Constraints\n",
    "\n",
    "<span class='rules'>0 &lt;= input.length &gt;= 100</span>\n",
    "\n",
    "Along with opening (<span class='rules'>(</span>) and closing (<span class='rules'>)</span>) parenthesis, input may contain any valid ASCII characters. Furthermore, the input string may be empty and/or not contain any parentheses at all. Do not treat other forms of brackets as parentheses (e.g. <span class='rules'>[]</span>, <span class='rules'>{}</span>, <span class='rules'>&lt;&gt;</span>).\n"
   ]
  },
  {
   "cell_type": "code",
   "execution_count": 64,
   "metadata": {},
   "outputs": [],
   "source": [
    "def valid_parentheses(string):\n",
    "    string = [i for i in string if i == \"(\" or i == \")\"]\n",
    "    stack, pchar = [], {\"(\": \")\", \"{\": \"}\", \"[\": \"]\"}\n",
    "    for parenthese in string:\n",
    "        if parenthese in pchar:\n",
    "            stack.append(parenthese)\n",
    "        elif len(stack) == 0 or pchar[stack.pop()] != parenthese:\n",
    "            return False\n",
    "    return len(stack) == 0"
   ]
  },
  {
   "cell_type": "markdown",
   "metadata": {},
   "source": [
    "## Create Phone Number\n",
    "\n",
    "Write a function that accepts an array of 10 integers (between 0 and 9), that returns a string of those numbers in the form of a phone number.\n",
    "### Example:\n",
    "\n",
    "<pre><div class='code-block'>create_phone_number([<span class='code-int'>1</span>, <span class='code-int'>2</span>, <span class='code-int'>3</span>, <span class='code-int'>4</span>, <span class='code-int'>5</span>, <span class='code-int'>6</span>, <span class='code-int'>7</span>, <span class='code-int'>8</span>, <span class='code-int'>9</span>, <span class='code-int'>0</span>]) <span class='code-comment'># => returns \"(123) 456-7890\" </span></div></pre>\n",
    "\n",
    "The returned format must be correct in order to complete this challenge.\n",
    "Don't forget the space after the closing parentheses!\n"
   ]
  },
  {
   "cell_type": "code",
   "execution_count": 66,
   "metadata": {},
   "outputs": [
    {
     "name": "stdout",
     "output_type": "stream",
     "text": [
      "(123) 456-7890\n"
     ]
    }
   ],
   "source": [
    "phone_list = [1, 2, 3, 4, 5, 6, 7, 8, 9, 0]\n",
    "def create_phone_number(n):\n",
    "    '''\n",
    "    even cleaner :\n",
    "    def create_phone_number(n):\n",
    "        return \"({}{}{}) {}{}{}-{}{}{}{}\".format(*n)\n",
    "    '''\n",
    "    phone = list(map(str,n))\n",
    "    return f\"({''.join(phone[:3])}) {''.join(phone[3:6])}-{''.join(phone[6:])}\"\n",
    "print(create_phone_number(phone_list))"
   ]
  },
  {
   "cell_type": "code",
   "execution_count": null,
   "metadata": {},
   "outputs": [],
   "source": []
  }
 ],
 "metadata": {
  "kernelspec": {
   "display_name": "Python 3",
   "language": "python",
   "name": "python3"
  },
  "language_info": {
   "codemirror_mode": {
    "name": "ipython",
    "version": 3
   },
   "file_extension": ".py",
   "mimetype": "text/x-python",
   "name": "python",
   "nbconvert_exporter": "python",
   "pygments_lexer": "ipython3",
   "version": "3.8.8"
  }
 },
 "nbformat": 4,
 "nbformat_minor": 4
}
