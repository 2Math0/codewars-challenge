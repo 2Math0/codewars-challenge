{
 "cells": [
  {
   "cell_type": "markdown",
   "metadata": {},
   "source": [
    "remove the repeated consequence strings in the list"
   ]
  },
  {
   "cell_type": "code",
   "execution_count": 1,
   "metadata": {},
   "outputs": [
    {
     "name": "stdout",
     "output_type": "stream",
     "text": [
      "['a', 'b', 'a', 'c', 'd']\n"
     ]
    }
   ],
   "source": [
    "rpeated_letters=['a','a','a','a','b','b','b','c','c','c']\n",
    "mixed_repeated_letters=['a','a','a','b','b','b','a','a','a','c','d']\n",
    "\n",
    "def filtering(strings):\n",
    "    x = 0\n",
    "    while x < len(strings)-1:\n",
    "        if strings[x] == strings[x+1]:\n",
    "            del strings[x]\n",
    "        else:\n",
    "            x=x+1\n",
    "        \n",
    "    return strings\n",
    "        \n",
    "print(filtering(mixed_repeated_letters))"
   ]
  },
  {
   "cell_type": "markdown",
   "metadata": {},
   "source": [
    "count x and o in list return true if they are equivalent .. case insensetive"
   ]
  },
  {
   "cell_type": "code",
   "execution_count": 2,
   "metadata": {},
   "outputs": [
    {
     "name": "stdout",
     "output_type": "stream",
     "text": [
      "False\n"
     ]
    }
   ],
   "source": [
    "strxo='xxxooo' #true\n",
    "strXo='xxXozd' #false\n",
    "\n",
    "def xoCounter(xs):\n",
    "    list_xo = list(xs)\n",
    "    list_xo = [letter.lower() for letter in list_xo]\n",
    "    x = 0\n",
    "    o = 0\n",
    "    for item in list_xo:\n",
    "        if item == 'x':\n",
    "            x = x+1\n",
    "        elif item == 'o':\n",
    "            o = o+1\n",
    "        else:\n",
    "            pass\n",
    "    \n",
    "    if x == o:\n",
    "        return True\n",
    "    else:\n",
    "        return False\n",
    "print(xoCounter(strXo))"
   ]
  },
  {
   "cell_type": "markdown",
   "metadata": {},
   "source": [
    "define the sum of numbers that are divisible by 3 and 5"
   ]
  },
  {
   "cell_type": "code",
   "execution_count": 6,
   "metadata": {},
   "outputs": [
    {
     "name": "stdout",
     "output_type": "stream",
     "text": [
      "23\n"
     ]
    }
   ],
   "source": [
    "random_num = 10\n",
    "def multipleNum(num):\n",
    "    nnum = [item for item in range(0,num)]\n",
    "    list_multiple = [item for item in nnum if item % 3 == 0 or item % 5 == 0]\n",
    "    sum_multiple = sum(list_multiple)\n",
    "    return sum_multiple\n",
    "print(multipleNum(random_num))"
   ]
  },
  {
   "cell_type": "markdown",
   "metadata": {},
   "source": [
    "colors are labeld from 'a' to 'm', out of these are errors find number of errors out of all given colors"
   ]
  },
  {
   "cell_type": "code",
   "execution_count": 14,
   "metadata": {},
   "outputs": [
    {
     "name": "stdout",
     "output_type": "stream",
     "text": [
      "3/56\n"
     ]
    }
   ],
   "source": [
    "color_alphabet = list(map(chr, range(97, 110)))\n",
    "color_character = \"aaaaaaaaaaaaaaaabbbbbbbbbbbbbbbbbbmmmmmmmmmmmmmmmmmmmxyz\"\n",
    "def colorPrintErrors(s):\n",
    "    list_s = [item for item in s]\n",
    "    errors = [item for item in list_s if item not in color_alphabet]\n",
    "    return f'{len(errors)}/{len(list_s)}'\n",
    "print(colorPrintErrors(color_character))"
   ]
  },
  {
   "cell_type": "markdown",
   "metadata": {},
   "source": [
    "get list of names as input and return the likes as follows; dump if else"
   ]
  },
  {
   "cell_type": "code",
   "execution_count": 1,
   "metadata": {},
   "outputs": [],
   "source": [
    "def likes(names):\n",
    "    \n",
    "    if not names:\n",
    "        return 'no one likes this'\n",
    "    else:\n",
    "        if len(names) > 3:\n",
    "            return f'{names[0]}, {names[1]} and {len(names)-2} others like this'\n",
    "        elif len(names) > 2:\n",
    "            return f'{names[0]}, {names[1]} and {names[2]} like this'\n",
    "        elif len(names) == 2:\n",
    "            return f'{names[0]} and {names[1]} like this'\n",
    "        elif len(names) == 1:\n",
    "            return f'{names[0]} likes this'"
   ]
  },
  {
   "cell_type": "markdown",
   "metadata": {},
   "source": [
    "Given two arrays (lists) measure if one of them items are the square of other one items"
   ]
  },
  {
   "cell_type": "code",
   "execution_count": 87,
   "metadata": {},
   "outputs": [
    {
     "name": "stdout",
     "output_type": "stream",
     "text": [
      "True\n"
     ]
    }
   ],
   "source": [
    "comp1 = [121, 144, 19, 161, 19, 144, 19, 11] \n",
    "comp2 = [121, 14641, 20736, 361, 25921, 361, 20736, 361]\n",
    "def comp(array1, array2):\n",
    "    if array1 is None or array2 is None:\n",
    "        return False\n",
    "    elif array1 is None and array2 is None:\n",
    "        return True\n",
    "    elif len(array1) == len(array2):\n",
    "        for item1 in array1:\n",
    "            for item2 in array2:\n",
    "                index2 = array2.index(item2)\n",
    "                if item1 == item2**0.5 or item1 == item2**2:\n",
    "                    del array2[index2]\n",
    "                    break\n",
    "        if array2 is None or len(array2) == 0 :\n",
    "            return True\n",
    "        else:\n",
    "            return False\n",
    "    else:\n",
    "        return False\n",
    "print(comp(comp1,comp2))"
   ]
  },
  {
   "cell_type": "markdown",
   "metadata": {},
   "source": [
    "define the input if it is square root or not "
   ]
  },
  {
   "cell_type": "code",
   "execution_count": 8,
   "metadata": {},
   "outputs": [
    {
     "name": "stdout",
     "output_type": "stream",
     "text": [
      "True\n"
     ]
    }
   ],
   "source": [
    "def is_square(n):\n",
    "    root = n**0.5\n",
    "    if n > 0 and root % int(root) == 0:\n",
    "        return True\n",
    "    elif n == 0:\n",
    "        return True\n",
    "    else:\n",
    "        return False\n",
    "print(is_square(0))\n",
    "\n",
    "#Best Solution\n",
    "\n",
    "# def is_square(n):    \n",
    "#    return n >= 0 and (n**0.5) % 1 == 0"
   ]
  },
  {
   "cell_type": "markdown",
   "metadata": {},
   "source": [
    "give the digital clock for mentioned seconds"
   ]
  },
  {
   "cell_type": "code",
   "execution_count": 12,
   "metadata": {},
   "outputs": [
    {
     "name": "stdout",
     "output_type": "stream",
     "text": [
      "1:0:0\n"
     ]
    }
   ],
   "source": [
    "seconds = 3600\n",
    "def make_readable(seconds):\n",
    "    return f\"{int(seconds/(60*60))%60}:{int(seconds/60)%60}:{seconds%60}\" if seconds <= 359999 else False\n",
    "\n",
    "print(make_readable(seconds))"
   ]
  },
  {
   "cell_type": "code",
   "execution_count": 15,
   "metadata": {},
   "outputs": [
    {
     "name": "stdout",
     "output_type": "stream",
     "text": [
      "HiIamThomas\n"
     ]
    }
   ],
   "source": [
    "camelCaseString = 'Hi_Iam_thomas'\n",
    "def to_camel_case(text):\n",
    "    n = 0\n",
    "    string0 = ''\n",
    "    camel_list = [i for i in text]\n",
    "    for item in camel_list:\n",
    "        if item == '_' or item == '-':\n",
    "            del camel_list[n]\n",
    "            camel_list[n] = camel_list[n].upper()\n",
    "            n = n+1\n",
    "        else:\n",
    "            n = n+1\n",
    "    return string0.join(camel_list)\n",
    "print(to_camel_case(camelCaseString))"
   ]
  },
  {
   "cell_type": "code",
   "execution_count": null,
   "metadata": {},
   "outputs": [],
   "source": []
  }
 ],
 "metadata": {
  "kernelspec": {
   "display_name": "Python 3",
   "language": "python",
   "name": "python3"
  },
  "language_info": {
   "codemirror_mode": {
    "name": "ipython",
    "version": 3
   },
   "file_extension": ".py",
   "mimetype": "text/x-python",
   "name": "python",
   "nbconvert_exporter": "python",
   "pygments_lexer": "ipython3",
   "version": "3.8.6"
  }
 },
 "nbformat": 4,
 "nbformat_minor": 4
}
