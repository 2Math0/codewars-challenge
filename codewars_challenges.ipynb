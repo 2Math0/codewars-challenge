{
 "cells": [
  {
   "cell_type": "code",
   "execution_count": 1,
   "metadata": {},
   "outputs": [
    {
     "data": {
      "text/html": [
       "<style>\n",
       "        .code-block{\n",
       "            background-color:#171719;\n",
       "            color:#fff;\n",
       "            padding:12px;\n",
       "            border:solid 0px #00ffffff;\n",
       "            border-radius:.375rem;\n",
       "            font-family: monospace;\n",
       "            margin-left:0px;\n",
       "        }\n",
       "        .code-string{\n",
       "            color:#b5bd68;\n",
       "        }\n",
       "        .code-int{\n",
       "            color:#de935f;\n",
       "        }\n",
       "        .code-comment{\n",
       "            color:#909091;\n",
       "            font-style:italic;\n",
       "        }\n",
       "        .rules{\n",
       "            border: 2px solid #dadada;\n",
       "            border-radius:8px;\n",
       "            background-color:#262729;\n",
       "            padding-top:2px;\n",
       "            padding-bottom:2px;\n",
       "            padding-right:8px;\n",
       "            padding-left:8px;\n",
       "            margin:6px;\n",
       "            color:white;\n",
       "            font-family: monospace;\n",
       "        }\n",
       "        .code-parent{\n",
       "            color:#b294bb;\n",
       "        }\n",
       "        .code-self{\n",
       "            color:#89b6c5;\n",
       "        }\n",
       "    </style>"
      ],
      "text/plain": [
       "<IPython.core.display.HTML object>"
      ]
     },
     "execution_count": 1,
     "metadata": {},
     "output_type": "execute_result"
    }
   ],
   "source": [
    "from IPython.core.display import HTML\n",
    "HTML(\"\"\"<style>\n",
    "        .code-block{\n",
    "            background-color:#171719;\n",
    "            color:#fff;\n",
    "            padding:12px;\n",
    "            border:solid 0px #00ffffff;\n",
    "            border-radius:.375rem;\n",
    "            font-family: monospace;\n",
    "            margin-left:0px;\n",
    "        }\n",
    "        .code-string{\n",
    "            color:#b5bd68;\n",
    "        }\n",
    "        .code-int{\n",
    "            color:#de935f;\n",
    "        }\n",
    "        .code-comment{\n",
    "            color:#909091;\n",
    "            font-style:italic;\n",
    "        }\n",
    "        .rules{\n",
    "            border: 2px solid #dadada;\n",
    "            border-radius:8px;\n",
    "            background-color:#262729;\n",
    "            padding-top:2px;\n",
    "            padding-bottom:2px;\n",
    "            padding-right:8px;\n",
    "            padding-left:8px;\n",
    "            margin:6px;\n",
    "            color:white;\n",
    "            font-family: monospace;\n",
    "        }\n",
    "        .code-parent{\n",
    "            color:#b294bb;\n",
    "        }\n",
    "        .code-self{\n",
    "            color:#89b6c5;\n",
    "        }\n",
    "    </style>\"\"\")"
   ]
  },
  {
   "cell_type": "markdown",
   "metadata": {},
   "source": [
    "remove the repeated consequence strings in the list"
   ]
  },
  {
   "cell_type": "code",
   "execution_count": 40,
   "metadata": {},
   "outputs": [
    {
     "name": "stdout",
     "output_type": "stream",
     "text": [
      "['a', 'b', 'a', 'c', 'd']\n"
     ]
    }
   ],
   "source": [
    "rpeated_letters=['a','a','a','a','b','b','b','c','c','c']\n",
    "mixed_repeated_letters=['a','a','a','b','b','b','a','a','a','c','d']\n",
    "\n",
    "def filtering(strings):\n",
    "    x = 0\n",
    "    while x < len(strings)-1:\n",
    "        if strings[x] == strings[x+1]:\n",
    "            del strings[x]\n",
    "        else:\n",
    "            x += 1\n",
    "        \n",
    "    return strings\n",
    "        \n",
    "print(filtering(mixed_repeated_letters))"
   ]
  },
  {
   "cell_type": "markdown",
   "metadata": {},
   "source": [
    "count x and o in list return true if they are equivalent .. case insensetive"
   ]
  },
  {
   "cell_type": "code",
   "execution_count": 41,
   "metadata": {},
   "outputs": [
    {
     "name": "stdout",
     "output_type": "stream",
     "text": [
      "False\n"
     ]
    }
   ],
   "source": [
    "strxo='xxxooo' #true\n",
    "strXo='xxXozd' #false\n",
    "\n",
    "def xoCounter(xs):\n",
    "    list_xo = list(xs)\n",
    "    list_xo = [letter.lower() for letter in list_xo]\n",
    "    x = 0\n",
    "    o = 0\n",
    "    for item in list_xo:\n",
    "        if item == 'x':\n",
    "            x += 1\n",
    "        elif item == 'o':\n",
    "            o += 1\n",
    "        else:\n",
    "            pass\n",
    "    \n",
    "    if x == o:\n",
    "        return True\n",
    "    else:\n",
    "        return False\n",
    "print(xoCounter(strXo))"
   ]
  },
  {
   "cell_type": "markdown",
   "metadata": {},
   "source": [
    "define the sum of numbers that are divisible by 3 and 5"
   ]
  },
  {
   "cell_type": "code",
   "execution_count": 42,
   "metadata": {},
   "outputs": [
    {
     "name": "stdout",
     "output_type": "stream",
     "text": [
      "23\n"
     ]
    }
   ],
   "source": [
    "random_num = 10\n",
    "def multipleNum(num):\n",
    "    nnum = [item for item in range(0,num)]\n",
    "    list_multiple = [item for item in nnum if item % 3 == 0 or item % 5 == 0]\n",
    "    sum_multiple = sum(list_multiple)\n",
    "    return sum_multiple\n",
    "print(multipleNum(random_num))"
   ]
  },
  {
   "cell_type": "markdown",
   "metadata": {},
   "source": [
    "colors are labeld from 'a' to 'm', out of these are errors find number of errors out of all given colors"
   ]
  },
  {
   "cell_type": "code",
   "execution_count": 43,
   "metadata": {},
   "outputs": [
    {
     "name": "stdout",
     "output_type": "stream",
     "text": [
      "3/56\n"
     ]
    }
   ],
   "source": [
    "color_alphabet = list(map(chr, range(97, 110)))\n",
    "color_character = \"aaaaaaaaaaaaaaaabbbbbbbbbbbbbbbbbbmmmmmmmmmmmmmmmmmmmxyz\"\n",
    "def colorPrintErrors(s):\n",
    "    list_s = [item for item in s]\n",
    "    errors = [item for item in list_s if item not in color_alphabet]\n",
    "    return f'{len(errors)}/{len(list_s)}'\n",
    "print(colorPrintErrors(color_character))"
   ]
  },
  {
   "cell_type": "markdown",
   "metadata": {},
   "source": [
    "get list of names as input and return the likes as follows; dump if else"
   ]
  },
  {
   "cell_type": "code",
   "execution_count": 44,
   "metadata": {},
   "outputs": [],
   "source": [
    "def likes(names):\n",
    "    \n",
    "    if not names:\n",
    "        return 'no one likes this'\n",
    "    else:\n",
    "        if len(names) > 3:\n",
    "            return f'{names[0]}, {names[1]} and {len(names)-2} others like this'\n",
    "        elif len(names) > 2:\n",
    "            return f'{names[0]}, {names[1]} and {names[2]} like this'\n",
    "        elif len(names) == 2:\n",
    "            return f'{names[0]} and {names[1]} like this'\n",
    "        elif len(names) == 1:\n",
    "            return f'{names[0]} likes this'"
   ]
  },
  {
   "cell_type": "markdown",
   "metadata": {},
   "source": [
    "Given two arrays (lists) measure if one of them items are the square of other one items"
   ]
  },
  {
   "cell_type": "code",
   "execution_count": 45,
   "metadata": {},
   "outputs": [
    {
     "name": "stdout",
     "output_type": "stream",
     "text": [
      "True\n"
     ]
    }
   ],
   "source": [
    "comp1 = [121, 144, 19, 161, 19, 144, 19, 11] \n",
    "comp2 = [121, 14641, 20736, 361, 25921, 361, 20736, 361]\n",
    "def comp(array1, array2):\n",
    "    if array1 is None or array2 is None:\n",
    "        return False\n",
    "    elif array1 is None and array2 is None:\n",
    "        return True\n",
    "    elif len(array1) == len(array2):\n",
    "        for item1 in array1:\n",
    "            for item2 in array2:\n",
    "                index2 = array2.index(item2)\n",
    "                if item1 == item2**0.5 or item1 == item2**2:\n",
    "                    del array2[index2]\n",
    "                    break\n",
    "        if array2 is None or len(array2) == 0 :\n",
    "            return True\n",
    "        else:\n",
    "            return False\n",
    "    else:\n",
    "        return False\n",
    "print(comp(comp1,comp2))"
   ]
  },
  {
   "cell_type": "markdown",
   "metadata": {},
   "source": [
    "define the input if it is square root or not "
   ]
  },
  {
   "cell_type": "code",
   "execution_count": 46,
   "metadata": {},
   "outputs": [
    {
     "name": "stdout",
     "output_type": "stream",
     "text": [
      "True\n"
     ]
    }
   ],
   "source": [
    "def is_square(n):\n",
    "    root = n**0.5\n",
    "    if n > 0 and root % int(root) == 0:\n",
    "        return True\n",
    "    elif n == 0:\n",
    "        return True\n",
    "    else:\n",
    "        return False\n",
    "print(is_square(0))\n",
    "\n",
    "#Best Solution\n",
    "\n",
    "# def is_square(n):    \n",
    "#    return n >= 0 and (n**0.5) % 1 == 0"
   ]
  },
  {
   "cell_type": "markdown",
   "metadata": {},
   "source": [
    "give the digital clock for mentioned seconds"
   ]
  },
  {
   "cell_type": "code",
   "execution_count": 47,
   "metadata": {},
   "outputs": [
    {
     "name": "stdout",
     "output_type": "stream",
     "text": [
      "1:0:0\n"
     ]
    }
   ],
   "source": [
    "seconds = 3600\n",
    "def make_readable(seconds):\n",
    "    return f\"{int(seconds/(60*60))%60}:{int(seconds/60)%60}:{seconds%60}\" if seconds <= 359999 else False\n",
    "\n",
    "print(make_readable(seconds))"
   ]
  },
  {
   "cell_type": "markdown",
   "metadata": {},
   "source": [
    "replace underscores and dashes into camelCasing string"
   ]
  },
  {
   "cell_type": "code",
   "execution_count": 48,
   "metadata": {},
   "outputs": [
    {
     "name": "stdout",
     "output_type": "stream",
     "text": [
      "HiIamThomas\n"
     ]
    }
   ],
   "source": [
    "camelCaseString = 'Hi_Iam_thomas'\n",
    "def to_camel_case(text):\n",
    "    n = 0\n",
    "    string0 = ''\n",
    "    camel_list = [i for i in text]\n",
    "    for item in camel_list:\n",
    "        if item == '_' or item == '-':\n",
    "            del camel_list[n]\n",
    "            camel_list[n] = camel_list[n].upper()\n",
    "            n += 1\n",
    "        else:\n",
    "            n += 1\n",
    "    return string0.join(camel_list)\n",
    "print(to_camel_case(camelCaseString))"
   ]
  },
  {
   "cell_type": "markdown",
   "metadata": {},
   "source": [
    "Find how many letters that are repeated -case insensitive-"
   ]
  },
  {
   "cell_type": "code",
   "execution_count": 49,
   "metadata": {},
   "outputs": [
    {
     "name": "stdout",
     "output_type": "stream",
     "text": [
      "5\n"
     ]
    }
   ],
   "source": [
    "dublicate_str='abaDDBedknkn'\n",
    "def duplicate_count(text):\n",
    "    n = 0\n",
    "    index = 0\n",
    "    txt_list= [i for i in text.lower()]\n",
    "    shouldRestart = True \n",
    "    while shouldRestart:\n",
    "        l = len(txt_list)\n",
    "        shouldRestart = False if l == 0 or l == 1 else True\n",
    "        txt_list[:] = [x for x in txt_list if x != txt_list[index]]\n",
    "        if len(txt_list) != l-1 and l != 0:\n",
    "            n += 1\n",
    "            index=0\n",
    "        else:\n",
    "            index += 1 if len(txt_list) > index+1 else 0\n",
    "    return n\n",
    "\n",
    "print(duplicate_count(dublicate_str))\n"
   ]
  },
  {
   "cell_type": "markdown",
   "metadata": {},
   "source": [
    "sum the digits of the given number and order the numbers list by their summition -if equal then order as string 1 before 2-"
   ]
  },
  {
   "cell_type": "code",
   "execution_count": 50,
   "metadata": {},
   "outputs": [
    {
     "name": "stdout",
     "output_type": "stream",
     "text": [
      "['103', '1100', '123', '2000', '4444', '6', '99']\n",
      "None\n"
     ]
    }
   ],
   "source": [
    "weight_sum = \"103 123 6 4444 99 2000 1100\"\n",
    "\n",
    "def order_weight(strng):\n",
    "    dic = {}\n",
    "    weightList = strng.split(' ')\n",
    "    for no in weightList :\n",
    "        value = 0\n",
    "        for digit in no:\n",
    "            value = value + int(digit)\n",
    "        dic.update({no : value})\n",
    "    sorted_dict = dict(sorted(dic.items(), key=lambda item: item[1]))\n",
    "    return list(sorted_dict.keys())\n",
    "\n",
    "def order_weight2(txt):\n",
    "    dd = []\n",
    "    weight_list = sorted(txt.split(' '))\n",
    "    print(weight_list)\n",
    "    for i in range(len(weight_list)):\n",
    "        value = 0\n",
    "        for digit in weight_list[i]:\n",
    "            value = value +int(digit)\n",
    "        weight_list[i] = [value,weight_list[i]]\n",
    "print(order_weight2(weight_sum))"
   ]
  },
  {
   "cell_type": "markdown",
   "metadata": {},
   "source": [
    "You will be given an array of numbers. You have to sort the odd numbers in ascending order while leaving the even numbers at their original positions."
   ]
  },
  {
   "cell_type": "code",
   "execution_count": 51,
   "metadata": {},
   "outputs": [
    {
     "name": "stdout",
     "output_type": "stream",
     "text": [
      "[1, 1, 5, 11, 2, 11, 111, 0]\n"
     ]
    }
   ],
   "source": [
    "mixed_num = [1, 5, 11, 11, 2, 1, 111, 0]\n",
    "def sort_array(source_array):\n",
    "    odd_list = []\n",
    "    for number in source_array:\n",
    "        if (number%2!=0):\n",
    "            odd_list.append(number)\n",
    "            odd_list.sort()\n",
    "    output = [i for i in source_array]\n",
    "    for number in source_array:\n",
    "#         print(number)\n",
    "        if number%2!=0 :\n",
    "            index = [i for i, j in enumerate(source_array) if j==number]\n",
    "#             print(f'{index} postions')\n",
    "#             print(f'{odd_list} odd')\n",
    "            if (len(index) >= 1):\n",
    "                source_array[index[0]] = 'a'\n",
    "                output[index[0]] = odd_list[0]\n",
    "                del odd_list[0]\n",
    "#                 print(f'{output} result')\n",
    "    return output\n",
    "print(sort_array(mixed_num))"
   ]
  },
  {
   "cell_type": "markdown",
   "metadata": {},
   "source": [
    "Complete the solution so that it splits the string into pairs of two characters. If the string contains an odd number of characters then it should replace the missing second character of the final pair with an underscore ('_')."
   ]
  },
  {
   "cell_type": "code",
   "execution_count": 52,
   "metadata": {},
   "outputs": [
    {
     "name": "stdout",
     "output_type": "stream",
     "text": [
      "['as', 'fa', 'sf']\n"
     ]
    }
   ],
   "source": [
    "character_double = 'asdfadsf'\n",
    "def solution(s):\n",
    "    arr = []\n",
    "    n = 0\n",
    "    if len(s) % 2 == 0:\n",
    "        while n <= len(s) -1 :\n",
    "            arr.append(s[n:n+2])\n",
    "            n += 3\n",
    "#             print(n)\n",
    "    elif (len(s) == 0):\n",
    "        return arr\n",
    "    else:\n",
    "        while n <= len(s) -1 :\n",
    "            arr.append(s[n:n+2])\n",
    "            n += 2\n",
    "        arr[-1] = s[-1] + '_'\n",
    "    return arr\n",
    "\n",
    "print(solution(character_double))"
   ]
  },
  {
   "cell_type": "markdown",
   "metadata": {},
   "source": [
    "### The marketing team is spending way too much time typing in hashtags.\n",
    "_Let's help them with our own Hashtag Generator!_\n",
    "\n",
    "### Here's the deal:\n",
    "\n",
    "   * It must start with a __hashtag__ (#).\n",
    "   * All words must have their first letter __capitalized__.\n",
    "   * If the final result is longer than 140 chars it must return __false__.\n",
    "   * If the input or the result is an empty string it must return __false__.\n"
   ]
  },
  {
   "cell_type": "code",
   "execution_count": 53,
   "metadata": {},
   "outputs": [
    {
     "name": "stdout",
     "output_type": "stream",
     "text": [
      "#CodewarsIsNice\n",
      "False\n"
     ]
    }
   ],
   "source": [
    "marketingTypings = 'codewars is nice'\n",
    "\n",
    "def generate_hashtag(s):\n",
    "    if len(s) == 0 or len(s) > 140:\n",
    "        return False\n",
    "    else:\n",
    "        arr = list(s.split(' '))\n",
    "        n = 0\n",
    "        while n < len(arr):\n",
    "            arr[n] = arr[n].capitalize()\n",
    "            n += 1\n",
    "        hashed = ['#']\n",
    "        hashed.append(''.join(arr))\n",
    "    return ''.join(hashed)\n",
    "print(generate_hashtag(marketingTypings)) \n",
    "print(generate_hashtag('l' * 141))"
   ]
  },
  {
   "cell_type": "markdown",
   "metadata": {},
   "source": [
    "### Write an algorithm that takes an array and moves all of the zeros to the end, preserving the order of the other elements.\n",
    "\n",
    "move_zeros([1, 0, 1, 2, 0, 1, 3]) _# returns [1, 1, 2, 1, 3, 0, 0]_\n"
   ]
  },
  {
   "cell_type": "code",
   "execution_count": 54,
   "metadata": {},
   "outputs": [
    {
     "name": "stdout",
     "output_type": "stream",
     "text": [
      "[1, 2, 3, 2, 7, 0, 0]\n"
     ]
    }
   ],
   "source": [
    "listWzZeros = [1,2,3,0,2,0,7]\n",
    "def move_zeros(array):\n",
    "    p = 0\n",
    "    holder = 0\n",
    "    while p < len(array):\n",
    "        if array[p] == 0:\n",
    "            del array[p]\n",
    "            holder+=1\n",
    "        else:\n",
    "            p +=1\n",
    "    while holder > 0:\n",
    "        array.append(0)\n",
    "        holder-=1\n",
    "    return array\n",
    "print(move_zeros(listWzZeros))"
   ]
  },
  {
   "cell_type": "markdown",
   "metadata": {},
   "source": [
    "### Write a function that accepts a square matrix (N x N 2D array) and returns the determinant of the matrix.\n",
    "For the 3x3 case, <span class='rules'>[ [a, b, c], [d, e, f], [g, h, i] ]</span> or\n",
    "<pre>\n",
    "<div class='code-block'>|a b c|\n",
    "|d e f|\n",
    "|g h i|</pre>\n",
    "</div>\n",
    "the determinant is: <span class='rules'> a * det(a_minor) - b * det(b_minor) + c * det(c_minor) </span>where det(a_minor) refers to taking the determinant of the 2x2 matrix created by crossing out the row and column in which the element a occurs:\n",
    "<pre>\n",
    "<div class='code-block'>|- - -|\n",
    "|- e f|\n",
    "|- h i|</div></pre>\n",
    "\n",
    "Note the alternation of signs.\n",
    "\n",
    "The determinant of larger matrices are calculated analogously, _e.g. if M is a __4x4__ matrix with first row_ <span class='rules'>[a, b, c, d],</span> then:\n",
    "\n",
    "<span class='rules'>det(M) = a * det(a_minor) - b * det(b_minor) + c * det(c_minor) - d * det(d_minor)</span>"
   ]
  },
  {
   "cell_type": "code",
   "execution_count": 55,
   "metadata": {
    "scrolled": false
   },
   "outputs": [
    {
     "name": "stdout",
     "output_type": "stream",
     "text": [
      "5\n"
     ]
    }
   ],
   "source": [
    "import numpy as np\n",
    "matrixArr = [ [5,2,2],\n",
    "             [0,7,1],\n",
    "             [0, 4, 1]]\n",
    "m0 = [[5]]\n",
    "m1 = [ [1, 3], [2,5]]\n",
    "m2 = [ [2,5,3], [1,-2,-1], [1, 3, 4]]\n",
    "\n",
    "def determinant(m):\n",
    "    np_array = np.array(m)\n",
    "    det = np.linalg.det(np_array)\n",
    "    return round(det)\n",
    "\"\"\"\n",
    "I break my challenge, \n",
    "I had to import library and a pip one in this challenge\n",
    "numpy is fast and great, stupid me!\n",
    "\"\"\"\n",
    "print(determinant(m0))"
   ]
  },
  {
   "cell_type": "markdown",
   "metadata": {},
   "source": [
    "### Complete the solution so that it strips all text that follows any of a set of comment markers passed in. Any whitespace at the end of the line should also be stripped out.\n",
    "\n",
    "<b>Example:</b>\n",
    "\n",
    "#### Given an input string of:\n",
    "<pre>\n",
    "<div class='code-block'>apples, pears # and bananas\n",
    "grapes\n",
    "bananas !apples</div></pre>\n",
    "\n",
    "#### The output expected would be:\n",
    "<pre>\n",
    "<div class='code-block'>apples, pears\n",
    "grapes\n",
    "bananas</div></pre>\n",
    "\n",
    "#### The code would be called like so:\n",
    "<pre>\n",
    "<div class='code-block'>result = solution(<span class='code-string'>\"apples, pears # and bananas\\ngrapes\\nbananas !apples\", [\"#\", \"!\"]</span>)\n",
    "<span class='code-comment'># result should == \"apples, pears\\ngrapes\\nbananas\"</span></div></pre>"
   ]
  },
  {
   "cell_type": "code",
   "execution_count": 56,
   "metadata": {},
   "outputs": [
    {
     "name": "stdout",
     "output_type": "stream",
     "text": [
      "apples, pears\n",
      "grapes\n",
      "bananas\n"
     ]
    }
   ],
   "source": [
    "splitable = \"apples, pears # and bananas\\ngrapes\\nbananas !apples\"\n",
    "markers = [\"#\", \"!\"]\n",
    "def solution(string,markers):\n",
    "    splited = []\n",
    "    s_list = [i for i in string]\n",
    "    n = 0\n",
    "    while n < len(s_list):\n",
    "        if s_list[n] in markers:\n",
    "            if s_list[n-1] == ' ':\n",
    "                del splited[-1]\n",
    "            for i in range(n,len(s_list)):\n",
    "                if s_list[i] == '\\n':\n",
    "                    splited.append(s_list[i])\n",
    "                    n = i\n",
    "                    break\n",
    "                elif i == len(s_list) -1:\n",
    "                    n = i\n",
    "            n += 1\n",
    "        else:\n",
    "            splited.append(s_list[n])\n",
    "            n += 1\n",
    "    return ''.join(splited)\n",
    "\n",
    "print(solution(splitable,markers))"
   ]
  },
  {
   "attachments": {
    "snail.png": {
     "image/png": "[encoded data removed]"
    }
   },
   "cell_type": "markdown",
   "metadata": {},
   "source": [
    "## Snail Sort\n",
    "\n",
    "Given an <span class='rules'> n x n </span>array, return the array elements arranged from outermost elements to the middle element, traveling clockwise.\n",
    "\n",
    "<pre><div class='code-block'>array = [[1,2,3],\n",
    "         [4,5,6],\n",
    "         [7,8,9]]\n",
    "snail(array) #=> [1,2,3,6,9,8,7,4,5]</div></pre>\n",
    "\n",
    "For better understanding, please follow the numbers of the next array consecutively:\n",
    "\n",
    "<pre><div class='code-block'>array = [[1,2,3],\n",
    "         [8,9,4],\n",
    "         [7,6,5]]\n",
    "snail(array) #=> [1,2,3,4,5,6,7,8,9]</div></pre>\n",
    "\n",
    "This image will illustrate things more clearly:\n",
    "\n",
    "![snail.png](attachment:snail.png)\n",
    "\n",
    "NOTE: The idea is not sort the elements from the lowest value to the highest; the idea is to traverse the 2-d array in a clockwise snailshell pattern.\n",
    "\n",
    "NOTE 2: The 0x0 (empty matrix) is represented as en empty array inside an array <span class='rules'>[ [ ] ]</span>."
   ]
  },
  {
   "cell_type": "code",
   "execution_count": 57,
   "metadata": {},
   "outputs": [
    {
     "name": "stdout",
     "output_type": "stream",
     "text": [
      "[1, 2, 3, 4, 5, 6, 7, 8, 9]\n"
     ]
    }
   ],
   "source": [
    "snailing_list = [[1,2,3],\n",
    "         [8,9,4],\n",
    "         [7,6,5]]\n",
    "def snail(s):\n",
    "    snail =[]\n",
    "    row_start = 0\n",
    "    row_end = len(s) -1\n",
    "    col_start = 0\n",
    "    col_end = len(s[0]) -1\n",
    "    if len(s) == 0:\n",
    "        return snail\n",
    "    else:\n",
    "        while row_start <= row_end and col_start <= col_end:\n",
    "            for i in range(col_start, col_end+1):\n",
    "                snail.append(s[row_start][i])\n",
    "            row_start += 1\n",
    "            for i in range(row_start, row_end+1):\n",
    "                snail.append(s[i][col_end])\n",
    "            col_end -= 1\n",
    "            if row_start <= row_end:\n",
    "                for i in range(col_end, col_start-1,-1):\n",
    "                    snail.append(s[row_end][i])\n",
    "            row_end -= 1\n",
    "            if col_start <= col_end:\n",
    "                for i in range(row_end, row_start-1,-1):\n",
    "                    snail.append(s[i][col_start])\n",
    "            col_start += 1\n",
    "    return snail\n",
    "print(snail(snailing_list))"
   ]
  },
  {
   "cell_type": "markdown",
   "metadata": {},
   "source": [
    "## ROT13\n",
    "\n",
    "ROT13 is a simple letter substitution cipher that replaces a letter with the letter 13 letters after it in the alphabet. ROT13 is an example of the Caesar cipher.\n",
    "\n",
    "Create a function that takes a string and returns the string ciphered with Rot13. If there are numbers or special characters included in the string, they should be returned as they are. Only letters from the latin/english alphabet should be shifted, like in the original Rot13 \"implementation\".\n",
    "\n",
    "Please note that using <span class='rules'> encode </span> is considered cheating.\n",
    "\n",
    "### Find the index of letter in alphabet and replace it with its subistitution that exceeds it with 13 position in alphabet.\n"
   ]
  },
  {
   "cell_type": "code",
   "execution_count": 58,
   "metadata": {},
   "outputs": [
    {
     "name": "stdout",
     "output_type": "stream",
     "text": [
      "Grfg\n"
     ]
    }
   ],
   "source": [
    "import string\n",
    "rot_decrypt = 'Test'\n",
    "\n",
    "def rot13(message):\n",
    "    encrypt = []\n",
    "    key_small = list(string.ascii_lowercase)\n",
    "    key_capital = list(string.ascii_uppercase)\n",
    "    n = 0\n",
    "    while n < len(message):\n",
    "        if message[n] in key_small:\n",
    "            index = key_small.index(message[n])\n",
    "            try:\n",
    "                encrypt.append(key_small[index+13])\n",
    "            except:\n",
    "                encrypt.append(key_small[index-13])\n",
    "        elif message[n] in key_capital:\n",
    "            index = key_capital.index(message[n])\n",
    "            try:\n",
    "                encrypt.append(key_capital[index+13])\n",
    "            except:\n",
    "                encrypt.append(key_capital[index-13])\n",
    "        else:\n",
    "            encrypt.append(message[n])\n",
    "        n += 1\n",
    "    return ''.join(encrypt)\n",
    "\n",
    "print(rot13(rot_decrypt))"
   ]
  },
  {
   "cell_type": "markdown",
   "metadata": {},
   "source": [
    "## Last digit of a huge number\n",
    "\n",
    "For a given list <span class='rules'> [x1, x2, x3, ..., xn] </span> compute the last (decimal) digit of <span class='rules'> x1 ^ (x2 ^ (x3 ^ (... ^ xn))). </span>\n",
    "\n",
    "E. g.,\n",
    "\n",
    "<div class='code-block'>last_digit([<span class='code-int'>3</span>, <span class='code-int'>4</span>, <span class='code-int'>2</span>]) == <span class='code-int'>1</span></div>\n",
    "\n",
    "because <span class='rules'> 3 ^ (4 ^ 2) = 3 ^ 16 = 43046721. </span>\n",
    "\n",
    "Beware: powers grow incredibly fast. For example,<span class='rules'>9 ^ (9 ^ 9)</span>has more than 369 millions of digits.<span class='rules'>lastDigit</span>has to deal with such numbers efficiently.\n",
    "\n",
    "Corner cases: we assume that<span class='rules'>0 ^ 0 = 1</span>and that<span class='rules'>lastDigit</span>of an empty list equals to 1.\n",
    "\n",
    "This kata generalizes <a href='https://www.codewars.com/kata/last-digit-of-a-large-number/haskell'>Last digit of a large number</a>; you may find useful to solve it beforehand.\n"
   ]
  },
  {
   "cell_type": "code",
   "execution_count": 59,
   "metadata": {
    "scrolled": true
   },
   "outputs": [
    {
     "name": "stdout",
     "output_type": "stream",
     "text": [
      "2\n"
     ]
    }
   ],
   "source": [
    "last_num = [322532, 484694, 367610, 444593]\n",
    "def last_digit(lst):\n",
    "    try:\n",
    "        huge_num = lst[-1]\n",
    "        n = -2\n",
    "        while n >= -len(lst):\n",
    "            huge_num = pow(lst[n], huge_num, pow(10,100))\n",
    "            n -= 1\n",
    "    except:\n",
    "        return 1\n",
    "    return huge_num % 10\n",
    "\"\"\"\n",
    "best answer follow a theory\n",
    "\n",
    "def last_digit(lst):\n",
    "    i = 1\n",
    "    for j in reversed(lst):\n",
    "        i = j ** (i if i < 4 else i % 4 + 4) \n",
    "    return i % 10\n",
    "    \n",
    "Last digit of every number (from 0 to 9) rised to a power is cyclic in a cycle of period 1, 2 or 4.\n",
    "For example last digit of 29^2 is the same as 9^2 or 12986765134876318298769 ^ 2 , and it's 1;\n",
    "Then, last digit of pow(a, b) is the same as pow(a, b%4). Except say pow(a, 12): we don't want to reduce 12 to 0 (12 % 4 = 0) because pow(a, 0) = 1, so we need to add 4.\n",
    "For example: last digit of 3^5 is the same as 3^9, 3^13 or 3^114356789 (3), so for 3^114356789 we can calculate 3^((114356789 % 4) + 4) = 3^5\n",
    "Going this way we can reduce exponents % 4 and get last digit.\n",
    "This can be improved if we reduce the base (mod 4) too. Say we have a^b^c, since b^c is gonna be reduced (mod 4) we cant previously reduce b(mod 4) and get more reasonable numbers. This works for every iteration except for the last one, because we don't want our result to be mod 4 (we want mod 10).\n",
    "This not pretents to be a prove.\n",
    "\n",
    "\"\"\"\n",
    "\n",
    "print(last_digit(last_num))"
   ]
  },
  {
   "cell_type": "markdown",
   "metadata": {},
   "source": [
    "## Next bigger number with the same digits\n",
    "\n",
    "Create a function that takes a positive integer and returns the next bigger number that can be formed by rearranging its digits. For example:\n",
    "\n",
    "<pre><div class='code-block'>12 ==> 21\n",
    "513 ==> 531\n",
    "2017 ==> 2071</div></pre>\n",
    "\n",
    "<pre><div class='code-block'>nextBigger(num: <span class='code-int'>12</span>)<span class='code-comment'>   // returns 21</span>\n",
    "nextBigger(num: <span class='code-int'>513</span>)  <span class='code-comment'>// returns 531</span>\n",
    "nextBigger(num: <span class='code-int'>2017</span>) <span class='code-comment'>// returns 2071</span></div></pre>\n",
    "\n",
    "If the digits can't be rearranged to form a bigger number, return <span class='rules'>-1</span> (or <span class='rules'>nil</span> in Swift):\n",
    "\n",
    "<pre><div class='code-block'>9 ==> -1\n",
    "111 ==> -1\n",
    "531 ==> -1</div></pre>\n",
    "\n",
    "\n",
    "<pre><div class='code-block'>nextBigger(num: <span class='code-int'>9</span>)   <span class='code-comment'>// returns nil</span>\n",
    "nextBigger(num: <span class='code-int'>111</span>) <span class='code-comment'>// returns nil</span>\n",
    "nextBigger(num: <span class='code-int'>531</span>) <span class='code-comment'>// returns nil</span></div></pre>\n",
    "\n"
   ]
  },
  {
   "cell_type": "code",
   "execution_count": 60,
   "metadata": {},
   "outputs": [
    {
     "name": "stdout",
     "output_type": "stream",
     "text": [
      "3144\n"
     ]
    }
   ],
   "source": [
    "nx_bigger = 1443\n",
    "\n",
    "def next_bigger(x):\n",
    "    ls = list(str(x))\n",
    "    num = -2\n",
    "    pos = num + 1\n",
    "    diff = {}\n",
    "    if len(set(ls)) == 1:\n",
    "        return -1\n",
    "    # a number we hold and compare it with items\n",
    "    while num >= -len(ls):\n",
    "        pos = -1\n",
    "        # positions of items where comparison takes place\n",
    "        while pos > num:\n",
    "            if ls[num] < ls[pos]:\n",
    "                # as it might be more than one item bigger than our number \n",
    "                # we make the difference a key to postion and number list value\n",
    "                diff.update({int(ls[pos])-int(ls[num]):[pos,num]})\n",
    "            pos -= 1\n",
    "        if len(diff) >= 1:\n",
    "            #sort items to get the smallest difference\n",
    "            diff = sorted(diff.items())\n",
    "#             print(diff) #test\n",
    "#             print(diff[0][1][0]) #test\n",
    "            catcher = ls.pop(diff[0][1][0])\n",
    "#             print(catcher) #test\n",
    "#             print(diff[0][1][1]) #test\n",
    "            ls[diff[0][1][1]+1:diff[0][1][1]+1]= catcher\n",
    "            ls[diff[0][1][1]+1:] = sorted(ls[diff[0][1][1]+1:])\n",
    "            return int(''.join(ls))\n",
    "        num -= 1\n",
    "    return -1\n",
    "'''\n",
    "main idea is if the digit we hold -which is not the last- is samller than one of last digits,\n",
    "then the nearst bigger last digit should take his position\n",
    "and then sort the last digits from smallest to biggest\n",
    "'''\n",
    "print(next_bigger(nx_bigger))"
   ]
  },
  {
   "cell_type": "markdown",
   "metadata": {},
   "source": [
    "## Sort binary tree by levels\n",
    "\n",
    "You are given a binary tree:\n",
    "\n",
    "<pre><div class='code-block'><span class='code-parent'>class</span> <span class='code-int'>Node</span>:\n",
    "    <span class='code-parent'>def</span> <span class='code-int'>__init__</span>(<span class='code-self'>self</span>, L, R, n):\n",
    "        <span class='code-self'>self.left</span> = L\n",
    "        <span class='code-self'>self.right</span> = R\n",
    "        <span class='code-self'>self.value</span> = n</div></pre>\n",
    "\n",
    "Your task is to return the list with elements from tree sorted by levels, which means the root element goes first, then root children (from left to right) are second and third, and so on.\n",
    "\n",
    "Return empty list if root is <span class='rules'>None.</span>\n",
    "\n",
    "#### Example 1 - following tree:\n",
    "\n",
    "<pre><div class='code-block'>                 2\n",
    "            8        9\n",
    "          1  3     4   5</div></pre>\n",
    "\n",
    "#### Should return following list:\n",
    "\n",
    "<pre><div class='code-block'>[2,8,9,1,3,4,5]</div></pre>\n",
    "\n",
    "#### Example 2 - following tree:\n",
    "\n",
    "<pre><div class='code-block'>                 1\n",
    "            8        4\n",
    "              3        5\n",
    "                         7</div></pre>\n",
    "\n",
    "#### Should return following list:\n",
    "\n",
    "<pre><div class='code-block'>[1,8,4,3,5,7]</div></pre>\n",
    "\n"
   ]
  },
  {
   "cell_type": "code",
   "execution_count": 61,
   "metadata": {},
   "outputs": [],
   "source": [
    "def tree_by_levels(node):\n",
    "    nodes = [node]\n",
    "    binary_sort = []\n",
    "    while nodes:\n",
    "        v = nodes.pop(0)\n",
    "        if v is not None:\n",
    "            binary_sort.append(v.value)\n",
    "            binary_sort += [v.left,v.right]\n",
    "    return binary_sort if not node is None else []"
   ]
  },
  {
   "cell_type": "markdown",
   "metadata": {},
   "source": [
    "## Next smaller number with the same digits\n",
    "Write a function that takes a positive integer and returns the next smaller positive integer containing the same digits.\n",
    "\n",
    "For example:\n",
    "\n",
    "<pre><div class='code-block'>next_smaller(<span class='code-int'>21</span>) == <span class='code-int'>12</span>\n",
    "next_smaller(<span class='code-int'>531</span>) == <span class='code-int'>513</span>\n",
    "next_smaller(<span class='code-int'>2071</span>) == <span class='code-int'>2017</span></div></pre>\n",
    "\n",
    "Return -1 (for <span class='rules'>Haskell</span>: return <span class='rules'>Nothing</span>, for <span class='rules'>Rust</span>: return <span class='rules'>None</span>), when there is no smaller number that contains the same digits. Also return -1 when the next smaller number with the same digits would require the leading digit to be zero.\n",
    "\n",
    "<pre><div class='code-block'>next_smaller(<span class='code-int'>9</span>) == <span class='code-int'>-1</span>\n",
    "next_smaller(<span class='code-int'>135</span>) == <span class='code-int'>-1</span>\n",
    "next_smaller(<span class='code-int'>1027</span>) == <span class='code-int'>-1</span>  <span class='code-comment'># 0721 is out since we don't write numbers with leading zeros</span></div></pre>\n",
    "\n",
    "* some tests will include very large numbers.\n",
    "* test data only employs positive integers.\n"
   ]
  },
  {
   "cell_type": "code",
   "execution_count": 62,
   "metadata": {},
   "outputs": [
    {
     "name": "stdout",
     "output_type": "stream",
     "text": [
      "890\n"
     ]
    }
   ],
   "source": [
    "nx_smallest = 908\n",
    "\n",
    "def next_smaller(x):\n",
    "    ls = list(str(x))\n",
    "    num = -2\n",
    "    pos = num + 1\n",
    "    diff = {}\n",
    "    if len(set(ls)) == 1:\n",
    "        return -1\n",
    "    elif len(set(ls)) == 2 & 0 in ls :\n",
    "        return -1\n",
    "    # a number we hold and compare it with items\n",
    "    while num >= -len(ls):\n",
    "        pos = -1\n",
    "        # positions of items where comparison takes place\n",
    "        while pos > num:\n",
    "            if ls[num] > ls[pos]:\n",
    "                # as it might be more than one item bigger than our number \n",
    "                # we make the difference a key to postion and number list value\n",
    "                diff.update({int(ls[pos])-int(ls[num]):[pos,num]})\n",
    "            pos -= 1\n",
    "        if len(diff) >= 1:\n",
    "            #sort items to get the smallest difference\n",
    "            diff = sorted(diff.items(),reverse=True)\n",
    "#             print(diff) #test\n",
    "#             print(diff[0][1][0]) #test\n",
    "            catcher = ls.pop(diff[0][1][0])\n",
    "#             print(catcher) #test\n",
    "#             print(diff[0][1][1]) #test\n",
    "            ls[diff[0][1][1]+1:diff[0][1][1]+1]= catcher\n",
    "            ls[diff[0][1][1]+1:] = sorted(ls[diff[0][1][1]+1:],reverse=True)\n",
    "            nx_smallest = int(''.join(ls))\n",
    "            # cather for zeros and stat of number\n",
    "            if nx_smallest < x and len(list(str(nx_smallest))) == len(list(str(x))):\n",
    "                return nx_smallest\n",
    "            else:\n",
    "                return -1\n",
    "        num -= 1\n",
    "    return -1\n",
    "\n",
    "print(next_smaller(nx_smallest))"
   ]
  },
  {
   "cell_type": "markdown",
   "metadata": {},
   "source": [
    "## Valid Paretheses\n",
    "Write a function that takes a string of parentheses, and determines if the order of the parentheses is valid. The function should return <span class='rules'>true</span> if the string is valid, and <span class='rules'>false</span> if it's invalid.\n",
    "Examples\n",
    "\n",
    "<pre><div class='code-block'>\"()\"              =>  true\n",
    "\")(()))\"          =>  false\n",
    "\"(\"               =>  false\n",
    "\"(())((()())())\"  =>  true</div></pre>\n",
    "\n",
    "Constraints\n",
    "\n",
    "<span class='rules'>0 &lt;= input.length &gt;= 100</span>\n",
    "\n",
    "Along with opening (<span class='rules'>(</span>) and closing (<span class='rules'>)</span>) parenthesis, input may contain any valid ASCII characters. Furthermore, the input string may be empty and/or not contain any parentheses at all. Do not treat other forms of brackets as parentheses (e.g. <span class='rules'>[]</span>, <span class='rules'>{}</span>, <span class='rules'>&lt;&gt;</span>).\n"
   ]
  },
  {
   "cell_type": "code",
   "execution_count": 63,
   "metadata": {},
   "outputs": [],
   "source": [
    "def valid_parentheses(string):\n",
    "    string = [i for i in string if i == \"(\" or i == \")\"]\n",
    "    stack, pchar = [], {\"(\": \")\", \"{\": \"}\", \"[\": \"]\"}\n",
    "    for parenthese in string:\n",
    "        if parenthese in pchar:\n",
    "            stack.append(parenthese)\n",
    "        elif len(stack) == 0 or pchar[stack.pop()] != parenthese:\n",
    "            return False\n",
    "    return len(stack) == 0"
   ]
  },
  {
   "cell_type": "markdown",
   "metadata": {},
   "source": [
    "## Create Phone Number\n",
    "\n",
    "Write a function that accepts an array of 10 integers (between 0 and 9), that returns a string of those numbers in the form of a phone number.\n",
    "### Example:\n",
    "\n",
    "<pre><div class='code-block'>create_phone_number([<span class='code-int'>1</span>, <span class='code-int'>2</span>, <span class='code-int'>3</span>, <span class='code-int'>4</span>, <span class='code-int'>5</span>, <span class='code-int'>6</span>, <span class='code-int'>7</span>, <span class='code-int'>8</span>, <span class='code-int'>9</span>, <span class='code-int'>0</span>]) <span class='code-comment'># => returns \"(123) 456-7890\" </span></div></pre>\n",
    "\n",
    "The returned format must be correct in order to complete this challenge.\n",
    "Don't forget the space after the closing parentheses!\n"
   ]
  },
  {
   "cell_type": "code",
   "execution_count": 64,
   "metadata": {},
   "outputs": [
    {
     "name": "stdout",
     "output_type": "stream",
     "text": [
      "(123) 456-7890\n"
     ]
    }
   ],
   "source": [
    "phone_list = [1, 2, 3, 4, 5, 6, 7, 8, 9, 0]\n",
    "def create_phone_number(n):\n",
    "    '''\n",
    "    even cleaner :\n",
    "    def create_phone_number(n):\n",
    "        return \"({}{}{}) {}{}{}-{}{}{}{}\".format(*n)\n",
    "    '''\n",
    "    phone = list(map(str,n))\n",
    "    return f\"({''.join(phone[:3])}) {''.join(phone[3:6])}-{''.join(phone[6:])}\"\n",
    "print(create_phone_number(phone_list))"
   ]
  },
  {
   "cell_type": "markdown",
   "metadata": {},
   "source": [
    "## Add forward, Subtract backward\n",
    "Given a list of integers, in forward method you will add the first item to second item and assign it to be the first item of your output list.\n",
    "the last item is lonely in the end so add it to the first item.\n",
    "\n",
    "case Example:\n",
    "```Python\n",
    "[0,1,2,3,4] \n",
    "#will be\n",
    "[1,3,5,7,4] # [0+1,1+2,2+3,3+4,4+0]\n",
    "```\n",
    "\n",
    "in backward method you will move in reverse and subtract also.\n",
    "the first item minus the last and the second item minus the one before last.\n",
    "\n",
    "case Example:\n",
    "\n",
    "```Python\n",
    "[0,1,2,3,4]\n",
    "#will be\n",
    "[-4,-2,0,2,4] #[0-4,1-3,2-2,3-1,4-0]\n",
    "```\n",
    "Remember those are just examples for each case your output will be only one list all together,\n",
    "\n",
    "Real Example:\n",
    "```Python\n",
    "[0,1,2,3,4]\n",
    "#will be\n",
    "[1,3,5,7,4,-4,-2,0,2,4]\n",
    "```"
   ]
  },
  {
   "cell_type": "code",
   "execution_count": 65,
   "metadata": {},
   "outputs": [
    {
     "name": "stdout",
     "output_type": "stream",
     "text": [
      "[0]\n"
     ]
    }
   ],
   "source": [
    "add_subtract_ward = []\n",
    "def addAndSubArray(arr):\n",
    "    out = []\n",
    "    for i in range(0,len(arr)):\n",
    "        out.append((arr[i]+arr[(i+1) if i<len(arr)-1 else 0]))\n",
    "    for i in range(0,len(arr)):\n",
    "        out.append((arr[i]-arr[(i+1)*-1]))\n",
    "    return out if len(out)>0 else [0]\n",
    "print(addAndSubArray(add_subtract_ward))"
   ]
  },
  {
   "cell_type": "markdown",
   "metadata": {},
   "source": [
    "## Gravity Flip\n",
    "<a id='gravity_flip'></a>\n",
    "If you've completed this kata already and want a bigger challenge, here's the [3D version](#gravity_flip_3d)\n",
    "\n",
    "Bob is bored during his physics lessons so he's built himself a toy box to help pass the time. The box is special because it has the ability to change gravity.\n",
    "\n",
    "There are some columns of toy cubes in the box arranged in a line. The i-th column contains a_i cubes. At first, the gravity in the box is pulling the cubes downwards. When Bob switches the gravity, it begins to pull all the cubes to a certain side of the box, d, which can be either 'L' or 'R' (left or right). Below is an example of what a box of cubes might look like before and after switching gravity.\n",
    "```Python\n",
    "+---+                                       +---+\n",
    "|   |                                       |   |\n",
    "+---+                                       +---+\n",
    "+---++---+     +---+              +---++---++---+\n",
    "|   ||   |     |   |   -->        |   ||   ||   |\n",
    "+---++---+     +---+              +---++---++---+\n",
    "+---++---++---++---+         +---++---++---++---+\n",
    "|   ||   ||   ||   |         |   ||   ||   ||   |\n",
    "+---++---++---++---+         +---++---++---++---+\n",
    "```\n",
    "Given the initial configuration of the cubes in the box, find out how many cubes are in each of the n columns after Bob switches the gravity.\n",
    "\n",
    "Examples:\n",
    "```Python\n",
    "flip('R', [3, 2, 1, 2])     =>  [1, 2, 2, 3]\n",
    "flip('L', [1, 4, 5, 3, 5])  =>  [5, 5, 4, 3, 1]\n",
    "```\n"
   ]
  },
  {
   "cell_type": "code",
   "execution_count": 66,
   "metadata": {},
   "outputs": [
    {
     "name": "stdout",
     "output_type": "stream",
     "text": [
      "[1, 2, 2, 3]\n"
     ]
    }
   ],
   "source": [
    "def flip(d,a):\n",
    "    return sorted(a) if d=='R' else sorted(a,reverse=True)\n",
    "print(flip('R', [3, 2, 1, 2]))"
   ]
  },
  {
   "cell_type": "markdown",
   "metadata": {},
   "source": [
    "## Gravity Flip (3D version)\n",
    "<a id='gravity_flip_3d'></a>\n",
    "This kata is a slightly harder version of [Gravity Flip](#gravity_flip). It is recommended to do that first.\n",
    "\n",
    "Bob is bored in his physics lessons yet again, and this time, h's brought a more complex gravity-changing box with him. It is 3D, with small cubes arranged in a matrix of n×m columns. It can change gravity to go in a certain direction, which can be 'L', 'R', 'D', and 'U' (left, right, down, and up).\n",
    "\n",
    "Given the initial configuration of the cubes inside of the box as a 2D array, determine how the cubes are arranged after Bob switches the gravity."
   ]
  },
  {
   "cell_type": "code",
   "execution_count": 67,
   "metadata": {},
   "outputs": [
    {
     "name": "stdout",
     "output_type": "stream",
     "text": [
      "[[7, 5, 9], [6, 5, 3], [4, 3, 2], [1, 2, 1]]\n"
     ]
    }
   ],
   "source": [
    "box = [[1, 3, 2],\n",
    "           [4, 5, 1],\n",
    "           [6, 5, 3],\n",
    "           [7, 2, 9]]\n",
    "def flip_3D(d,a):\n",
    "    fliper_mx = []\n",
    "    if d=='R' or d=='L':\n",
    "        for i in range(len(a)):\n",
    "            fliper_mx.append(sorted(a[i],reverse=d=='L'))\n",
    "        return fliper_mx    \n",
    "    elif d=='U' or d=='D' :\n",
    "        fliper_mx = list(map(list,zip(*a)))\n",
    "        for i in range(len(fliper_mx)):\n",
    "            fliper_mx[i] = sorted(fliper_mx[i],reverse=d=='U')\n",
    "        fliper_mx = list(map(list,zip(*fliper_mx)))\n",
    "        return fliper_mx\n",
    "print(flip_3D('U',box))"
   ]
  },
  {
   "cell_type": "markdown",
   "metadata": {},
   "source": [
    "## IQ Test\n",
    "\n",
    "Bob is preparing to pass IQ test. The most frequent task in this test is to find out which one of the given numbers differs from the others. Bob observed that one number usually differs from the others in evenness. Help Bob — to check his answers, he needs a program that among the given numbers finds one that is different in evenness, and return a position of this number.\n",
    "\n",
    "! Keep in mind that your task is to help Bob solve a real IQ test, which means indexes of the elements start from 1 (not 0)\n",
    "Examples:\n",
    "```Python\n",
    "iq_test(\"2 4 7 8 10\") => 3 # Third number is odd, while the rest of the numbers are even\n",
    "\n",
    "iq_test(\"1 2 1 1\") => 2 # Second number is even, while the rest of the numbers are odd\n",
    "```"
   ]
  },
  {
   "cell_type": "code",
   "execution_count": 68,
   "metadata": {},
   "outputs": [
    {
     "name": "stdout",
     "output_type": "stream",
     "text": [
      "3\n"
     ]
    }
   ],
   "source": [
    "iq = '1 1 2'\n",
    "\n",
    "def iq_test(numbers):\n",
    "    test = numbers.split(' ')\n",
    "    answer = [int(i)%2==0 for i in test]\n",
    "    pop = answer.index(False)\n",
    "    del answer[pop]\n",
    "    if False in answer:\n",
    "        answer.insert(pop,False)\n",
    "        return answer.index(True)+1\n",
    "    answer.insert(pop,False)\n",
    "    return pop+1\n",
    "\n",
    "\"\"\"\n",
    "def iq_test(numbers):\n",
    "    e = [int(i) % 2 == 0 for i in numbers.split()]\n",
    "\n",
    "    return e.index(True) + 1 if e.count(True) == 1 else e.index(False) + 1\n",
    "\"\"\"\n",
    "print(iq_test(iq))"
   ]
  },
  {
   "cell_type": "markdown",
   "metadata": {},
   "source": [
    "## Coloured Triangles\n",
    "<a id='coloured_triangle'></a>\n",
    "If you finish this kata, you can try [Insane Coloured Triangles](#insane_coloured_triangle) by Bubbler, which is a much harder version of this one.\n",
    "\n",
    "A coloured triangle is created from a row of colours, each of which is red, green or blue. Successive rows, each containing one fewer colour than the last, are generated by considering the two touching colours in the previous row. If these colours are identical, the same colour is used in the new row. If they are different, the missing colour is used in the new row. This is continued until the final row, with only a single colour, is generated.\n",
    "\n",
    "The different possibilities are:\n",
    "```Python\n",
    "Colour here:        G G        B G        R G        B R\n",
    "Becomes colour:      G          R          B          G\n",
    "```\n",
    "With a bigger example:\n",
    "```Pytohn\n",
    "R R G B R G B B\n",
    " R B R G B R B\n",
    "  G G B R G G\n",
    "   G R G B G\n",
    "    B B R R\n",
    "     B G R\n",
    "      R B\n",
    "       G\n",
    "```\n",
    "You will be given the first row of the triangle as a string and its your job to return the final colour which would appear in the bottom row as a string. In the case of the example above, you would the given RRGBRGBB you should return G.\n",
    "\n",
    "* The input string will only contain the uppercase letters R, G, B and there will be at least one letter so you do not have to test for invalid input.\n",
    "* If you are only given one colour as the input, return that colour.\n",
    "\n",
    "___Adapted from the 2017 British Informatics Olympiad___\n"
   ]
  },
  {
   "cell_type": "code",
   "execution_count": 69,
   "metadata": {
    "scrolled": true
   },
   "outputs": [
    {
     "name": "stdout",
     "output_type": "stream",
     "text": [
      "B\n"
     ]
    }
   ],
   "source": [
    "triangle_row = 'RGBG'\n",
    "\n",
    "def color_triangle_step(x):\n",
    "    out = []\n",
    "\n",
    "    for i in range(len(x) - 1):\n",
    "        if x[i] == x[i+1]:\n",
    "            out.append(x[i])\n",
    "        else:\n",
    "            if x[i] != 'R' and x[i+1] != 'R':\n",
    "                out.append('R')\n",
    "            elif x[i] != 'G' and x[i+1] != 'G':\n",
    "                out.append('G')\n",
    "            elif x[i] != 'B' and x[i+1] != 'B':\n",
    "                out.append('B')\n",
    "\n",
    "    return ''.join(out)\n",
    "\n",
    "def triangle(row):\n",
    "    for _ in range(len(row) - 1):\n",
    "        row = color_triangle_step(row)\n",
    "\n",
    "    return row\n",
    "'''\n",
    "# Best Solution\n",
    "def triangle(row):\n",
    "    while len(row) > 1:\n",
    "        row = ''.join(({'R', 'G', 'B'} - {a, b}).pop() if a != b else a for a, b in zip(row, row[1:]))\n",
    "    return row\n",
    "'''\n",
    "print(triangle(triangle_row))"
   ]
  },
  {
   "cell_type": "markdown",
   "metadata": {},
   "source": [
    "## Insane Coloured Triangles\n",
    "<a id='insane_coloured_triangle'></a>\n",
    "### Disclaimer\n",
    "\n",
    "This Kata is an insane step-up from [Avanta's Kata](#coloured_triangle), so I recommend to solve it first before trying this one.\n",
    "Problem Description\n",
    "\n",
    "A coloured triangle is created from a row of colours, each of which is red, green or blue. Successive rows, each containing one fewer colour than the last, are generated by considering the two touching colours in the previous row. If these colours are identical, the same colour is used in the new row. If they are different, the missing colour is used in the new row. This is continued until the final row, with only a single colour, is generated.\n",
    "\n",
    "For example, different possibilities are:\n",
    "```Python\n",
    "Colour here:            G G        B G        R G        B R\n",
    "Becomes colour here:     G          R          B          G\n",
    "```\n",
    "With a bigger example:\n",
    "```Python\n",
    "R R G B R G B B\n",
    " R B R G B R B\n",
    "  G G B R G G\n",
    "   G R G B G\n",
    "    B B R R\n",
    "     B G R\n",
    "      R B\n",
    "       G\n",
    "```\n",
    "You will be given the first row of the triangle as a string and its your job to return the final colour which would appear in the bottom row as a string. In the case of the example above, you would be given 'RRGBRGBB', and you should return 'G'.\n",
    "Constraints\n",
    "\n",
    "1 <= length(row) <= 10 ** 5\n",
    "\n",
    "The input string will only contain the uppercase letters 'B', 'G' or 'R'.\n",
    "\n",
    "The exact number of test cases will be as follows:\n",
    "```Python\n",
    "    100 tests of 100 <= length(row) <= 1000\n",
    "    100 tests of 1000 <= length(row) <= 10000\n",
    "    100 tests of 10000 <= length(row) <= 100000\n",
    "```\n",
    "Examples\n",
    "```Python\n",
    "triangle('B') == 'B'\n",
    "triangle('GB') == 'R'\n",
    "triangle('RRR') == 'R'\n",
    "triangle('RGBG') == 'B'\n",
    "triangle('RBRGBRB') == 'G'\n",
    "triangle('RBRGBRBGGRRRBGBBBGG') == 'G'\n",
    "```"
   ]
  },
  {
   "cell_type": "code",
   "execution_count": 70,
   "metadata": {},
   "outputs": [],
   "source": [
    "#[3**i+1 for i in range(12) if 3**i<=1000000]\n",
    "good_numbers = [1, 4, 10, 28, 82, 244, 730, 2188, 6562, 19684, 59050, 177148]\n",
    "\n",
    "colors = set('RGB')\n",
    "\n",
    "\n",
    "def simple_solve(guys):\n",
    "    while len(guys) > 1:\n",
    "        guys = [a if a == b else (colors-{a, b}).pop() for a, b in zip(guys, guys[1:])]\n",
    "    return guys[0]\n",
    "\n",
    "\n",
    "def closest_good_number(number, good_numbers):\n",
    "    closest = sorted(good_numbers, key=lambda x: abs(x - number))\n",
    "    for value in closest:\n",
    "        if value <= number:\n",
    "            return value\n",
    "\n",
    "\n",
    "def sides_until_good(guys):\n",
    "    # Solves the sides of the pyramid until we get to a number from which we can simplify\n",
    "    if len(guys) < 4:\n",
    "        return simple_solve(guys)\n",
    "\n",
    "    good_number = closest_good_number(len(guys), good_numbers)\n",
    "    size = len(guys) - good_number + 1\n",
    "\n",
    "    left = guys[:size]\n",
    "    right = guys[-size:]\n",
    "\n",
    "    # recurse to find smallest guy in left and right\n",
    "\n",
    "    a = sides_until_good(left)\n",
    "    b = sides_until_good(right)\n",
    "    final = simple_solve((a, b))\n",
    "\n",
    "    return final\n",
    "\n",
    "\n",
    "def insane_triangle(input):\n",
    "    guy = sides_until_good(input)\n",
    "    return guy"
   ]
  },
  {
   "cell_type": "code",
   "execution_count": 71,
   "metadata": {},
   "outputs": [
    {
     "name": "stdout",
     "output_type": "stream",
     "text": [
      "[2, 4, 10, 28, 82, 244, 730, 2188, 6562, 19684, 59050, 177148]\n"
     ]
    }
   ],
   "source": [
    "print([3**i+1 for i in range(12) if 3**i<=1000000])"
   ]
  },
  {
   "cell_type": "markdown",
   "metadata": {},
   "source": [
    "## Break the pieces\n",
    "<a id='break_the_pieces'></a>\n",
    "\n",
    "You are given a ASCII diagram , comprised of minus signs -, plus signs +, vertical bars | and whitespaces . Your task is to write a function which breaks the diagram in the minimal pieces it is made of.\n",
    "\n",
    "For example, if the input for your function is this diagram:\n",
    "```python\n",
    "+------------+\n",
    "|            |\n",
    "|            |\n",
    "|            |\n",
    "+------+-----+\n",
    "|      |     |\n",
    "|      |     |\n",
    "+------+-----+\n",
    "```\n",
    "the returned value should be the list of:\n",
    "```python\n",
    "+------------+\n",
    "|            |\n",
    "|            |\n",
    "|            |\n",
    "+------------+\n",
    "```\n",
    "(note how it lost a + sign in the extraction)\n",
    "\n",
    "as well as\n",
    "```python\n",
    "+------+\n",
    "|      |\n",
    "|      |\n",
    "+------+\n",
    "```\n",
    "and\n",
    "```python\n",
    "+-----+\n",
    "|     |\n",
    "|     |\n",
    "+-----+\n",
    "````\n",
    "The diagram is given as an ordinary Javascript multiline string. The pieces should not have trailing spaces at the end of the lines. However, it could have leading spaces if the figure is not a rectangle. For instance:\n",
    "```python\n",
    "    +---+\n",
    "    |   |\n",
    "+---+   |\n",
    "|       |\n",
    "+-------+\n",
    "```\n",
    "However, it is not allowed to use more leading spaces than necessary. It is to say, the first character of some of the lines should be different than a space.\n",
    "\n",
    "Finally, note that only the explicitly closed pieces are considered. Spaces \"outside\" of the shape are part of the background . Therefore the diagram above has a single piece.\n",
    "\n",
    "Have fun!\n",
    "\n",
    "Note : in C++ you are provided with two utility functions :\n",
    "```cpp\n",
    "std::string join(const std::string &sep, const std::vector<std::string> &to_join); // Returns the concatenation of all the strings in the vector, separated with sep \n",
    "\n",
    "std::vector<std::string> split_lines(const std::string &to_split); // Splits a string, using separator '\\n'\n",
    "```\n"
   ]
  },
  {
   "cell_type": "code",
   "execution_count": 72,
   "metadata": {},
   "outputs": [],
   "source": [
    "squares='\\n'.join([\"+------------+\",\n",
    "                   \"|            |\",\n",
    "                   \"|            |\",\n",
    "                   \"|            |\",\n",
    "                   \"+------+-----+\",\n",
    "                   \"|      |     |\",\n",
    "                   \"|      |     |\",\n",
    "                   \"+------+-----+\"])\n",
    "\n",
    "def break_pieces(shape):\n",
    "    shape = shape.split('\\n')\n",
    "    catcher = 0\n",
    "    while catcher < len(shape):\n",
    "        pluses = 0\n",
    "        if '+' in shape[catcher]:\n",
    "            for i in shape[catcher]:\n",
    "                pluses= pluses+1 if '+' in i else pluses\n",
    "            if pluses > 2:\n",
    "                new_square = shape[catcher+1:-1:].index('+')\n",
    "                shape.insert\n",
    "        catcher +=1\n",
    "    return pluses"
   ]
  },
  {
   "cell_type": "markdown",
   "metadata": {},
   "source": [
    "## Are they the \"same\"\n",
    "\n",
    "Given two arrays a and b write a function comp(a, b) (orcompSame(a, b)) that checks whether the two arrays have the \"same\" elements, with the same multiplicities. \"Same\" means, here, that the elements in b are the elements in a squared, regardless of the order.\n",
    "### Examples\n",
    "Valid arrays\n",
    "```python\n",
    "a = [121, 144, 19, 161, 19, 144, 19, 11]  \n",
    "b = [121, 14641, 20736, 361, 25921, 361, 20736, 361]\n",
    "```\n",
    "comp(a, b) returns true because in b 121 is the square of 11, 14641 is the square of 121, 20736 the square of 144, 361 the square of 19, 25921 the square of 161, and so on. It gets obvious if we write b's elements in terms of squares:\n",
    "```python\n",
    "a = [121, 144, 19, 161, 19, 144, 19, 11] \n",
    "b = [11*11, 121*121, 144*144, 19*19, 161*161, 19*19, 144*144, 19*19]\n",
    "```\n",
    "Invalid arrays\n",
    "\n",
    "If, for example, we change the first number to something else, comp may not return true anymore:\n",
    "```python\n",
    "a = [121, 144, 19, 161, 19, 144, 19, 11]  \n",
    "b = [132, 14641, 20736, 361, 25921, 361, 20736, 361]\n",
    "```\n",
    "comp(a,b) returns false because in b 132 is not the square of any number of a.\n",
    "```python\n",
    "a = [121, 144, 19, 161, 19, 144, 19, 11]  \n",
    "b = [121, 14641, 20736, 36100, 25921, 361, 20736, 361]\n",
    "```\n",
    "comp(a,b) returns false because in b 36100 is not the square of any number of a.\n",
    "### Remarks\n",
    "\n",
    "* a or b might be [] or {} (all languages except R, Shell).\n",
    "* a or b might be nil or null or None or nothing (except in C++, Elixir, Haskell, PureScript, Pascal, R, Rust, Shell).\n",
    "\n",
    "If a or b are nil (or null or None, depending on the language), the problem doesn't make sense so return false.\n",
    "### Note for C\n",
    "\n",
    "The two arrays have the same size (> 0) given as parameter in function comp.\n"
   ]
  },
  {
   "cell_type": "code",
   "execution_count": 95,
   "metadata": {},
   "outputs": [
    {
     "name": "stdout",
     "output_type": "stream",
     "text": [
      "False\n"
     ]
    }
   ],
   "source": [
    "not_powered = [2, 2, 3]\n",
    "powered = [4, 9, 9]\n",
    "def comp(arr1, arr2):\n",
    "    condition = []\n",
    "    if arr1 is not None and arr2 is not None:\n",
    "        if len(arr1) == len(arr2):\n",
    "            for  i in arr2:\n",
    "#                 print(f'{i} this is i')\n",
    "                for j in arr1:\n",
    "#                     print(f'{j} this is j')\n",
    "                    if pow(j,2) == i:\n",
    "#                         print(condition)\n",
    "                        condition.append(True)\n",
    "                        arr1.pop(arr1.index(j))\n",
    "                        break\n",
    "        else:\n",
    "            return False\n",
    "    else:\n",
    "        return False\n",
    "    return len(condition)==len(arr2)\n",
    "\n",
    "print(comp(not_powered,powered))"
   ]
  },
  {
   "cell_type": "markdown",
   "metadata": {},
   "source": [
    "## Find the Square\n",
    "### Problem\n",
    "\n",
    "Complete the function that takes an odd integer (0 < n < 1000000) which is the difference between two consecutive perfect squares, and return these squares as a string in the format \"bigger-smaller\"\n",
    "### Examples\n",
    "```python\n",
    "9  -->  \"25-16\"\n",
    "5  -->  \"9-4\"\n",
    "7  -->  \"16-9\"\n",
    "```\n"
   ]
  },
  {
   "cell_type": "code",
   "execution_count": 23,
   "metadata": {},
   "outputs": [
    {
     "name": "stdout",
     "output_type": "stream",
     "text": [
      "16-9\n"
     ]
    }
   ],
   "source": [
    "def find_squares(num):\n",
    "    half = int(num/2)\n",
    "    other_half = num - half\n",
    "    return f'{pow(other_half,2)}-{pow(half,2)}'\n",
    "print(find_squares(7))"
   ]
  },
  {
   "cell_type": "markdown",
   "metadata": {},
   "source": [
    "## Complementary DNA\n",
    "Deoxyribonucleic acid (DNA) is a chemical found in the nucleus of cells and carries the \"instructions\" for the development and functioning of living organisms.\n",
    "\n",
    "If you want to know __[more](http://en.wikipedia.org/wiki/DNA)__\n",
    "\n",
    "In DNA strings, symbols \"A\" and \"T\" are complements of each other, as \"C\" and \"G\". You have function with one side of the DNA (string, except for Haskell); you need to get the other complementary side. DNA strand is never empty or there is no DNA at all (again, except for Haskell).\n",
    "\n",
    "More similar exercise are found __[here](http://rosalind.info/problems/list-view/)__ (source)\n",
    "\n",
    "Example: __(input: output)__\n",
    "```python\n",
    "DNA_strand (\"ATTGC\") # return \"TAACG\"\n",
    "\n",
    "DNA_strand (\"GTAT\") # return \"CATA\"\n",
    "```\n"
   ]
  },
  {
   "cell_type": "code",
   "execution_count": 16,
   "metadata": {},
   "outputs": [
    {
     "name": "stdout",
     "output_type": "stream",
     "text": [
      "TAACG\n"
     ]
    }
   ],
   "source": [
    "dna = 'ATTGC'\n",
    "def DNA_strand(dna):\n",
    "    dic = {\n",
    "        'A':'T',\n",
    "        'T':'A',\n",
    "        'G':'C',\n",
    "        'C':'G'\n",
    "    }\n",
    "    return ''.join([dic[i] for i in dna])\n",
    "\n",
    "print(DNA_strand(dna))"
   ]
  },
  {
   "cell_type": "markdown",
   "metadata": {},
   "source": [
    "## Tri-Bicolor Tiling\n",
    "### Problem Description\n",
    "\n",
    "You have a row of n square tiles, which are colored black and the side length is 1. You also have infinite supplies of three kinds of rectangular tiles:\n",
    "\n",
    "* Red tiles of Length r\n",
    "* Green tiles of Length g\n",
    "* Blue tiles of Length b\n",
    "\n",
    "All tiles have integer lengths and share the same height of 1.\n",
    "\n",
    "Now, you want to replace some black square tiles with your colored tiles. However, you are quite picky, and you want to use exactly two types of colored tiles (RGB). You can leave black gaps as much as you want.\n",
    "\n",
    "In how many ways can you replace black tiles with your colored tiles? Since your answer will be very large, please give your answer modulo 12345787.\n",
    "### Example\n",
    "\n",
    "For n = 6 and (r, g, b) = (2, 3, 4), these are the eight possible arrangements using exactly two colors (R, G, B denote red, green, blue tiles respectively, and a dot is a black tile):\n",
    "```python\n",
    "RRGGG.\n",
    "\n",
    "RR.GGG\n",
    "\n",
    ".RRGGG\n",
    "\n",
    "GGGRR.\n",
    "\n",
    "GGG.RR\n",
    "\n",
    ".GGGRR\n",
    "\n",
    "RRBBBB\n",
    "\n",
    "BBBBRR\n",
    "```\n",
    "### Constraints\n",
    "\n",
    "5 <= n <= 100\n",
    "\n",
    "2 <= r, g, b <= 5\n",
    "\n",
    "Some of the values of r, g, or b may be the same.\n",
    "\n",
    "The inputs will be always valid integers.\n",
    "### More Examples\n",
    "```python\n",
    "# One Red (length 2) and one Green (length 3): two arrangements\n",
    "tri_bicolor_tiling(5, 2, 3, 4) == 2\n",
    "\n",
    "# One Red (length 2) and one Green (length 3): 6 arrangements\n",
    "# One Red (length 2) and one Blue (length 4): 2 arrangements\n",
    "tri_bicolor_tiling(6, 2, 3, 4) == 8\n",
    "\n",
    "tri_bicolor_tiling(10, 2, 3, 4) == 248\n",
    "\n",
    "# For these cases, think about tiling with dominos first\n",
    "# and then coloring them with two colors.\n",
    "tri_bicolor_tiling(5, 2, 2, 2) == 18\n",
    "tri_bicolor_tiling(6, 2, 2, 2) == 54\n",
    "```\n",
    "### Acknowledgement\n",
    "\n",
    "This problem was inspired by __[Project Euler #116: Red, Green, or Blue Tiles](https://projecteuler.net/problem=116)__ and __[Project Euler #117: Red, Green, and Blue Tiles](https://projecteuler.net/problem=117)__."
   ]
  },
  {
   "cell_type": "code",
   "execution_count": 46,
   "metadata": {},
   "outputs": [
    {
     "name": "stdout",
     "output_type": "stream",
     "text": [
      "24\n",
      "24\n",
      "2\n",
      "56\n"
     ]
    }
   ],
   "source": [
    "def permute(n,r):\n",
    "    result = 1\n",
    "    for i in range(n-r+1,n+1):\n",
    "        result = result*i\n",
    "    return result\n",
    "\n",
    "def tri_bicolor_tiling(n, r, g, b):\n",
    "    total = 0\n",
    "    def case_1(n,r,g):\n",
    "        if r+g == n:\n",
    "            return permute(2,2)\n",
    "        return 0\n",
    "    def case_2(n,r,b):\n",
    "        if r+b == n:\n",
    "            return permute(2,2)\n",
    "        return 0\n",
    "    def case_3(n,g,b):\n",
    "        if g+b == n:\n",
    "            return permute(2,2)\n",
    "        return 0\n",
    "    def case_4(n,b,g):\n",
    "        if b+g < n:\n",
    "            grey = n-(b+g)\n",
    "            print(permute(2+grey,2+grey))\n",
    "            return permute(2+grey,2+grey)\n",
    "        return 0\n",
    "    def case_5(n,g,r):\n",
    "        if g+r < n:\n",
    "            grey = n-(g+r)\n",
    "            print(permute(2+grey,2+grey))\n",
    "            return permute(2+grey,2+grey)\n",
    "        return 0\n",
    "    def case_6 (n,b,r):\n",
    "        if b+r < n:\n",
    "            grey = n-(b+r)\n",
    "            print(permute(2+grey,2+grey))\n",
    "            return permute(2+grey,2+grey)\n",
    "        return 0\n",
    "    def case_7(n,r,g,b):\n",
    "        if r+g+b == n:\n",
    "            return permute(3,3)\n",
    "        return 0 \n",
    "    def case_8(n,r,g,b):\n",
    "        if r+g+b < n:\n",
    "            grey = n-(r+g+b)\n",
    "            print(permute(3+grey,3+grey))\n",
    "            return permute(3+grey,3+grey)\n",
    "        return 0\n",
    "    total += case_1(n,r,g) \n",
    "    total += case_2(n,r,b) \n",
    "    total += case_3(n,g,b) \n",
    "    total += case_4(n,b,g) \n",
    "    total += case_5(n,g,r) \n",
    "    total += case_6(n,b,r)\n",
    "    total += case_7(n,r,g,b) \n",
    "    total += case_8(n,r,g,b) \n",
    "    return total\n",
    "print(tri_bicolor_tiling(6, 2, 2, 2))"
   ]
  },
  {
   "cell_type": "markdown",
   "metadata": {},
   "source": [
    "### Circles in Polygons\n",
    "You are the owner of a box making company.\n",
    "\n",
    "Your company can produce any equal sided polygon box, but plenty of your customers want to transport circular objects in these boxes. Circles are a very common shape in the consumer industry. Tin cans, glasses, tyres and CD's are a few examples of these.\n",
    "\n",
    "As a result you decide to add this information on your boxes: The largest (diameter) circular object that can fit into a given box.\n"
   ]
  },
  {
   "cell_type": "code",
   "execution_count": 4,
   "metadata": {},
   "outputs": [
    {
     "name": "stdout",
     "output_type": "stream",
     "text": [
      "21.727922061357855\n"
     ]
    }
   ],
   "source": [
    "import math\n",
    "def circle_diameter(sides, side_length): \n",
    "    return side_length/(math.tan(math.radians(180/sides)))\n",
    "\n",
    "print(circle_diameter(8,9))"
   ]
  },
  {
   "cell_type": "markdown",
   "metadata": {},
   "source": [
    "## Number of Rectangles in a Grid\n",
    "Given a grid of size m x n, calculate the total number of rectangles contained in this rectangle. All integer sizes and positions are counted.\n",
    "\n",
    "Examples:\n",
    "```python\n",
    "numberOfRectangles(3, 2) == 18\n",
    "numberOfRectangles(4, 4) == 100\n",
    "```\n",
    "Here is how the 3x2 grid works (Thanks to GiacomoSorbi for the idea):\n",
    "```python\n",
    "#1 rectangle of size 3x2:\n",
    "\n",
    "[][][]\n",
    "[][][]\n",
    "\n",
    "#2 rectangles of size 3x1:\n",
    "\n",
    "[][][]\n",
    "\n",
    "#4 rectangles of size 2x1:\n",
    "\n",
    "[][]\n",
    "\n",
    "#2 rectangles of size 2x2\n",
    "\n",
    "[][]\n",
    "[][]\n",
    "\n",
    "#3 rectangles of size 1x2:\n",
    "\n",
    "[]\n",
    "[]\n",
    "\n",
    "#6 rectangles of size 1x1:\n",
    "\n",
    "[]\n",
    "```\n",
    "As you can see (1 + 2 + 4 + 2 + 3 + 6) = 18, and is the solution for the 3x2 grid.\n",
    "\n",
    "There is a very simple solution to this!\n"
   ]
  },
  {
   "cell_type": "code",
   "execution_count": 1,
   "metadata": {},
   "outputs": [],
   "source": [
    "def number_of_rectangles(m, n):\n",
    "    return (m * n * (m+1) * (n+1)) / 4"
   ]
  },
  {
   "cell_type": "markdown",
   "metadata": {},
   "source": [
    "## Triangle area\n",
    "Task.\n",
    "\n",
    "Calculate area of given triangle. Create a function t_area that will take a string which will represent triangle, find area of the triangle, one space will be equal to one length unit. The smallest triangle will have one length unit.\n",
    "\n",
    "Hints\n",
    "\n",
    "Ignore dots.\n",
    "\n",
    "Example:\n",
    "```python\n",
    ".\n",
    ".      .  \n",
    ".      .       .      ---> should return 2.0\n",
    "```\n",
    "```python\n",
    ".\n",
    ".      .  \n",
    ".      .       .     \n",
    ".      .       .      .      ---> should return 4.5\n",
    "```"
   ]
  },
  {
   "cell_type": "code",
   "execution_count": 16,
   "metadata": {},
   "outputs": [],
   "source": [
    "def t_area(t_str):\n",
    "    t_list = t_str.split('\\n')\n",
    "    return (len(t_list)-3)*(len(t_list[-2])-1)*0.25"
   ]
  },
  {
   "cell_type": "markdown",
   "metadata": {},
   "source": [
    "## What's the real floor?\n",
    "Americans are odd people: in their buildings, the first floor is actually the ground floor and there is no 13th floor (due to superstition).\n",
    "\n",
    "Write a function that given a floor in the american system returns the floor in the european system.\n",
    "\n",
    "With the 1st floor being replaced by the ground floor and the 13th floor being removed, the numbers move down to take their place. In case of above 13, they move down by two because there are two omitted numbers below them.\n",
    "\n",
    "Basements (negatives) stay the same as the universal level.\n",
    "\n",
    "More information here\n",
    "### Examples\n",
    "```python\n",
    "1  =>  0 \n",
    "0  =>  0\n",
    "5  =>  4\n",
    "15  =>  13\n",
    "-3  =>  -3\n",
    "```\n"
   ]
  },
  {
   "cell_type": "code",
   "execution_count": 2,
   "metadata": {},
   "outputs": [],
   "source": [
    "def get_real_floor(n):\n",
    "    if n>13:\n",
    "        return n-2\n",
    "    return n-1 if n>0 else n"
   ]
  },
  {
   "cell_type": "markdown",
   "metadata": {},
   "source": [
    "## The Wide-Mouthed frog! \n",
    "\n",
    "The wide mouth frog is particularly interested in the eating habits of other creatures.\n",
    "\n",
    "He just can't stop asking the creatures he encounters what they like to eat. But then he meet the alligator who just LOVES to eat wide-mouthed frogs!\n",
    "\n",
    "When he meets the alligator, it then makes a tiny mouth.\n",
    "\n",
    "Your goal in this kata is to create complete the mouth_size method this method take one argument animal which corresponds to the animal encountered by frog. If this one is an alligator (case insensitive) return small otherwise return wide.\n"
   ]
  },
  {
   "cell_type": "code",
   "execution_count": 3,
   "metadata": {},
   "outputs": [],
   "source": [
    "def mouth_size(animal): \n",
    "    return 'small' if animal.lower()=='alligator' else 'wide'"
   ]
  },
  {
   "cell_type": "markdown",
   "metadata": {},
   "source": [
    "## Square(n) Sum\n",
    "Complete the square sum function so that it squares each number passed into it and then sums the results together.\n",
    "\n",
    "For example, for [1, 2, 2] it should return 9 because 1^2 + 2^2 + 2^2 = 9.\n"
   ]
  },
  {
   "cell_type": "code",
   "execution_count": 4,
   "metadata": {},
   "outputs": [],
   "source": [
    "def square_sum(n):\n",
    "    return sum([pow(i,2) for i in n])"
   ]
  },
  {
   "cell_type": "markdown",
   "metadata": {},
   "source": [
    "## Count by X\n",
    "\n",
    "Create a function with two arguments that will return an array of the first (n) multiples of (x).\n",
    "\n",
    "Assume both the given number and the number of times to count will be positive numbers greater than 0.\n",
    "\n",
    "Return the results as an array (or list in Python, Haskell or Elixir).\n",
    "\n",
    "Examples:\n",
    "```python\n",
    "count_by(1,10) #should return [1,2,3,4,5,6,7,8,9,10]\n",
    "count_by(2,5) #should return [2,4,6,8,10]\n",
    "```"
   ]
  },
  {
   "cell_type": "code",
   "execution_count": 8,
   "metadata": {},
   "outputs": [],
   "source": [
    "def count_by(x, n):\n",
    "    return list(range(x,(x*n)+1,x))"
   ]
  },
  {
   "cell_type": "markdown",
   "metadata": {},
   "source": [
    "## [Code Golf] A Triangle?\n",
    "### Task\n",
    "\n",
    "Given three sides a, b and c, determine if a triangle can be built out of them.\n",
    "\n",
    "\n",
    "### Code limit\n",
    "\n",
    "Your code can be up to 40 characters long.\n",
    "\n",
    "\n",
    "### Note\n",
    "\n",
    "Degenerate triangles are not valid in this kata.\n"
   ]
  },
  {
   "cell_type": "code",
   "execution_count": 9,
   "metadata": {},
   "outputs": [],
   "source": [
    "triangle=lambda*a:2*max(a)<sum(a)"
   ]
  },
  {
   "cell_type": "markdown",
   "metadata": {},
   "source": [
    "## Which string is worth more?\n",
    "\n",
    "You will be given two ASCII strings, a and b. Your task is write a function to determine which one of these strings is \"worth\" more, and return it.\n",
    "\n",
    "A string's worth is determined by the sum of its ASCII codepoint indexes. So, for example, the string HELLO has a value of 372: H is codepoint 72, E 69, L 76, and O is 79. The sum of these values is 372.\n",
    "\n",
    "In the event of a tie, you should return the first string, i.e. a.\n"
   ]
  },
  {
   "cell_type": "code",
   "execution_count": 11,
   "metadata": {},
   "outputs": [],
   "source": [
    "def highest_value(a, b):\n",
    "     return max(a, b, key=lambda s: sum(map(ord, s)))"
   ]
  },
  {
   "cell_type": "markdown",
   "metadata": {},
   "source": [
    "## HTML dynamic color string generation\n",
    "Generate a valid randomly generated hexadecimal color string. Assume all of them always have 6 digits.\n",
    "\n",
    "### Valid Output\n",
    "```\n",
    "#ffffff\n",
    "#FfFfFf\n",
    "#25a403\n",
    "#000001\n",
    "```\n",
    "### Non-Valid Output\n",
    "```\n",
    "#fff\n",
    "#aaa\n",
    "#zzzzz\n",
    "cafebabe\n",
    "#a567567676576756A7\n",
    "```\n"
   ]
  },
  {
   "cell_type": "code",
   "execution_count": 2,
   "metadata": {},
   "outputs": [],
   "source": [
    "# Solution\n",
    "\n",
    "import random\n",
    "def generate_color_rgb():\n",
    "    return \"#%06x\" % random.randint(0, 0xFFFFFF)"
   ]
  },
  {
   "cell_type": "markdown",
   "metadata": {},
   "source": [
    "### Test cases Translation:\n",
    "[python Translate](https://www.codewars.com/kata/56f1c6034d0c330e4a001059/translations).\n",
    "\n",
    "code for tests as follows"
   ]
  },
  {
   "cell_type": "code",
   "execution_count": 2,
   "metadata": {},
   "outputs": [],
   "source": [
    "import re\n",
    "def rgb_regex_case():\n",
    "        result = generate_color_rgb()\n",
    "        test.assert_equals(re.match(\"^#([A-Fa-f0-9]{6})$\",result).group(0)==result,\n",
    "                           True,\n",
    "                           'the ouput should match a HEXdecimal color format')"
   ]
  },
  {
   "cell_type": "code",
   "execution_count": 1,
   "metadata": {},
   "outputs": [],
   "source": [
    "def rgb_bunch_in_a_row_case():\n",
    "    i = 0\n",
    "    results = []\n",
    "    while i < 1000:\n",
    "        result = generate_color_rgb()\n",
    "\n",
    "        # Check for if there same results\n",
    "        if result in results:\n",
    "            test.fail('Please try again there is duplicates')\n",
    "            break\n",
    "        else:\n",
    "            results.append(result)\n",
    "\n",
    "        # Checking for errors silently    \n",
    "        check1 = re.match(\"^#([A-Fa-f0-9]{6})$\",result).group(0) == result\n",
    "        check2 = len(result) == 7\n",
    "        check3 = result[0] == '#'\n",
    "\n",
    "        if any([check1 ,check2, check3]) == False:\n",
    "            test.fail('the ouput should match a HEXdecimal color format') if check1 == False else None\n",
    "            test.fail('not a proper hexadecimal color length') if check2 == False else None\n",
    "            test.fail('it should start with \"#\"') if check3 == False else None\n",
    "            break\n",
    "        i += 1\n",
    "    else:\n",
    "        test.pass_()"
   ]
  },
  {
   "cell_type": "markdown",
   "metadata": {},
   "source": [
    "## String ends with?\n",
    "\n",
    "Complete the solution so that it returns true if the first argument(string) passed in ends with the 2nd argument (also a string).\n",
    "\n",
    "### Examples:\n",
    "```Python\n",
    "solution('abc', 'bc') # returns true\n",
    "solution('abc', 'd') # returns false\n",
    "```"
   ]
  },
  {
   "cell_type": "code",
   "execution_count": 3,
   "metadata": {},
   "outputs": [],
   "source": [
    "def solution(string, ending):\n",
    "    l = len(ending)+1\n",
    "    return ending[::-1] in string[:-l:-1]"
   ]
  },
  {
   "cell_type": "markdown",
   "metadata": {},
   "source": [
    "## Over The Road\n",
    "\n",
    "### Task\n",
    "\n",
    "You've just moved into a perfectly straight street with exactly n identical houses on either side of the road. Naturally, you would like to find out the house number of the people on the other side of the street. The street looks something like this:\n",
    "Street\n",
    "```Python\n",
    "1|   |6\n",
    "3|   |4\n",
    "5|   |2\n",
    "```\n",
    "Evens increase on the right; odds decrease on the left. House numbers start at 1 and increase without gaps. When n = 3, 1 is opposite 6, 3 opposite 4, and 5 opposite 2.\n",
    "### Example\n",
    "\n",
    "Given your house number address and length of street n, give the house number on the opposite side of the street.\n",
    "```Python\n",
    "over_the_road(address, n)\n",
    "over_the_road(1, 3) = 6\n",
    "over_the_road(3, 3) = 4\n",
    "over_the_road(2, 3) = 5\n",
    "over_the_road(3, 5) = 8\n",
    "```\n",
    "### Note about errors\n",
    "\n",
    "If you are timing out, running out of memory, or get any kind of \"error\", read on. Both n and address could get upto 500 billion with over 200 random tests. If you try to store the addresses of 500 billion houses in a list then you will run out of memory and the tests will crash. This is not a kata problem so please don't post an issue. Similarly if the tests don't complete within 12 seconds then you also fail.\n",
    "\n",
    "To solve this, you need to think of a way to do the kata without making massive lists or huge for loops. Read the discourse for some inspiration :)\n"
   ]
  },
  {
   "cell_type": "code",
   "execution_count": 1,
   "metadata": {},
   "outputs": [],
   "source": [
    "def over_the_road(address, n):\n",
    "    return int((n - ((address+1)/2)+1) *2)\n",
    "# 2*n + 1 - address"
   ]
  },
  {
   "cell_type": "markdown",
   "metadata": {},
   "source": [
    "## Chicken Sexing\n",
    "Bob is a chicken sexer. His job is to sort baby chicks into a Male(M) and Female(F) piles. When bob can't guess can throw his hands up and declare it with a '?'.\n",
    "\n",
    "Bob's bosses don't trust Bob's ability just yet, so they have paired him with an expert sexer. All of Bob's decisions will be checked against the experts choices to generate a correctness score.\n",
    "### Scoring Rules\n",
    "\n",
    "* When they agree, he gets 1 point.\n",
    "* When they disagree but one has said '?', he gets 0.5 points.\n",
    "* When they disagree completely, he gets 0 points.\n"
   ]
  },
  {
   "cell_type": "code",
   "execution_count": 3,
   "metadata": {},
   "outputs": [],
   "source": [
    "def correctness(bobs_decisions, expert_decisions): \n",
    "    num = 0\n",
    "    points = 0\n",
    "    while num < len(bobs_decisions):\n",
    "        points = points+0.5 if bobs_decisions[num] != expert_decisions[num] and ('?' in bobs_decisions[num] or '?' in expert_decisions[num]) else points\n",
    "        points = points+1 if bobs_decisions[num] == expert_decisions[num] else points\n",
    "        num += 1\n",
    "    return points"
   ]
  },
  {
   "cell_type": "markdown",
   "metadata": {},
   "source": [
    "## Multiplication table for number\n",
    "\n",
    "Your goal is to return multiplication table for `number` that is always an integer from 1 to 10.\n",
    "\n",
    "For example, a multiplication table (string) for `number == 5` looks like below:\n",
    "```Python\n",
    "1 * 5 = 5\n",
    "2 * 5 = 10\n",
    "3 * 5 = 15\n",
    "4 * 5 = 20\n",
    "5 * 5 = 25\n",
    "6 * 5 = 30\n",
    "7 * 5 = 35\n",
    "8 * 5 = 40\n",
    "9 * 5 = 45\n",
    "10 * 5 = 50\n",
    "```\n",
    "__P. S.__ You can use `\\n` in string to jump to the next line.\n",
    "\n",
    "Note: newlines should be added between rows, but there should be no trailing newline at the end.\n"
   ]
  },
  {
   "cell_type": "code",
   "execution_count": 3,
   "metadata": {},
   "outputs": [],
   "source": [
    "def multi_table(number):\n",
    "    table = []\n",
    "    for i in range(1,11):\n",
    "        table.append(f'{i} * {number} = {i * number}')\n",
    "    return '\\n'.join(table)"
   ]
  },
  {
   "cell_type": "markdown",
   "metadata": {},
   "source": [
    "## Calculator\n",
    "\n",
    "Create a simple calculator that given a string of operators  `(), +, -, *, /` and numbers separated by spaces returns the value of that expression\n",
    "\n",
    "__Example:__\n",
    "\n",
    "```python\n",
    "Calculator().evaluate(\"2 / 2 + 3 * 4 - 6\") # => 7\n",
    "```\n",
    "\n",
    "Remember about the order of operations! Multiplications and divisions have a higher priority and should be performed left-to-right. Additions and subtractions have a lower priority and should also be performed left-to-right.\n"
   ]
  },
  {
   "cell_type": "code",
   "execution_count": 28,
   "metadata": {},
   "outputs": [
    {
     "ename": "IndentationError",
     "evalue": "expected an indented block (<ipython-input-28-473223439471>, line 29)",
     "output_type": "error",
     "traceback": [
      "\u001b[0;36m  File \u001b[0;32m\"<ipython-input-28-473223439471>\"\u001b[0;36m, line \u001b[0;32m29\u001b[0m\n\u001b[0;31m    return self.parenthese(list_str)\u001b[0m\n\u001b[0m    ^\u001b[0m\n\u001b[0;31mIndentationError\u001b[0m\u001b[0;31m:\u001b[0m expected an indented block\n"
     ]
    }
   ],
   "source": [
    "problem = '2 / 2 + 3 * 4 - 6'\n",
    "\n",
    "class Calculator(object):\n",
    "    def subtraction(i,x):\n",
    "        return i-x\n",
    "    def addition(i,x):\n",
    "        return i+x\n",
    "    def multiply(i,x):\n",
    "        return i*x\n",
    "    def division(i,x):\n",
    "        return i/x\n",
    "    def parenthese(self,x):\n",
    "        list_x = [i if i == ')' or i== '(' else ' ' for i in x ]\n",
    "        return list_x\n",
    "    def evaluate(self, string):\n",
    "        list_str = string.split(' ')\n",
    "        i = 0\n",
    "        while i < len(list_str):\n",
    "            try:\n",
    "                if int(list_str[i]):\n",
    "                    list_str[i] = int(list_str[i])\n",
    "            except:\n",
    "                pass\n",
    "            i+=1\n",
    "        while len(list_str) > 1:\n",
    "            for i in range(len(list_str)):\n",
    "                if i == '*':\n",
    "                    result = self.multiply(,)\n",
    "        return self.parenthese(list_str)\n",
    "print(Calculator().evaluate(problem))"
   ]
  },
  {
   "cell_type": "markdown",
   "metadata": {},
   "source": [
    "## Compare within margin\n",
    "\n",
    "Create a function `close_compare` that accepts 3 parameters: `a`, `b`, and an optional `margin`. The function should return whether `a` is lower than, close to, or higher than `b`.\n",
    "\n",
    "`a` is considered \"close to\" `b` if margin is greater than or equal to the distance between `a` and `b`.\n",
    "\n",
    "Please note the following:\n",
    "\n",
    "* When `a` is close to `b`, `return 0`.\n",
    "\n",
    "Otherwise...\n",
    "\n",
    "* When `a` is less than `b`, `return -1`.\n",
    "\n",
    "* When `a` is greater than `b`, `return 1`.\n",
    "\n",
    "If `margin` is not given, treat it as zero.\n",
    "\n",
    "Assume: `margin >= 0`\n",
    "\n",
    "Tip: Some languages have a way to make parameters optional.\n",
    "### Example 1\n",
    "\n",
    "If `a = 3`, `b = 5`, and `margin = 3`, then `close_compare(a, b, margin)` should `return 0`.\n",
    "\n",
    "This is because `a` and `b` are no more than 3 numbers apart.\n",
    "### Example 2\n",
    "\n",
    "If `a = 3`, `b = 5`, and `margin = 0`, then `close_compare(a, b, margin)` should `return -1`.\n",
    "\n",
    "This is because the distance between `a` and `b` is greater than 0, and `a` is less than `b`.\n"
   ]
  },
  {
   "cell_type": "code",
   "execution_count": 2,
   "metadata": {},
   "outputs": [],
   "source": [
    "def close_compare(a, b, margin):\n",
    "    result = a-b\n",
    "    case = abs(result) > margin\n",
    "    if result < margin and case:\n",
    "        return -1\n",
    "    elif result > margin:\n",
    "        return 1\n",
    "    else:\n",
    "        return 0"
   ]
  },
  {
   "cell_type": "markdown",
   "metadata": {},
   "source": [
    "## Is my friend cheating?\n",
    "\n",
    "* A friend of mine takes the sequence of all numbers from 1 to n (where n > 0).\n",
    "* Within that sequence, he chooses two numbers, a and b.\n",
    "* He says that the product of a and b should be equal to the sum of all numbers in the sequence, excluding a and b.\n",
    "* Given a number n, could you tell me the numbers he excluded from the sequence?\n",
    "\n",
    "The function takes the parameter: `n` (n is always strictly greater than 0) and returns an array or a string (depending on the language) of the form:\n",
    "\n",
    "`[(a, b), ...] or [[a, b], ...] or {{a, b}, ...} or or [{a, b}, ...]`\n",
    "\n",
    "with all `(a, b)` which are the possible removed numbers in the sequence `1` to `n`.\n",
    "\n",
    "`[(a, b), ...] or [[a, b], ...] or {{a, b}, ...} or ... ` will be sorted in increasing order of the \"a\".\n",
    "\n",
    "It happens that there are several possible (a, b). The function returns an empty array (or an empty string) if no possible numbers are found which will prove that my friend has not told the truth! (Go: in this case return nil).\n",
    "### Examples:\n",
    "```python\n",
    "removNb(26) should return [(15, 21), (21, 15)]\n",
    "or\n",
    "removNb(26) should return { {15, 21}, {21, 15} }\n",
    "or\n",
    "removeNb(26) should return [[15, 21], [21, 15]]\n",
    "or\n",
    "removNb(26) should return [ {15, 21}, {21, 15} ]\n",
    "or\n",
    "removNb(26) should return \"15 21, 21 15\"\n",
    "```\n",
    "or\n",
    "```c\n",
    "in C:\n",
    "removNb(26) should return  {{15, 21}{21, 15}} tested by way of strings.\n",
    "Function removNb should return a pointer to an allocated array of Pair pointers, each one also allocated. \n",
    "```\n"
   ]
  },
  {
   "cell_type": "code",
   "execution_count": 4,
   "metadata": {},
   "outputs": [],
   "source": [
    "def remov_nb(n):\n",
    "    s = n * (n+1)/2\n",
    "    results = []\n",
    "    for i in range(1, n+1):\n",
    "        a = (s-i) / (i+1)\n",
    "        if a == int(a) and a!=i and a <=n:\n",
    "            results.append((int(i),int(a)))\n",
    "    return results"
   ]
  },
  {
   "cell_type": "markdown",
   "metadata": {},
   "source": [
    "## Golf [Code Golf]\n",
    "### Basic golf rules\n",
    "\n",
    "You find yourself in a rectangular golf field like this one (ignore the borders):\n",
    "```\n",
    "+----------+\n",
    "| **    ***|\n",
    "|       ***|\n",
    "|****##    |\n",
    "|    **    |\n",
    "|*        F|\n",
    "+----------+\n",
    "```\n",
    "In these fields you can find empty spaces, bushes (`*`), walls (`#`) and a flag (`F`). You start from a position with coordinates `(i, j)` (row, column), with `(0, 0)` being at the top-left corner.\n",
    "\n",
    "From the position you are on, you can hit the ball in a straight horizontal or vertical line, having it land on any empty space.\n",
    "```\n",
    "# P -> Player, B -> Possible ball hit\n",
    "+----------+\n",
    "| ** B  ***|\n",
    "|BBBBPBB***|\n",
    "|******    |\n",
    "|    **    |\n",
    "|*   B    F|\n",
    "+----------+\n",
    "```\n",
    "As you can see, the ball cannot land on bushes. Also, walls stop the ball in mid air, so it's impossible to throw the ball straight over them:\n",
    "```\n",
    "# P -> Player, B -> Possible ball hit\n",
    "+----------+\n",
    "| ** B  ***|\n",
    "|  #BPBB***|\n",
    "|******    |\n",
    "|    #*    |\n",
    "|*        F|\n",
    "+----------+\n",
    "```\n",
    "You can assume that the player moves to the position the ball was thrown in inmediately regardless of physical limitations (walking over bushes and stuff like that).\n",
    "### Your task\n",
    "\n",
    "Write a function `golf(field: List[str], i: int, j: int, hits: int)` that returns `True` when it is possible for the ball to reach the flag in `hits` movements or less and `False` in any other case. We define a movement as a `hit` with the rules mentioned in the previous section.\n",
    "\n",
    "The `field` argument will be given as a `list of str` and can be mutated, but it is not necessary to complete this task.\n",
    "### Golf 2\n",
    "\n",
    "Again, you have a character limit to complete this task. In this case it's `200 characters or less`, and written on one single line, but I might try to lower it depending on how you guys do ;D\n",
    "### Test data\n",
    "\n",
    "Your function will be tested against many fields that will be of size __12x12__ at most with a maximum of `5 hits`, as well as some fixed examples that are a bit more __human-readable and exact__. Also, you will always start from an empty space somewhere in the map.\n",
    "### Examples\n",
    "```\n",
    "Starting from (0, 0)\n",
    "+----------+\n",
    "|0**   1***|\n",
    "|       ***|\n",
    "|******    | => Doable in 3 hits\n",
    "|    **    |\n",
    "|*     2  F|\n",
    "+----------+\n",
    "\n",
    "Starting from (0, 0)\n",
    "+----------+\n",
    "|0**    ***|\n",
    "|       ***|\n",
    "|***####   | => Doable in 4 hits\n",
    "|1 2#**    |\n",
    "|* 3      F|\n",
    "+----------+\n",
    "\n",
    "Starting from (0, 0)\n",
    "+----------+\n",
    "|0**    ***|\n",
    "|       ***|\n",
    "|***####   | => Impossible (note the walls)\n",
    "|   #**    |\n",
    "|*  #     F|\n",
    "+----------+\n",
    "```\n",
    "### Hope you have fun and obliterate my char counts as always :D\n",
    "\n",
    "_Marginal note: if you happen to be wondering why this is a code golf kata, the main reason is because I find it funny._\n"
   ]
  },
  {
   "cell_type": "code",
   "execution_count": 2,
   "metadata": {},
   "outputs": [],
   "source": [
    "def golf(f: list[str], i: int, j: int, hits: int):\n",
    "    f_len = len(f)\n",
    "    f_horz = len(f[0])\n",
    "    f_pos = [f_horz-1, f_len-1]\n",
    "    B_target = []\n",
    "    doable_horz = 5\n",
    "    for pos in range(1,f_len):\n",
    "        f[-1]\n",
    "        \n",
    "    pass"
   ]
  },
  {
   "cell_type": "markdown",
   "metadata": {},
   "source": [
    "## Human readable duration format\n",
    "Your task in order to complete this Kata is to write a function which formats a duration, given as a number of seconds, in a human-friendly way.\n",
    "\n",
    "The function must accept a non-negative integer. If it is zero, it just returns `\"now\"`. Otherwise, the duration is expressed as a combination of `years`, `days`, `hours`, `minutes` and `seconds`.\n",
    "\n",
    "It is much easier to understand with an example:\n",
    "```python\n",
    "format_duration(62)    # returns \"1 minute and 2 seconds\"\n",
    "format_duration(3662)  # returns \"1 hour, 1 minute and 2 seconds\"\n",
    "```\n",
    "\n",
    "For the purpose of this Kata, __a year is 365 days and a day is 24 hours__.\n",
    "\n",
    "Note that _spaces_ are important.\n",
    "### Detailed rules\n",
    "\n",
    "The resulting expression is made of components like `4 seconds`, `1 year`, etc. In general, a positive integer and one of the valid units of time, separated by a space. The unit of time is used in plural if the integer is greater than 1.\n",
    "\n",
    "The components are separated by a comma and a space `(\", \")`. Except the last component, which is separated by `\" and \"`, just like it would be written in English.\n",
    "\n",
    "A more significant units of time will occur before than a least significant one. Therefore, `1 second and 1 year` is not correct, but `1 year and 1 second` is.\n",
    "\n",
    "Different components have different unit of times. So there is not repeated units like in `5 seconds and 1 second`.\n",
    "\n",
    "A component will not appear at all if its value happens to be zero. Hence, `1 minute and 0 seconds` is not valid, but it should be just `1 minute`.\n",
    "\n",
    "A unit of time must be used \"as much as possible\". It means that the function should not return `61 seconds`, but `1 minute and 1 second` instead. Formally, the duration specified by of a component must not be greater than any valid more significant unit of time.\n"
   ]
  },
  {
   "cell_type": "code",
   "execution_count": 67,
   "metadata": {},
   "outputs": [],
   "source": [
    "def format_duration(seconds):\n",
    "    \"\"\"\n",
    "    The format of time in seconds\n",
    "    \"\"\"\n",
    "    minute = 60\n",
    "    hour = minute*60\n",
    "    day = hour*24\n",
    "    year = day*365\n",
    "    time_units = [year, day, hour, minute]\n",
    "    time_categories = ['year', 'day', 'hour', 'minute', 'second']\n",
    "    add = ', '\n",
    "    end = ' and '\n",
    "    \n",
    "    # as rule said\n",
    "    if seconds == 0:\n",
    "        return 'now'\n",
    "    \n",
    "    duration = []\n",
    "    plural = []\n",
    "    # time units range revesed\n",
    "    for unit in range(len(time_units)):\n",
    "        time = int(seconds/time_units[unit])\n",
    "        if time >= 1:\n",
    "            seconds = seconds - time_units[unit]*time\n",
    "        duration.append(time)\n",
    "        plural.append(' {}s'.format(time_categories[unit]) if time>1 else ' {}'.format(time_categories[unit]))\n",
    "        \n",
    "    # adding the rest seconds if exist\n",
    "    duration.append(seconds)\n",
    "    plural.append(' seconds' if seconds>1 else ' second')\n",
    "    def formating(duration: list[int], plural: list[str]):\n",
    "        formated = []\n",
    "        for i in range(len(duration)):\n",
    "            if duration[i]!=0:\n",
    "                formated.append(str(duration[i])+plural[i])\n",
    "        return formated\n",
    "\n",
    "    formated = formating(duration, plural)\n",
    "    \n",
    "    time_out = '{}'.format(formated[0])\n",
    "    l = len(formated)\n",
    "    if l > 1: \n",
    "        for i in range(1,l):\n",
    "            if formated[i] == formated[-1]:\n",
    "                time_out = time_out+ end +formated[i]\n",
    "            else:\n",
    "                time_out = time_out+ add +formated[i]\n",
    "    return time_out\n"
   ]
  },
  {
   "cell_type": "code",
   "execution_count": 69,
   "metadata": {},
   "outputs": [
    {
     "data": {
      "text/plain": [
       "'2 minutes'"
      ]
     },
     "execution_count": 69,
     "metadata": {},
     "output_type": "execute_result"
    }
   ],
   "source": [
    "format_duration(120)"
   ]
  },
  {
   "cell_type": "markdown",
   "metadata": {},
   "source": [
    "### Another Solution\n",
    "```python\n",
    "times = [(\"year\", 365 * 24 * 60 * 60), \n",
    "         (\"day\", 24 * 60 * 60),\n",
    "         (\"hour\", 60 * 60),\n",
    "         (\"minute\", 60),\n",
    "         (\"second\", 1)]\n",
    "\n",
    "def format_duration(seconds):\n",
    "\n",
    "    if not seconds:\n",
    "        return \"now\"\n",
    "\n",
    "    chunks = []\n",
    "    for name, secs in times:\n",
    "        qty = seconds // secs\n",
    "        if qty:\n",
    "            if qty > 1:\n",
    "                name += \"s\"\n",
    "            chunks.append(str(qty) + \" \" + name)\n",
    "\n",
    "        seconds = seconds % secs\n",
    "\n",
    "    return ', '.join(chunks[:-1]) + ' and ' + chunks[-1] if len(chunks) > 1 else chunks[0]\n",
    "```\n"
   ]
  },
  {
   "cell_type": "markdown",
   "metadata": {},
   "source": [
    "## V A P O R C O D E\n",
    "### ASC Week 1 Challenge 4 (Medium #1)\n",
    "\n",
    "Write a function that converts any sentence into a V A P O R W A V E sentence. a V A P O R W A V E sentence converts all the letters into uppercase, and adds 2 spaces between each letter (or special character) to create this V A P O R W A V E effect.\n",
    "Examples\n",
    "```\n",
    "\"Lets go to the movies\"       -->  \"L  E  T  S  G  O  T  O  T  H  E  M  O  V  I  E  S\"\n",
    "\"Why isn't my code working?\"  -->  \"W  H  Y  I  S  N  '  T  M  Y  C  O  D  E  W  O  R  K  I  N  G  ?\"\n",
    "```"
   ]
  },
  {
   "cell_type": "code",
   "execution_count": 70,
   "metadata": {},
   "outputs": [],
   "source": [
    "def vaporcode(s):\n",
    "    return '  '.join([i.upper() for i in s if i!=' '])"
   ]
  },
  {
   "cell_type": "markdown",
   "metadata": {},
   "source": [
    "## Floating-point Approximation (III)\n",
    "\n",
    "Professor Chambouliard has just completed an experiment on gravitational waves. He measures their effects on small magnetic particles. This effect is very small and negative. In his first experiment the effect satisfies the equation:\n",
    "\n",
    "`x**2 + 1e9 * x + 1 = 0.`\n",
    "\n",
    "Professor C. knows how to solve equations of the form:\n",
    "\n",
    "`g(x) = a x ** 2 + b x + c = 0 (1)`\n",
    "\n",
    "using the \"discriminant\".\n",
    "\n",
    "It finds that the roots of `x**2 + 1e9 * x + 1 = 0` are `x1 = -1e9` and `x2 = 0`. The value of `x1` - good or bad - does not interest him because its absolute value is too big.\n",
    "\n",
    "On the other hand, he sees immediately that the value of `x2` is not suitable!\n",
    "\n",
    "He asks our help to solve equations of type (1) with `a, b, c strictly positive numbers`, and `b being large (b >= 10 ** 9)`.\n",
    "\n",
    "Professor C. will check your result `x2` (the smaller root in absolute value. Don't return the other root!) by reporting x2 in (1) and seeing if `abs(g(x2)) < 1e-12`.\n",
    "Task:\n",
    "\n",
    "`solve(a, b, c)`\n",
    "\n",
    "that will return the \"solution\" `x2` of (1) such as `abs(a * x2 ** 2 + b * x2 + c) < 1e-12`.\n",
    "Example:\n",
    "\n",
    "for equation `7*x**2 + 0.40E+14 * x + 8 = 0` we can find: `x2 = -2e-13` which verifies `abs(g(x)) < 1e-12`.\n"
   ]
  },
  {
   "cell_type": "code",
   "execution_count": 5,
   "metadata": {},
   "outputs": [
    {
     "data": {
      "text/latex": [
       "$\\displaystyle -5714285714285.71$"
      ],
      "text/plain": [
       "-5714285714285.71"
      ]
     },
     "execution_count": 5,
     "metadata": {},
     "output_type": "execute_result"
    }
   ],
   "source": [
    "from sympy import solve, symbols\n",
    "def quadratic(a, b, c):\n",
    "    x = symbols('x')\n",
    "    expr = ( (a*(x**2)) + (b*x) + c)\n",
    "    return solve(expr)[0]\n",
    "\n",
    "quadratic(7, 4.00e+13, 8)"
   ]
  },
  {
   "cell_type": "markdown",
   "metadata": {},
   "source": [
    "## Mumbling\n",
    "This time no story, no theory. The examples below show you how to write function `accum`:\n",
    "\n",
    "__Examples:-__\n",
    "```\n",
    "accum(\"abcd\") -> \"A-Bb-Ccc-Dddd\"\n",
    "accum(\"RqaEzty\") -> \"R-Qq-Aaa-Eeee-Zzzzz-Tttttt-Yyyyyyy\"\n",
    "accum(\"cwAt\") -> \"C-Ww-Aaa-Tttt\"\n",
    "```\n",
    "\n",
    "The parameter of accum is a string which includes only letters from `a..z` and `A..Z`.\n"
   ]
  },
  {
   "cell_type": "code",
   "execution_count": 11,
   "metadata": {},
   "outputs": [
    {
     "data": {
      "text/plain": [
       "['T', 'Hh', 'Ooo', 'Mmmm', 'Aaaaa', 'Ssssss']"
      ]
     },
     "execution_count": 11,
     "metadata": {},
     "output_type": "execute_result"
    }
   ],
   "source": [
    "def accum(s):\n",
    "    list_s = []\n",
    "    for i in range(0,len(s)):\n",
    "        list_s.append(s[i].upper()+(s[i].lower()*i))\n",
    "    return '-'.join(list_s)\n",
    "\n",
    "accum('Thomas')"
   ]
  },
  {
   "cell_type": "markdown",
   "metadata": {},
   "source": [
    "## The observed PIN\n",
    "Alright, detective, one of our colleagues successfully observed our target person, Robby the robber. We followed him to a secret warehouse, where we assume to find all the stolen stuff. The door to this warehouse is secured by an electronic combination lock. Unfortunately our spy isn't sure about the PIN he saw, when Robby entered it.\n",
    "\n",
    "The keypad has the following layout:\n",
    "```\n",
    "┌───┬───┬───┐\n",
    "│ 1 │ 2 │ 3 │\n",
    "├───┼───┼───┤\n",
    "│ 4 │ 5 │ 6 │\n",
    "├───┼───┼───┤\n",
    "│ 7 │ 8 │ 9 │\n",
    "└───┼───┼───┘\n",
    "    │ 0 │\n",
    "    └───┘\n",
    "```\n",
    "He noted the PIN `1357`, but he also said, it is possible that each of the digits he saw could actually be another adjacent digit (horizontally or vertically, but not diagonally). E.g. instead of the `1` it could also be the `2` or `4`. And instead of the `5` it could also be the `2, 4, 6` or `8`.\n",
    "\n",
    "He also mentioned, he knows this kind of locks. You can enter an unlimited amount of wrong PINs, they never finally lock the system or sound the alarm. That's why we can try out all possible (*) variations.\n",
    "\n",
    "* possible in sense of: the observed PIN itself and all variations considering the adjacent digits\n",
    "\n",
    "Can you help us to find all those variations? It would be nice to have a function, that returns a list (or an array in Java and C#) of all variations for an observed PIN with a length of 1 to 8 digits. We could name the function `getPINs` (`get_pins` in python, `GetPINs` in C#). But please note that all PINs, the observed one and also the results, must be strings, because of potentially leading '0's. We already prepared some test cases for you.\n",
    "\n",
    "Detective, we are counting on you!\n",
    "\n",
    "For C# user: Do not use Mono. Mono is too slower when run your code"
   ]
  },
  {
   "cell_type": "code",
   "execution_count": 62,
   "metadata": {},
   "outputs": [
    {
     "name": "stdout",
     "output_type": "stream",
     "text": [
      "[['2', '4', '1'], ['2', '4', '1']]\n"
     ]
    },
    {
     "data": {
      "text/plain": [
       "['22', '24', '21', '42', '44', '41', '12', '14', '11']"
      ]
     },
     "execution_count": 62,
     "metadata": {},
     "output_type": "execute_result"
    }
   ],
   "source": [
    "from itertools import permutations\n",
    "def get_pins(observed):\n",
    "    l = len(observed)\n",
    "    possibilities = []\n",
    "    pins = []\n",
    "    def conditions(n):\n",
    "        first = n-1 if n-1>0 and n not in [4,7] else None\n",
    "        second = n+1 if n+1<10 and n%3!=0 and n!=0 else None\n",
    "        third = n-3 if n-3>0 else None\n",
    "        fourth = n+3 if n+3<10 and n!=0 else None\n",
    "        result = [first, second, third, fourth, n]\n",
    "        if n == 8:\n",
    "            result.append('0')\n",
    "        elif n == 0:\n",
    "            result.append('8')\n",
    "        return [str(i) for i in result if i!=None]\n",
    "    for i in observed:\n",
    "        possibilities.append(conditions(int(i)))\n",
    "    print(possibilities)\n",
    "    for item in possibilities[0]:\n",
    "        for other_item in possibilities[1]:\n",
    "            pins.append(f'{item}{other_item}')\n",
    "        \n",
    "    return pins\n",
    "\n",
    "get_pins('11')"
   ]
  },
  {
   "cell_type": "markdown",
   "metadata": {},
   "source": [
    "## Mdi\n",
    "there is a library in Dart called Mdi which has MediaIconData methods for alphabetical letters (letters as Icons) the problem that we need to call the Appropriate method for the given letter.\n",
    "\n",
    "__Note__ : in Python there is `eval()`\n",
    "Your task to make a dic has a string letter as key and Mdi Method as a value\n",
    "```python\n",
    "#Given letter (Z)\n",
    "{'Z' : Mdi.alphaZCircle,} #output\n",
    "```"
   ]
  },
  {
   "cell_type": "code",
   "execution_count": 10,
   "metadata": {},
   "outputs": [
    {
     "ename": "NameError",
     "evalue": "name 'alphaACircle' is not defined",
     "output_type": "error",
     "traceback": [
      "\u001b[0;31m---------------------------------------------------------------------------\u001b[0m",
      "\u001b[0;31mNameError\u001b[0m                                 Traceback (most recent call last)",
      "\u001b[0;32m<ipython-input-10-6fc199a3b14b>\u001b[0m in \u001b[0;36m<module>\u001b[0;34m\u001b[0m\n\u001b[1;32m      6\u001b[0m         \u001b[0mmy_dic\u001b[0m\u001b[0;34m[\u001b[0m\u001b[0mletter\u001b[0m\u001b[0;34m]\u001b[0m \u001b[0;34m=\u001b[0m \u001b[0meval\u001b[0m\u001b[0;34m(\u001b[0m\u001b[0;34mf'alpha{letter}Circle'\u001b[0m\u001b[0;34m)\u001b[0m\u001b[0;34m\u001b[0m\u001b[0;34m\u001b[0m\u001b[0m\n\u001b[1;32m      7\u001b[0m     \u001b[0;32mreturn\u001b[0m \u001b[0mmy_dic\u001b[0m\u001b[0;34m\u001b[0m\u001b[0;34m\u001b[0m\u001b[0m\n\u001b[0;32m----> 8\u001b[0;31m \u001b[0mmdi\u001b[0m\u001b[0;34m(\u001b[0m\u001b[0;34m)\u001b[0m\u001b[0;34m\u001b[0m\u001b[0;34m\u001b[0m\u001b[0m\n\u001b[0m",
      "\u001b[0;32m<ipython-input-10-6fc199a3b14b>\u001b[0m in \u001b[0;36mmdi\u001b[0;34m()\u001b[0m\n\u001b[1;32m      4\u001b[0m     \u001b[0malpabetical\u001b[0m \u001b[0;34m=\u001b[0m \u001b[0mlist\u001b[0m\u001b[0;34m(\u001b[0m\u001b[0mstring\u001b[0m\u001b[0;34m.\u001b[0m\u001b[0mascii_uppercase\u001b[0m\u001b[0;34m)\u001b[0m\u001b[0;34m\u001b[0m\u001b[0;34m\u001b[0m\u001b[0m\n\u001b[1;32m      5\u001b[0m     \u001b[0;32mfor\u001b[0m \u001b[0mletter\u001b[0m \u001b[0;32min\u001b[0m \u001b[0malpabetical\u001b[0m\u001b[0;34m:\u001b[0m\u001b[0;34m\u001b[0m\u001b[0;34m\u001b[0m\u001b[0m\n\u001b[0;32m----> 6\u001b[0;31m         \u001b[0mmy_dic\u001b[0m\u001b[0;34m[\u001b[0m\u001b[0mletter\u001b[0m\u001b[0;34m]\u001b[0m \u001b[0;34m=\u001b[0m \u001b[0meval\u001b[0m\u001b[0;34m(\u001b[0m\u001b[0;34mf'alpha{letter}Circle'\u001b[0m\u001b[0;34m)\u001b[0m\u001b[0;34m\u001b[0m\u001b[0;34m\u001b[0m\u001b[0m\n\u001b[0m\u001b[1;32m      7\u001b[0m     \u001b[0;32mreturn\u001b[0m \u001b[0mmy_dic\u001b[0m\u001b[0;34m\u001b[0m\u001b[0;34m\u001b[0m\u001b[0m\n\u001b[1;32m      8\u001b[0m \u001b[0mmdi\u001b[0m\u001b[0;34m(\u001b[0m\u001b[0;34m)\u001b[0m\u001b[0;34m\u001b[0m\u001b[0;34m\u001b[0m\u001b[0m\n",
      "\u001b[0;32m<string>\u001b[0m in \u001b[0;36m<module>\u001b[0;34m\u001b[0m\n",
      "\u001b[0;31mNameError\u001b[0m: name 'alphaACircle' is not defined"
     ]
    }
   ],
   "source": [
    "import string\n",
    "def mdi():\n",
    "    my_dic = {}\n",
    "    alpabetical = list(string.ascii_uppercase)\n",
    "    for letter in alpabetical:\n",
    "        my_dic[letter] = f'Mdi.alpha{letter}Circle'\n",
    "    return my_dic\n",
    "mdi()"
   ]
  },
  {
   "cell_type": "markdown",
   "metadata": {},
   "source": [
    "## Strong Number (Special Numbers Series #2) \n",
    "\n",
    "### Definition\n",
    "\n",
    "Strong number is the number that the _sum of the factorial of its digits_ is equal to number itself.\n",
    "For example: `145`, since\n",
    "\n",
    "`1! + 4! + 5! = 1 + 24 + 120 = 145`\n",
    "\n",
    "So, __145 is a __Strong__ number.\n",
    "### Task\n",
    "\n",
    "Given a number, Find if it is __Strong__ or not.\n",
    "### Notes\n",
    "\n",
    "* Number passed is always Positive.\n",
    "* Return the result as String\n",
    "\n",
    "### Input >> Output Examples\n",
    "\n",
    "`strong_num(1) ==> return \"STRONG!!!!\"`\n",
    "\n",
    "### _Explanation_:\n",
    "\n",
    "Since, _the sum of its digits' factorial of (1) is equal to number itself (1) , __Then___ its a __Strong__ .\n",
    "\n",
    "`strong_num(123) ==> return \"Not Strong !!\"`\n",
    "\n",
    "### _Explanation_:\n",
    "\n",
    "Since, _the sum of its digits' factorial of 1! + 2! + 3! = 9 is not equal to number itself (123) , Then it's __Not Strong___ .\n",
    "\n",
    "`strong_num(2)  ==>  return \"STRONG!!!!\"`\n",
    "\n",
    "### _Explanation_:\n",
    "\n",
    "Since _the sum of its digits' factorial of 2! = 2 is equal to number itself (2) , Then its a __Strong___ .\n",
    "\n",
    "### Enjoy Learning !!\n",
    "\n"
   ]
  },
  {
   "cell_type": "code",
   "execution_count": 11,
   "metadata": {},
   "outputs": [
    {
     "name": "stdout",
     "output_type": "stream",
     "text": [
      "STRONG!!!!\n"
     ]
    }
   ],
   "source": [
    "def strong_num(n):\n",
    "    str_n = list(str(n))\n",
    "    total = 0\n",
    "    for m in range(len(str_n)):\n",
    "        factorial = 1\n",
    "        for i in range(1,int(str_n[m])+1):\n",
    "            factorial *= i\n",
    "        total += factorial\n",
    "    return 'STRONG!!!!' if n == total else 'Not Strong !!'\n",
    "print(strong_num(145))"
   ]
  },
  {
   "cell_type": "markdown",
   "metadata": {},
   "source": [
    "## Balanced Number (Special Numbers Series #1 ) \n",
    "### Definition\n",
    "\n",
    "__Balanced number__ is the number that ___The sum of all digits to the left of the middle digit(s) and the sum of all digits to the right of the middle digit(s) are equal___.\n",
    "### Task\n",
    "\n",
    "_Given a number, Find if it is __Balanced__ or __not__ .\n",
    "\n",
    "### Notes\n",
    "\n",
    "* If the number has an odd number of digits then there is only one middle digit, e.g. `92645` has middle digit `6`; otherwise, there are two middle digits , e.g. `1301` has middle digits `3` and `0`\n",
    "\n",
    "* The middle digit(s) should not be considered when determining whether a number is balanced or not, e.g `413023` is a balanced number because the left sum and right sum are both `5`.\n",
    "\n",
    "* Number passed is always __Positive__ .\n",
    "\n",
    "* Return the result as __String__\n",
    "\n",
    "Input >> Output Examples\n",
    "\n",
    "`(balanced-num 7) ==> return \"Balanced\"`\n",
    "\n",
    "### _Explanation_:\n",
    "\n",
    "Since , _The sum of all digits to the left of the middle digit (0)\n",
    "and the sum of all digits to the right of the middle digit (0) are equal , then It's __Balanced___\n",
    "\n",
    "`(balanced-num 295591) ==> return \"Not Balanced\"`\n",
    "\n",
    "### _Explanation_:\n",
    "\n",
    "Since, _The sum of all digits to the left of the middle digits (11)\n",
    "and the sum of all digits to the right of the middle digits (10) are Not equal , then It's __Not Balanced___\n",
    "\n",
    "___Note : The middle digit(s) are 55 ___.\n",
    "\n",
    "Enjoy Learning !!\n",
    "Zizou"
   ]
  },
  {
   "cell_type": "code",
   "execution_count": 44,
   "metadata": {},
   "outputs": [
    {
     "name": "stdout",
     "output_type": "stream",
     "text": [
      "13\n",
      "13\n",
      "Balanced\n"
     ]
    }
   ],
   "source": [
    "def balanced_num(n):\n",
    "    str_n = list(str(n))\n",
    "    l_div = len(str_n)/2\n",
    "    mid = [int(l_div)] if l_div%1 != 0 else [int(l_div)-1, int(l_div)]\n",
    "    list_n = [int(i) for i in str_n]\n",
    "    print(sum(list_n[:mid[0]:]))\n",
    "    print(sum(list_n[mid[1]+1::]))\n",
    "    if len(mid)>1:\n",
    "        return 'Balanced' if sum(list_n[:mid[0]:]) == sum(list_n[mid[1]+1::]) else 'Not Balanced'\n",
    "    else:\n",
    "        return 'Balanced' if sum(list_n[:mid[0]+1:]) == sum(list_n[mid[0]::]) else 'Not Balanced'\n",
    "\n",
    "print(balanced_num(56239814))"
   ]
  },
  {
   "cell_type": "markdown",
   "metadata": {},
   "source": [
    "## Disarium Number (Special Numbers Series #3)\n",
    "### Definition\n",
    "\n",
    "Disarium number is the _number that The sum of its digits powered with their respective positions is equal to the number itself_.\n",
    "### Task\n",
    "\n",
    "Given a number, Find if it is `Disarium or not` .\n",
    "\n",
    "### Notes\n",
    "\n",
    "* Number passed is always Positive .\n",
    "* Return the result as String\n",
    "\n",
    "### Input >> Output Examples\n",
    "\n",
    "`disariumNumber(89) ==> return \"Disarium !!\"`\n",
    "\n",
    "#### Explanation:\n",
    "\n",
    "Since , `81 + 92 = 89 `, thus output is `\"Disarium !!\"`\n",
    "\n",
    "`disariumNumber(564) ==> return \"Not !!\"`\n",
    "\n",
    "#### Explanation:\n",
    "\n",
    "Since , `51 + 62 + 43 = 105 != 564` , thus output is `\"Not !!\"`\n",
    "\n",
    "### Enjoy Learning !!\n",
    "Zizou\n"
   ]
  },
  {
   "cell_type": "code",
   "execution_count": 15,
   "metadata": {},
   "outputs": [
    {
     "name": "stdout",
     "output_type": "stream",
     "text": [
      "Disarium !!\n"
     ]
    }
   ],
   "source": [
    "def disarium_number(n):\n",
    "    list_n = list(str(n))\n",
    "    disarium = 0\n",
    "    for i in range(1,len(list_n)+1):\n",
    "        disarium += int(list_n[i-1]) **i\n",
    "        \"\"\"\n",
    "        better to use enemurate Func\n",
    "        return \"Disarium !!\" if n == sum(int(d)**i for i, d in enumerate(str(n), 1)) else \"Not !!\"\n",
    "        \"\"\"\n",
    "    return 'Disarium !!' if disarium == n else 'Not !!'\n",
    "\n",
    "print(disarium_number(89))"
   ]
  },
  {
   "cell_type": "markdown",
   "metadata": {},
   "source": [
    "## Bit Counting\n",
    "Write a function that takes an __integer as input__, and returns the number of __bits__ that are equal to ___one___ in the binary representation of that number. You can guarantee that input is non-negative.\n",
    "\n",
    "Example: The binary representation of `1234` is `10011010010`, so the function should return `5` in this case\n"
   ]
  },
  {
   "cell_type": "code",
   "execution_count": 1,
   "metadata": {},
   "outputs": [],
   "source": [
    "def count_bits(n):\n",
    "    return list(bin(n)[2:])\n",
    "\n",
    "print(count_bits(1234))"
   ]
  },
  {
   "cell_type": "markdown",
   "metadata": {},
   "source": [
    "## Unique in Order\n",
    "Implement the function unique_in_order which takes as argument a sequence and returns a list of items without any elements with the same value next to each other and preserving the original order of elements.\n",
    "\n",
    "For example:\n",
    "```python\n",
    "unique_in_order('AAAABBBCCDAABBB') == ['A', 'B', 'C', 'D', 'A', 'B']\n",
    "unique_in_order('ABBCcAD')         == ['A', 'B', 'C', 'c', 'A', 'D']\n",
    "unique_in_order([1,2,2,3,3])       == [1,2,3]\n",
    "```\n"
   ]
  },
  {
   "cell_type": "code",
   "execution_count": 2,
   "metadata": {},
   "outputs": [],
   "source": [
    "def unique_in_order(iterable):\n",
    "    list_a = []\n",
    "    for i in iterable:\n",
    "        if len(list_a) > 0:\n",
    "            if i != list_a[-1]:\n",
    "                list_a.append(i)\n",
    "        else:\n",
    "            list_a.append(i)\n",
    "    return list_a"
   ]
  },
  {
   "cell_type": "markdown",
   "metadata": {},
   "source": [
    "## Find The Parity Outlier\n",
    "You are given an array (which will have a length of at least 3, but could be very large) containing integers. The array is either entirely comprised of odd integers or entirely comprised of even integers except for a single integer `N`. Write a method that takes the array as an argument and returns this \"outlier\" `N`.\n",
    "### Examples\n",
    "```python\n",
    "[2, 4, 0, 100, 4, 11, 2602, 36]\n",
    "Should return: 11 (the only odd number)\n",
    "\n",
    "[160, 3, 1719, 19, 11, 13, -21]\n",
    "Should return: 160 (the only even number)\n",
    "```\n"
   ]
  },
  {
   "cell_type": "code",
   "execution_count": 3,
   "metadata": {},
   "outputs": [],
   "source": [
    "def find_outlier(integers):\n",
    "    odd = []\n",
    "    even = []\n",
    "    for i in integers:\n",
    "        if i %2 == 0:\n",
    "            even.append(i)\n",
    "        else:\n",
    "            odd.append(i)\n",
    "    if len(odd)==1:\n",
    "        return odd[0]\n",
    "    return even[0]"
   ]
  },
  {
   "cell_type": "markdown",
   "metadata": {},
   "source": [
    "## Twice linear\n",
    "Consider a sequence u where u is defined as follows:\n",
    "\n",
    "* The number u(0) = 1 is the first one in u.\n",
    "* For each x in u, then y = 2 * x + 1 and z = 3 * x + 1 must be in u too.\n",
    "* There are no other numbers in u.\n",
    "\n",
    "Ex: `u = [1, 3, 4, 7, 9, 10, 13, 15, 19, 21, 22, 27, ...]`\n",
    "\n",
    "1 gives 3 and 4, then 3 gives 7 and 10, 4 gives 9 and 13, then 7 gives 15 and 22 and so on...\n",
    "### Task:\n",
    "\n",
    "Given parameter `n` the function `dbl_linear `(or dblLinear...) returns the element `u(n)` of the ordered (with <) sequence `u` (so, there are no duplicates).\n",
    "### Example:\n",
    "\n",
    "`dbl_linear(10) should return 22`\n",
    "### Note:\n",
    "\n",
    "Focus attention on efficiency\n"
   ]
  },
  {
   "cell_type": "code",
   "execution_count": 52,
   "metadata": {},
   "outputs": [
    {
     "name": "stdout",
     "output_type": "stream",
     "text": [
      "80914\n"
     ]
    }
   ],
   "source": [
    "def y_function(x):\n",
    "    return 2 * x + 1\n",
    "\n",
    "def z_function(x):\n",
    "    return 3 * x + 1\n",
    "\n",
    "def dbl_linear(n):\n",
    "    u = [1]\n",
    "    l = 0\n",
    "    while l <= n*(len(str(n))):\n",
    "        u.append(y_function(u[l]))\n",
    "        u.append(z_function(u[l]))\n",
    "        l += 1\n",
    "    \n",
    "    return sorted(list(set(u)))[n]\n",
    "\n",
    "print(dbl_linear(6000))"
   ]
  },
  {
   "cell_type": "markdown",
   "metadata": {},
   "source": [
    "## Two Sum\n",
    "Write a function that takes an array of numbers (integers for the tests) and a target number. It should find two different items in the array that, when added together, give the target value. The indices of these items should then be returned in a tuple / list (depending on your language) like so: `(index1, index2)`.\n",
    "\n",
    "For the purposes of this kata, some tests may have multiple answers; any valid solutions will be accepted.\n",
    "\n",
    "The input will always be valid (numbers will be an array of length 2 or greater, and all of the items will be numbers; target will always be the sum of two different items from that array).\n",
    "\n",
    "Based on: http://oj.leetcode.com/problems/two-sum/\n",
    "\n",
    "`two_sum([1, 2, 3], 4) # returns [0, 2] or [2, 0]`\n",
    "\n",
    "### Example 1:\n",
    "\n",
    "__Input:__ `nums = [2,7,11,15],` __target = 9__\n",
    "\n",
    "__Output:__ `[0,1]`\n",
    "\n",
    "__Explanation:__ __Because nums[0] + nums[1] == 9, we return [0, 1].__\n",
    "\n",
    "\n"
   ]
  },
  {
   "cell_type": "code",
   "execution_count": 5,
   "metadata": {},
   "outputs": [
    {
     "name": "stdout",
     "output_type": "stream",
     "text": [
      "[0, 2]\n"
     ]
    }
   ],
   "source": [
    "def two_sum(numbers, target):\n",
    "    for g in range(len(numbers)):\n",
    "        for i in range(len(numbers)):\n",
    "            if numbers[g]+numbers[i] == target and g!=i:\n",
    "                return [g, i]\n",
    "            \n",
    "print(two_sum([1,2,3], 4))"
   ]
  },
  {
   "cell_type": "markdown",
   "metadata": {},
   "source": [
    "## Pair of gloves\n",
    "\n",
    "Winter is coming, you must prepare your ski holidays. The objective of this kata is to determine the number of pair of gloves you can constitute from the gloves you have in your drawer.\n",
    "\n",
    "Given an array describing the color of each glove, return the number of pairs you can constitute, assuming that only gloves of the same color can form pairs.\n",
    "### Examples:\n",
    "```python\n",
    "input = [\"red\", \"green\", \"red\", \"blue\", \"blue\"]\n",
    "result = 2 (1 red pair + 1 blue pair)\n",
    "\n",
    "input = [\"red\", \"red\", \"red\", \"red\", \"red\", \"red\"]\n",
    "result = 3 (3 red pairs)\n",
    "```\n"
   ]
  },
  {
   "cell_type": "code",
   "execution_count": 13,
   "metadata": {},
   "outputs": [
    {
     "name": "stdout",
     "output_type": "stream",
     "text": [
      "3\n"
     ]
    }
   ],
   "source": [
    " def number_of_pairs(gloves):\n",
    "    similarities = {i:gloves.count(i) for i in gloves}\n",
    "    result = 0\n",
    "    for i in similarities.values():\n",
    "        if i%2!=0 and i > 1:\n",
    "            result += i-1\n",
    "        elif i%2==0:\n",
    "            result += i \n",
    "    return result//2\n",
    "\n",
    "print(number_of_pairs([\"gray\",\"black\",\"purple\",\"purple\",\"gray\",\"black\"]))#3"
   ]
  },
  {
   "cell_type": "code",
   "execution_count": null,
   "metadata": {},
   "outputs": [],
   "source": []
  }
 ],
 "metadata": {
  "kernelspec": {
   "display_name": "Python 3 (ipykernel)",
   "language": "python",
   "name": "python3"
  },
  "language_info": {
   "codemirror_mode": {
    "name": "ipython",
    "version": 3
   },
   "file_extension": ".py",
   "mimetype": "text/x-python",
   "name": "python",
   "nbconvert_exporter": "python",
   "pygments_lexer": "ipython3",
   "version": "3.10.4"
  }
 },
 "nbformat": 4,
 "nbformat_minor": 4
}
